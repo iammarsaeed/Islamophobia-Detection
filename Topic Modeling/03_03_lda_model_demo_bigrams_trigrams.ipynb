{
 "cells": [
  {
   "cell_type": "markdown",
   "metadata": {},
   "source": [
    "## Importing the Required Libraries"
   ]
  },
  {
   "cell_type": "code",
   "execution_count": 1,
   "metadata": {},
   "outputs": [],
   "source": [
    "#https://www.machinelearningplus.com/nlp/topic-modeling-gensim-python/#1introduction\n",
    "import numpy as np\n",
    "import pandas as pd\n",
    "import json\n",
    "import glob\n",
    "# split data into train and test\n",
    "from sklearn.model_selection import train_test_split\n",
    "#Gensim\n",
    "import gensim\n",
    "import gensim.corpora as corpora\n",
    "from gensim.utils import simple_preprocess\n",
    "from gensim.models import CoherenceModel\n",
    "\n",
    "#spacy\n",
    "import spacy\n",
    "from nltk.corpus import stopwords\n",
    "\n",
    "#vis\n",
    "import pyLDAvis\n",
    "import pyLDAvis.gensim_models\n",
    "# SVM classifier from scikit learn\n",
    "from sklearn.svm import LinearSVC\n",
    "\n",
    "# confusion matrix\n",
    "from sklearn.metrics import confusion_matrix\n",
    "import seaborn as sns\n",
    "\n",
    "# cross validation for kfold\n",
    "from sklearn.model_selection import cross_val_score\n",
    "\n",
    "# calc accuracy\n",
    "from sklearn.metrics import accuracy_score \n",
    "from sklearn.metrics import classification_report\n",
    "\n",
    "import warnings\n",
    "warnings.filterwarnings(\"ignore\", category=DeprecationWarning)\n",
    "\n",
    "from sklearn.preprocessing import StandardScaler, MinMaxScaler\n",
    "\n",
    "\n",
    "\n",
    "%config InlineBackend.figure_formats = ['retina']\n",
    "from sklearn.metrics import f1_score\n",
    "from sklearn import linear_model\n",
    "from sklearn import metrics\n",
    "from sklearn.model_selection import KFold\n",
    "from sklearn.metrics import fbeta_score\n",
    "import matplotlib.pyplot as plt\n",
    "from sklearn.linear_model import LogisticRegression"
   ]
  },
  {
   "cell_type": "markdown",
   "metadata": {},
   "source": [
    "## Preparing the Data"
   ]
  },
  {
   "cell_type": "code",
   "execution_count": 2,
   "metadata": {},
   "outputs": [],
   "source": [
    "def load_data(file):\n",
    "    with open (file, \"r\", encoding=\"utf-8\") as f:\n",
    "        data = json.load(f) \n",
    "    return (data)\n",
    "\n",
    "def write_data(file, data):\n",
    "    with open (file, \"w\", encoding=\"utf-8\") as f:\n",
    "        json.dump(data, f, indent=4)\n"
   ]
  },
  {
   "cell_type": "code",
   "execution_count": 3,
   "metadata": {},
   "outputs": [],
   "source": [
    "stopwords = stopwords.words(\"english\")"
   ]
  },
  {
   "cell_type": "code",
   "execution_count": 4,
   "metadata": {},
   "outputs": [
    {
     "name": "stdout",
     "output_type": "stream",
     "text": [
      "['i', 'me', 'my', 'myself', 'we', 'our', 'ours', 'ourselves', 'you', \"you're\", \"you've\", \"you'll\", \"you'd\", 'your', 'yours', 'yourself', 'yourselves', 'he', 'him', 'his', 'himself', 'she', \"she's\", 'her', 'hers', 'herself', 'it', \"it's\", 'its', 'itself', 'they', 'them', 'their', 'theirs', 'themselves', 'what', 'which', 'who', 'whom', 'this', 'that', \"that'll\", 'these', 'those', 'am', 'is', 'are', 'was', 'were', 'be', 'been', 'being', 'have', 'has', 'had', 'having', 'do', 'does', 'did', 'doing', 'a', 'an', 'the', 'and', 'but', 'if', 'or', 'because', 'as', 'until', 'while', 'of', 'at', 'by', 'for', 'with', 'about', 'against', 'between', 'into', 'through', 'during', 'before', 'after', 'above', 'below', 'to', 'from', 'up', 'down', 'in', 'out', 'on', 'off', 'over', 'under', 'again', 'further', 'then', 'once', 'here', 'there', 'when', 'where', 'why', 'how', 'all', 'any', 'both', 'each', 'few', 'more', 'most', 'other', 'some', 'such', 'no', 'nor', 'not', 'only', 'own', 'same', 'so', 'than', 'too', 'very', 's', 't', 'can', 'will', 'just', 'don', \"don't\", 'should', \"should've\", 'now', 'd', 'll', 'm', 'o', 're', 've', 'y', 'ain', 'aren', \"aren't\", 'couldn', \"couldn't\", 'didn', \"didn't\", 'doesn', \"doesn't\", 'hadn', \"hadn't\", 'hasn', \"hasn't\", 'haven', \"haven't\", 'isn', \"isn't\", 'ma', 'mightn', \"mightn't\", 'mustn', \"mustn't\", 'needn', \"needn't\", 'shan', \"shan't\", 'shouldn', \"shouldn't\", 'wasn', \"wasn't\", 'weren', \"weren't\", 'won', \"won't\", 'wouldn', \"wouldn't\"]\n"
     ]
    }
   ],
   "source": [
    "print (stopwords)"
   ]
  },
  {
   "cell_type": "code",
   "execution_count": 5,
   "metadata": {},
   "outputs": [
    {
     "data": {
      "text/plain": [
       "0    '@Cricket_Mann And they will see more of it no...\n",
       "1    \"Juma'at Kareem to all my Muslim brother aroun...\n",
       "2    'Thorpe becomes England head coach for Pakista...\n",
       "3    '@ParZevil Plymouth Cricket. THREE transmissions.\n",
       "4    'jungkook didnâ€™t get caught eating food duri...\n",
       "Name: Text, dtype: object"
      ]
     },
     "execution_count": 5,
     "metadata": {},
     "output_type": "execute_result"
    }
   ],
   "source": [
    "filename  = '../Eng-Hin-data/english-anot-shuffled'\n",
    "orig_df = pd.read_csv(filename + '.csv',  \n",
    "               delimiter=',')\n",
    "orig_df.columns = ['Text', 'Label']\n",
    "orig_df['Text'].head()"
   ]
  },
  {
   "cell_type": "code",
   "execution_count": 6,
   "metadata": {},
   "outputs": [],
   "source": [
    "orig_df[\"Text\"] = orig_df[\"Text\"].astype(str)\n",
    "orig_df[\"Label\"] = orig_df[\"Label\"].astype(str)\n",
    "df = orig_df"
   ]
  },
  {
   "cell_type": "code",
   "execution_count": 7,
   "metadata": {},
   "outputs": [],
   "source": [
    "#balancing data \n",
    "from collections import Counter\n",
    "import numpy as np\n",
    "def balanceClasses(xs, ys):\n",
    "    item = {}\n",
    "    new_ys = []\n",
    "    new_xs = []\n",
    "    #\"\"\"Undersample xs, ys to balance classes.\"\"\"\n",
    "    freqs = Counter(ys)\n",
    "    # the most common class  is the maximum number we want for all classes\n",
    "    max_allowable = (freqs.most_common()[0][1])\n",
    "    \n",
    "    for val in freqs.most_common(): # List\n",
    "        nums = np.random.randint(1000)\n",
    "        i = 1\n",
    "        item[val[0]] = max_allowable - val[1]\n",
    "        \n",
    "        if item[val[0]] > 0:            \n",
    "            while(item[val[0]] - i != 0): \n",
    "                nums = nums + 1\n",
    "                if ys[nums] == val[0]:\n",
    "                    i += 1\n",
    "                    new_ys.append(ys[nums])\n",
    "                    new_xs.append(xs[nums])\n",
    "    return new_xs, new_ys"
   ]
  },
  {
   "cell_type": "code",
   "execution_count": 8,
   "metadata": {},
   "outputs": [],
   "source": [
    "new_text, new_label = balanceClasses(df['Text'], df['Label'])"
   ]
  },
  {
   "cell_type": "code",
   "execution_count": 9,
   "metadata": {},
   "outputs": [],
   "source": [
    "data = pd.DataFrame(new_text)\n",
    "data.columns = ['Text']\n",
    "data['Label'] = new_label\n",
    "data = pd.concat([df, data])"
   ]
  },
  {
   "cell_type": "code",
   "execution_count": 10,
   "metadata": {},
   "outputs": [
    {
     "data": {
      "image/png": "[encoded data removed]",
      "text/plain": [
       "<Figure size 432x288 with 1 Axes>"
      ]
     },
     "metadata": {
      "image/png": {
       "height": 258,
       "width": 381
      },
      "needs_background": "light"
     },
     "output_type": "display_data"
    }
   ],
   "source": [
    "import matplotlib.pyplot as plt\n",
    "fig1 = plt.figure(figsize=(6,4))\n",
    "data.groupby('Label').Text.count().plot.bar(ylim=0)\n",
    "plt.show()"
   ]
  },
  {
   "cell_type": "code",
   "execution_count": 11,
   "metadata": {},
   "outputs": [],
   "source": [
    "data=data.sample(frac=1).reset_index(drop=True)"
   ]
  },
  {
   "cell_type": "code",
   "execution_count": 12,
   "metadata": {},
   "outputs": [],
   "source": [
    "# People usually join sentences using more than one colon \n",
    "\n",
    "def ReplaceDoubleColon(inputString):\n",
    "    return inputString.replace(\"..\", \" \") \n",
    "\n",
    "data['Text'] = data['Text'].apply(lambda x: ReplaceDoubleColon(x))\n",
    "\n",
    "def ReplaceTripleColon(inputString):\n",
    "    return inputString.replace(\"...\", \" \") \n",
    "\n",
    "data['Text'] = data['Text'].apply(lambda x: ReplaceTripleColon(x))\n",
    "\n",
    "def ReplaceFourColon(inputString):\n",
    "    return inputString.replace(\"....\", \" \") \n",
    "\n",
    "data['Text'] = data['Text'].apply(lambda x: ReplaceFourColon(x))"
   ]
  },
  {
   "cell_type": "code",
   "execution_count": 13,
   "metadata": {},
   "outputs": [],
   "source": [
    "import re\n",
    "def textPattern(text):\n",
    "\n",
    "    # Clean the text\n",
    "    text = re.sub(r\"@\", \" \", text)\n",
    "    text = re.sub(r\"'\", \" \", text)\n",
    "    text = re.sub(r\"what's\", \"what is\", text)\n",
    "    text = re.sub(r\"\\'s\", \" \", text)\n",
    "    text = re.sub(r\"\\'ve\", \"have\", text)\n",
    "    text = re.sub(r\"can't\", \"can not\", text)\n",
    "    text = re.sub(r\"aren't\", \"are not\", text)\n",
    "    text = re.sub(r\"couldn't\", \"could not\", text)\n",
    "    text = re.sub(r\"didn't\", \"did not\", text)\n",
    "    text = re.sub(r\"doesn't\", \"does not\", text)\n",
    "    text = re.sub(r\"don't\", \"do not\", text)\n",
    "    text = re.sub(r\"hadn't\", \"had not\", text)\n",
    "    text = re.sub(r\"hasn't\", \"has not\", text)\n",
    "    text = re.sub(r\"haven't\", \"have not\", text)\n",
    "    text = re.sub(r\"isn't\", \"is not\", text)\n",
    "    text = re.sub(r\"shouldn't\", \"should not\", text)\n",
    "    text = re.sub(r\"wasn't\", \"was not\", text)\n",
    "    text = re.sub(r\"weren't\", \"were not\", text)\n",
    "    text = re.sub(r\"won't\", \"will not\", text)\n",
    "    text = re.sub(r\"wouldn't\", \"would not\", text)\n",
    "    text = re.sub(r\"mustn't\", \"must not\", text)\n",
    "    text = re.sub(r\"i'm\", \"i am\", text)\n",
    "    text = re.sub(r\"\\'re\", \"are\", text)\n",
    "    text = re.sub(r\",\", \" \", text)\n",
    "    text = re.sub(r\"\\.\", \" \", text)\n",
    "    text = re.sub(r\"!\", \" \", text)\n",
    "    text = re.sub(r\"\\/\", \" \", text)\n",
    "    text = re.sub(r\"\\^\", \" ^ \", text)\n",
    "    text = re.sub(r\"\\+\", \" \", text)\n",
    "    text = re.sub(r\"\\-\", \" - \", text)\n",
    "    text = re.sub(r\"\\= =\", \" \", text)\n",
    "    text = re.sub(r\"\\==\", \" \", text)\n",
    "    text = re.sub(r\"'\", \" \", text)\n",
    "    text = re.sub(r\"(\\d+)(k)\", r\"\\g<1>000\", text)\n",
    "    text = re.sub(r\":\", \" : \", text)\n",
    "    text = re.sub(r\"\\0s\", \"0\", text)\n",
    "    text = re.sub(r\" 9 11 \", \"911\", text)\n",
    "    text = re.sub(r\"\\s{2,}\", \" \", text)\n",
    "    return text\n",
    "\n",
    "data['Text'] = data['Text'].apply(lambda x: textPattern(x))"
   ]
  },
  {
   "cell_type": "code",
   "execution_count": 14,
   "metadata": {},
   "outputs": [
    {
     "data": {
      "text/html": [
       "<div>\n",
       "<style scoped>\n",
       "    .dataframe tbody tr th:only-of-type {\n",
       "        vertical-align: middle;\n",
       "    }\n",
       "\n",
       "    .dataframe tbody tr th {\n",
       "        vertical-align: top;\n",
       "    }\n",
       "\n",
       "    .dataframe thead th {\n",
       "        text-align: right;\n",
       "    }\n",
       "</style>\n",
       "<table border=\"1\" class=\"dataframe\">\n",
       "  <thead>\n",
       "    <tr style=\"text-align: right;\">\n",
       "      <th></th>\n",
       "      <th>Text</th>\n",
       "      <th>Label</th>\n",
       "    </tr>\n",
       "  </thead>\n",
       "  <tbody>\n",
       "    <tr>\n",
       "      <th>0</th>\n",
       "      <td>jaq577 khanumarfa chaandspeaks Attack from wh...</td>\n",
       "      <td>2</td>\n",
       "    </tr>\n",
       "    <tr>\n",
       "      <th>1</th>\n",
       "      <td>wiplayers But it is showing a rain forecast f...</td>\n",
       "      <td>0</td>\n",
       "    </tr>\n",
       "    <tr>\n",
       "      <th>2</th>\n",
       "      <td>Happy Muharram to all Muslim Let go the past ...</td>\n",
       "      <td>1</td>\n",
       "    </tr>\n",
       "    <tr>\n",
       "      <th>3</th>\n",
       "      <td>MilesKing10 townsendoutdoor First they came f...</td>\n",
       "      <td>0</td>\n",
       "    </tr>\n",
       "    <tr>\n",
       "      <th>4</th>\n",
       "      <td>Need more cricket watchalong like these tbf f...</td>\n",
       "      <td>0</td>\n",
       "    </tr>\n",
       "  </tbody>\n",
       "</table>\n",
       "</div>"
      ],
      "text/plain": [
       "                                                Text Label\n",
       "0   jaq577 khanumarfa chaandspeaks Attack from wh...     2\n",
       "1   wiplayers But it is showing a rain forecast f...     0\n",
       "2   Happy Muharram to all Muslim Let go the past ...     1\n",
       "3   MilesKing10 townsendoutdoor First they came f...     0\n",
       "4   Need more cricket watchalong like these tbf f...     0"
      ]
     },
     "execution_count": 14,
     "metadata": {},
     "output_type": "execute_result"
    }
   ],
   "source": [
    "data.head()"
   ]
  },
  {
   "cell_type": "code",
   "execution_count": 15,
   "metadata": {},
   "outputs": [
    {
     "name": "stdout",
     "output_type": "stream",
     "text": [
      "10663\n"
     ]
    }
   ],
   "source": [
    "print(len(data))"
   ]
  },
  {
   "cell_type": "code",
   "execution_count": 16,
   "metadata": {},
   "outputs": [
    {
     "data": {
      "text/plain": [
       "0     jaq577 khanumarfa chaandspeaks Attack from wh...\n",
       "1     wiplayers But it is showing a rain forecast f...\n",
       "2     Happy Muharram to all Muslim Let go the past ...\n",
       "3     MilesKing10 townsendoutdoor First they came f...\n",
       "4     Need more cricket watchalong like these tbf f...\n",
       "Name: Text, dtype: object"
      ]
     },
     "execution_count": 16,
     "metadata": {},
     "output_type": "execute_result"
    }
   ],
   "source": [
    "# data = orig_df['Text']\n",
    "\n",
    "data['Text'].head()"
   ]
  },
  {
   "cell_type": "code",
   "execution_count": 17,
   "metadata": {},
   "outputs": [],
   "source": [
    "def lemmatization(texts, allowed_postags=[\"NOUN\", \"ADJ\", \"VERB\", \"ADV\"]):\n",
    "    nlp = spacy.load(\"en_core_web_sm\", disable=[\"parser\", \"ner\"])\n",
    "    texts_out = []\n",
    "    for text in texts:\n",
    "        doc = nlp(text)\n",
    "        new_text = []\n",
    "        for token in doc:\n",
    "            if token.pos_ in allowed_postags:\n",
    "                new_text.append(token.lemma_)\n",
    "        final = \" \".join(new_text)\n",
    "        texts_out.append(final)\n",
    "    return (texts_out)\n",
    "\n",
    "\n",
    "lemmatized_texts = lemmatization(data['Text'])"
   ]
  },
  {
   "cell_type": "code",
   "execution_count": 18,
   "metadata": {},
   "outputs": [
    {
     "name": "stdout",
     "output_type": "stream",
     "text": [
      "['khanumarfa', 'chaandspeak', 'mob', 'say', 'be', 'islami', 'brainless', 'mob']\n"
     ]
    }
   ],
   "source": [
    "def gen_words(texts):\n",
    "    final = []\n",
    "    for text in texts:\n",
    "        new = gensim.utils.simple_preprocess(text, deacc=True)\n",
    "        final.append(new)\n",
    "    return (final)\n",
    "\n",
    "data_words = gen_words(lemmatized_texts)\n",
    "\n",
    "print (data_words[0][0:20])"
   ]
  },
  {
   "cell_type": "code",
   "execution_count": 19,
   "metadata": {},
   "outputs": [
    {
     "name": "stdout",
     "output_type": "stream",
     "text": [
      "['khanumarfa', 'chaandspeak', 'mob', 'say', 'be', 'islami', 'brainless', 'mob']\n"
     ]
    }
   ],
   "source": [
    "#BIGRAMS AND TRIGRAMS\n",
    "bigram_phrases = gensim.models.Phrases(data_words, min_count=5, threshold=100)\n",
    "trigram_phrases = gensim.models.Phrases(bigram_phrases[data_words], threshold=100)\n",
    "\n",
    "bigram = gensim.models.phrases.Phraser(bigram_phrases)\n",
    "trigram = gensim.models.phrases.Phraser(trigram_phrases)\n",
    "\n",
    "def make_bigrams(texts):\n",
    "    return([bigram[doc] for doc in texts])\n",
    "\n",
    "def make_trigrams(texts):\n",
    "    return ([trigram[bigram[doc]] for doc in texts])\n",
    "\n",
    "data_bigrams = make_bigrams(data_words)\n",
    "data_bigrams_trigrams = make_trigrams(data_bigrams)\n",
    "\n",
    "print (data_bigrams_trigrams[0][0:20])"
   ]
  },
  {
   "cell_type": "code",
   "execution_count": 20,
   "metadata": {},
   "outputs": [],
   "source": [
    "#TF-IDF REMOVAL\n",
    "from gensim.models import TfidfModel\n",
    "\n",
    "id2word = corpora.Dictionary(data_bigrams_trigrams)\n",
    "\n",
    "texts = data_bigrams_trigrams\n",
    "\n",
    "corpus = [id2word.doc2bow(text) for text in texts]\n",
    "# print (corpus[0][0:20])\n",
    "\n",
    "tfidf = TfidfModel(corpus, id2word=id2word)\n",
    "\n",
    "low_value = 0.03\n",
    "words  = []\n",
    "words_missing_in_tfidf = []\n",
    "for i in range(0, len(corpus)):\n",
    "    bow = corpus[i]\n",
    "    low_value_words = [] #reinitialize to be safe.\n",
    "    tfidf_ids = [id for id, value in tfidf[bow]]\n",
    "    bow_ids = [id for id, value in bow]\n",
    "    low_value_words = [id for id, value in tfidf[bow] if value < low_value]\n",
    "    drops = low_value_words+words_missing_in_tfidf\n",
    "    for item in drops:\n",
    "        words.append(id2word[item])\n",
    "    words_missing_in_tfidf = [id for id in bow_ids if id not in tfidf_ids] # The words with tf-idf socre 0 will be missing\n",
    "\n",
    "    new_bow = [b for b in bow if b[0] not in low_value_words and b[0] not in words_missing_in_tfidf]\n",
    "    corpus[i] = new_bow\n"
   ]
  },
  {
   "cell_type": "code",
   "execution_count": 21,
   "metadata": {
    "scrolled": true
   },
   "outputs": [
    {
     "data": {
      "text/plain": [
       "10663"
      ]
     },
     "execution_count": 21,
     "metadata": {},
     "output_type": "execute_result"
    }
   ],
   "source": [
    "len(corpus)"
   ]
  },
  {
   "cell_type": "code",
   "execution_count": 260,
   "metadata": {},
   "outputs": [],
   "source": [
    "# lda_model = gensim.models.ldamodel.LdaModel(corpus=corpus[:-1],\n",
    "#                                            id2word=id2word,\n",
    "#                                            num_topics=15,\n",
    "#                                            random_state=100,\n",
    "#                                            update_every=1,\n",
    "#                                            chunksize=100,\n",
    "#                                            passes=50,\n",
    "#                                            alpha=\"auto\")\n",
    "\n",
    "lda_model = gensim.models.ldamulticore.LdaMulticore(corpus=corpus[:-1],\n",
    "                                           id2word=id2word,\n",
    "                                           num_topics=15,\n",
    "                                           chunksize=100,\n",
    "                                           workers=7, # Num. Processing Cores - 1\n",
    "                                           passes=50,\n",
    "                                           eval_every = 1,\n",
    "                                           per_word_topics=True)"
   ]
  },
  {
   "cell_type": "code",
   "execution_count": 261,
   "metadata": {},
   "outputs": [],
   "source": [
    "lda_model.save(\"test_model.model\")"
   ]
  },
  {
   "cell_type": "code",
   "execution_count": 262,
   "metadata": {},
   "outputs": [],
   "source": [
    "new_model = gensim.models.ldamodel.LdaModel.load(\"test_model.model\")"
   ]
  },
  {
   "cell_type": "code",
   "execution_count": 263,
   "metadata": {},
   "outputs": [],
   "source": [
    "train_vecs = []\n",
    "for i in range(len(data)):\n",
    "    top_topics = new_model.get_document_topics(corpus[i][:-1], minimum_probability=0.0)\n",
    "    topic_vec = [top_topics[i][1] for i in range(15)]\n",
    "    topic_vec.extend([len(data.iloc[i].Text)]) # length review\n",
    "    train_vecs.append(topic_vec)"
   ]
  },
  {
   "cell_type": "code",
   "execution_count": 264,
   "metadata": {},
   "outputs": [
    {
     "data": {
      "text/plain": [
       "[0.008333949,\n",
       " 0.008333953,\n",
       " 0.008333949,\n",
       " 0.008333949,\n",
       " 0.008333949,\n",
       " 0.008333949,\n",
       " 0.008333949,\n",
       " 0.008333972,\n",
       " 0.008333953,\n",
       " 0.008333957,\n",
       " 0.008333953,\n",
       " 0.8833246,\n",
       " 0.008333949,\n",
       " 0.008333949,\n",
       " 0.008333949,\n",
       " 120]"
      ]
     },
     "execution_count": 264,
     "metadata": {},
     "output_type": "execute_result"
    }
   ],
   "source": [
    "train_vecs[2]"
   ]
  },
  {
   "cell_type": "code",
   "execution_count": 265,
   "metadata": {},
   "outputs": [],
   "source": [
    "# Using similar split 90/10\n",
    "X = np.array(train_vecs)\n",
    "y = np.array(data.Label)\n",
    "X_train, X_test, y_train, y_test, idx_train, idx_test = train_test_split(X, y, data.index, test_size=0.30, random_state=100)"
   ]
  },
  {
   "cell_type": "code",
   "execution_count": 266,
   "metadata": {},
   "outputs": [],
   "source": [
    "scaler = StandardScaler()\n",
    "X_train_scale = scaler.fit_transform(X_train)\n",
    "X_test_scale = scaler.fit_transform(X_test)"
   ]
  },
  {
   "cell_type": "code",
   "execution_count": 267,
   "metadata": {},
   "outputs": [
    {
     "name": "stdout",
     "output_type": "stream",
     "text": [
      "[LibLinear]"
     ]
    }
   ],
   "source": [
    "model2 = LinearSVC(random_state=10, tol=1e-5, verbose=1, max_iter=100000)\n",
    "model2.fit(X_train_scale, y_train)\n",
    "y_pred2 = model2.predict(X_test_scale)"
   ]
  },
  {
   "cell_type": "code",
   "execution_count": 268,
   "metadata": {},
   "outputs": [
    {
     "name": "stdout",
     "output_type": "stream",
     "text": [
      "Confusion Matrix :\n",
      "[[685 208 181]\n",
      " [119 812 145]\n",
      " [141 164 744]]\n",
      "Accuracy Score : 0.7005314160675211\n",
      "Report : \n",
      "              precision    recall  f1-score   support\n",
      "\n",
      "           0       0.72      0.64      0.68      1074\n",
      "           1       0.69      0.75      0.72      1076\n",
      "           2       0.70      0.71      0.70      1049\n",
      "\n",
      "    accuracy                           0.70      3199\n",
      "   macro avg       0.70      0.70      0.70      3199\n",
      "weighted avg       0.70      0.70      0.70      3199\n",
      "\n"
     ]
    }
   ],
   "source": [
    "results2 = confusion_matrix(y_test, y_pred2)\n",
    "print ('Confusion Matrix :')\n",
    "print(results2)\n",
    "print ('Accuracy Score :',accuracy_score(y_test, y_pred2))\n",
    "print ('Report : ')\n",
    "print (classification_report(y_test, y_pred2))"
   ]
  },
  {
   "cell_type": "code",
   "execution_count": 269,
   "metadata": {},
   "outputs": [],
   "source": [
    "# test_doc = corpus[-1]\n",
    "\n",
    "# vector = new_model[test_doc]\n",
    "# print (vector)\n",
    "# For topic importance\n",
    "# def Sort(sub_li):\n",
    "#     sub_li.sort(key = lambda x: x[1])\n",
    "#     sub_li.reverse()\n",
    "#     return (sub_li)\n",
    "# new_vector = Sort(vector)\n",
    "# print (new_vector)"
   ]
  },
  {
   "cell_type": "markdown",
   "metadata": {},
   "source": [
    "## Vizualizing the Data"
   ]
  },
  {
   "cell_type": "code",
   "execution_count": 270,
   "metadata": {},
   "outputs": [
    {
     "data": {
      "text/html": [
       "\n",
       "<link rel=\"stylesheet\" type=\"text/css\" href=\"https://cdn.jsdelivr.net/gh/bmabey/pyLDAvis@3.3.1/pyLDAvis/js/ldavis.v1.0.0.css\">\n",
       "\n",
       "\n",
       "<div id=\"ldavis_el782541405541581041289807715000\"></div>\n",
       "<script type=\"text/javascript\">\n",
       "\n",
       "var ldavis_el782541405541581041289807715000_data = {\"mdsDat\": {\"x\": [-0.2267727308303084, -0.3484471331637014, -0.2694532855058173, -0.09237625856143947, -0.08322305485691847, 0.19205950908367353, 0.12021177693946067, -0.3259870985051512, 0.02572870685809463, -0.19565594520591684, -0.042610599798601025, 0.2650614361868337, 0.32082043349587175, 0.3957558010571715, 0.2648884428067483], \"y\": [0.09484847381112048, 0.0832239680115715, -0.24399747556508855, -0.3359183397922143, -0.16149156219522484, -0.3920388633790749, 0.328777399425535, -0.07828709608565503, 0.007716452492359919, 0.2699452759550582, 0.38500796367430196, -0.05248119344947959, -0.20260833209616497, 0.0682958552818751, 0.2290074739110798], \"topics\": [1, 2, 3, 4, 5, 6, 7, 8, 9, 10, 11, 12, 13, 14, 15], \"cluster\": [1, 1, 1, 1, 1, 1, 1, 1, 1, 1, 1, 1, 1, 1, 1], \"Freq\": [11.362920120337112, 10.296881804986706, 9.805986207335419, 8.682081964351983, 6.924653364492779, 6.592282227771444, 6.560796882072012, 6.4903131053379, 5.355443547032969, 5.32682015726607, 5.151197920572375, 4.727809743624531, 4.374700047720281, 4.230281418268482, 4.1178314888299345]}, \"tinfo\": {\"Term\": [\"\\u00f0y\", \"cricket\", \"muslim\", \"year\", \"terrorist\", \"brother\", \"happy\", \"be\", \"new\", \"islamic\", \"radical\", \"muharram\", \"terrorism\", \"good\", \"sister\", \"jehadi\", \"wish\", \"verse\", \"play\", \"very\", \"do\", \"go\", \"https_co\", \"know\", \"call\", \"time\", \"start\", \"first\", \"st\", \"love\", \"know\", \"other\", \"man\", \"ever\", \"believe\", \"place\", \"ball\", \"msdhoni\", \"sure\", \"supporter\", \"cult\", \"international\", \"stick\", \"rest\", \"share\", \"speak\", \"value\", \"out\", \"death\", \"agenda\", \"enough\", \"least\", \"christian\", \"bhai\", \"gay\", \"none\", \"pic\", \"travel\", \"deserve\", \"able\", \"well\", \"even\", \"religion\", \"see\", \"top\", \"say\", \"think\", \"hate\", \"talk\", \"do\", \"have\", \"be\", \"child\", \"many\", \"wrong\", \"people\", \"how\", \"right\", \"let\", \"make\", \"more\", \"kill\", \"then\", \"just\", \"why\", \"take\", \"still\", \"leave\", \"deal\", \"rule\", \"few\", \"non\", \"question\", \"gang\", \"defend\", \"away\", \"culture\", \"die\", \"problem\", \"self\", \"action\", \"explain\", \"pro\", \"poor\", \"accord\", \"sign\", \"perfect\", \"control\", \"ladyvelvet_hfq\", \"strong\", \"nonsense\", \"remain\", \"everyday\", \"drive\", \"field\", \"anti\", \"convert\", \"only\", \"country\", \"government\", \"american\", \"allow\", \"tweet\", \"people\", \"be\", \"right\", \"word\", \"old\", \"how\", \"why\", \"kill\", \"want\", \"have\", \"make\", \"muslim\", \"do\", \"go\", \"just\", \"so\", \"today\", \"when\", \"khanumarfa\", \"lol\", \"organization\", \"beat\", \"bangaloreriot\", \"brotherhood\", \"arrest\", \"stand\", \"organisation\", \"act\", \"prove\", \"englandcricket\", \"bloody\", \"ahead\", \"absolutely\", \"logic\", \"lover\", \"s\\u00f0y\", \"ndtv\", \"rd\", \"rioter\", \"element\", \"mention\", \"spot\", \"mkatju\", \"possible\", \"relate\", \"sagarikaghose\", \"engvpak\", \"bbctms\", \"terrorist\", \"jehadi\", \"group\", \"radical\", \"home\", \"islamist\", \"ipl\", \"community\", \"fake\", \"evil\", \"islamic\", \"name\", \"muslim\", \"hindu\", \"attack\", \"nation\", \"be\", \"call\", \"re\", \"why\", \"so\", \"stop\", \"say\", \"want\", \"more\", \"support\", \"player\", \"much\", \"cpl\", \"birthday\", \"love\", \"rain\", \"tomorrow\", \"watch\", \"gon\", \"cana\", \"awal\", \"therea\", \"finally\", \"communist\", \"noise\", \"match\", \"sardesairajdeep\", \"promise\", \"fill\", \"bit\", \"bet\", \"didn\", \"worry\", \"local\", \"walk\", \"dhoni\", \"moon\", \"hero\", \"minute\", \"virus\", \"full\", \"cricket\", \"too\", \"back\", \"dona\", \"girl\", \"feel\", \"work\", \"so\", \"guy\", \"pakistani\", \"also\", \"be\", \"play\", \"get\", \"just\", \"now\", \"team\", \"have\", \"do\", \"life\", \"sister\", \"friend\", \"there\", \"ramadan\", \"history\", \"video\", \"over\", \"lot\", \"black\", \"twitter\", \"cover\", \"decide\", \"base\", \"hea\", \"moment\", \"seanhannity\", \"official\", \"shea\", \"picture\", \"security\", \"english\", \"extra\", \"expose\", \"remind\", \"request\", \"dbongino_true_statement_stealth\", \"now_stealth_mode\", \"genuine\", \"most\", \"conspiracy\", \"person\", \"ita\", \"true\", \"call\", \"support\", \"ground\", \"become\", \"get\", \"come\", \"muslim\", \"live\", \"woman\", \"when\", \"tell\", \"thank\", \"remember\", \"same\", \"be\", \"terrorist\", \"last\", \"do\", \"have\", \"just\", \"year\", \"new\", \"wish\", \"st\", \"islamicnewyear\", \"sir\", \"moharram\", \"exactly\", \"\\u00f0ys\", \"humanity\", \"\\u00f0yz_\\u00f0yz\", \"extremism\", \"average\", \"throw\", \"prayer\", \"abuse\", \"photo\", \"special\", \"wife\", \"morning\", \"consider\", \"business\", \"tv\", \"mubarak\", \"celebration\", \"daily\", \"hurt\", \"bowling\", \"bowl\", \"feeling\", \"happy\", \"bless\", \"head\", \"save\", \"islamic\", \"busy\", \"amp\", \"today\", \"world\", \"make\", \"celebrate\", \"old\", \"have\", \"\\u00f0y\", \"terrorism\", \"stupid\", \"society\", \"series\", \"boy\", \"move\", \"drink\", \"z\\u00f0y\", \"england\", \"music\", \"shoot\", \"finish\", \"answer\", \"step\", \"peace_blessing\", \"bigot\", \"praise\", \"mine\", \"promote\", \"republic\", \"third\", \"small\", \"tie\", \"log\", \"recite\", \"modern\", \"dirty\", \"cup\", \"uproot\", \"threat\", \"indeed\", \"family\", \"listen\", \"world\", \"open\", \"big\", \"islamic\", \"face\", \"amp\", \"pakistan\", \"radical\", \"peace\", \"be\", \"a\\u0153\", \"real\", \"have\", \"need\", \"whole\", \"verse\", \"look\", \"really\", \"hope\", \"th\", \"jihadi\", \"follow\", \"write\", \"india\", \"quote\", \"together\", \"land\", \"follower\", \"ur\", \"fucker\", \"early\", \"learn\", \"quran\", \"enjoy\", \"area\", \"century\", \"number\", \"mate\", \"forward\", \"score\", \"camel\", \"pm\", \"imrankhanpti\", \"nd\", \"front\", \"pisslam\", \"lose\", \"complete\", \"read\", \"far\", \"day\", \"order\", \"show\", \"terror\", \"now\", \"try\", \"when\", \"be\", \"bad\", \"have\", \"why\", \"see\", \"get\", \"then\", \"brother\", \"help\", \"hai\", \"marry\", \"jungkook\", \"accept\", \"welcome\", \"as\", \"blame\", \"bed\", \"parent\", \"victim\", \"mashallah\", \"ko\", \"weather\", \"koobischanel\", \"main\", \"pick\", \"tax\", \"corrupt\", \"javedakhtarjadu\", \"bio\", \"office\", \"ho\", \"fuckislam\", \"propaganda\", \"realize\", \"belief\", \"bismillah\", \"mohamedbinzaye\", \"ideology\", \"different\", \"fund\", \"muslim\", \"already\", \"post\", \"wona\", \"pray\", \"hit\", \"fellow\", \"be\", \"day\", \"say\", \"way\", \"fan\", \"ve\", \"hear\", \"law\", \"send\", \"channel\", \"seem\", \"lie\", \"point\", \"dead\", \"dear\", \"break\", \"once\", \"as_well\", \"story\", \"fear\", \"fire\", \"majority\", \"mind\", \"yet\", \"belong\", \"rise\", \"raise\", \"anymore\", \"grow\", \"hsajwanization\", \"contribution\", \"page\", \"short\", \"ask\", \"go\", \"camel_fucker\", \"never\", \"destroy\", \"life\", \"riot\", \"need\", \"ban\", \"eat\", \"here\", \"do\", \"jehadi\", \"stop\", \"be\", \"have\", \"real\", \"start\", \"fuck\", \"indian\", \"time\", \"ia\", \"wait\", \"white\", \"pig\", \"bat\", \"bro\", \"slave\", \"turn\", \"ecb_cricket\", \"difference\", \"religious\", \"stay\", \"shame\", \"wonder\", \"flexible\", \"asadowaisi\", \"literally\", \"form\", \"election\", \"service\", \"western\", \"sense\", \"politic\", \"stuff\", \"third_test\", \"ll\", \"don\", \"govt\", \"hell\", \"sad\", \"include\", \"happen\", \"a\\u0153\", \"part\", \"agree\", \"make\", \"just\", \"understand\", \"have\", \"own\", \"so\", \"great\", \"end\", \"win\", \"use\", \"miss\", \"https_co\", \"eid\", \"isis\", \"mob\", \"police\", \"beautiful\", \"check\", \"sound\", \"put\", \"burn\", \"high\", \"build\", \"add\", \"late\", \"cricketer\", \"cut\", \"system\", \"left\", \"sleep\", \"buy\", \"district\", \"sachin_rt\", \"online\", \"suppose\", \"level\", \"school\", \"chuslim\", \"expect\", \"sport\", \"racist\", \"temple\", \"week\", \"violence\", \"again\", \"more\", \"have\", \"how\", \"need\", \"muharram\", \"first\", \"bring\", \"hijri\", \"happiness\", \"national\", \"ah\", \"case\", \"army\", \"block\", \"confirm\", \"continue\", \"health\", \"murder\", \"glad\", \"disgusting\", \"famous\", \"reach\", \"wear\", \"shahid_siddiqui\", \"doesna\", \"reveal\", \"blood_boil\", \"calendar\", \"long\", \"therealpcb\", \"date\", \"train\", \"arab\", \"coronavirus\", \"force\", \"doesn\", \"forget\", \"fight\", \"today\", \"happy\", \"day\", \"make\", \"say\", \"have\", \"month\", \"very\", \"always\", \"test\", \"all\", \"mean\", \"game\", \"tahunbaruislam\", \"protect\", \"season\", \"coach\", \"guess\", \"involve\", \"young\", \"apd_\", \"comegititpeener_todeofvet\", \"drinking_i\", \"grockowalski\", \"john_robert\", \"lty_wolty\", \"red_eyedjedi\", \"thepirateke\", \"pass\", \"massacre\", \"innings\", \"warn\", \"update\", \"jack\", \"biz_twittersafety\", \"seminoledan_delbius\", \"twittersecurity_realdonaldtrump\", \"sambitswaraj\", \"celebrate\", \"play\", \"team\", \"like\", \"up\", \"join\", \"cricket\", \"fast\", \"want\", \"good\", \"extremist\", \"msdhoni_narendramodi\", \"give\", \"jihadist\", \"money\", \"dream\", \"cause\", \"job\", \"legend\", \"islam\", \"report\", \"https\", \"account\", \"\\u00f0y\\u0153\", \"class\", \"criminal\", \"spirit\", \"second\", \"\\u00b3\\u00f0y\", \"funny\", \"rahulkanwal\", \"\\u0153\\u00f0y\", \"produce\", \"role\", \"blessed\", \"sell\", \"surprise\", \"\\u00f0y\\u0153_\\u00f0y\\u0153\", \"definition\", \"no\", \"run\", \"month\", \"mindset\", \"thing\", \"entire\", \"realdonaldtrump\", \"find\", \"be\", \"letter\", \"do\"], \"Freq\": [1508.0, 1808.0, 1895.0, 846.0, 1109.0, 701.0, 897.0, 5048.0, 667.0, 1092.0, 600.0, 347.0, 362.0, 303.0, 345.0, 458.0, 227.0, 222.0, 234.0, 181.0, 674.0, 221.0, 170.0, 236.0, 291.0, 167.0, 164.0, 154.0, 175.0, 200.0, 235.7447437729975, 125.95250418234102, 122.82082430599813, 79.50848763367537, 62.566229329144655, 52.676877620294164, 49.54118020164411, 47.15552065557695, 37.19854471070324, 33.87310784318448, 29.406621185582647, 28.947083250069976, 28.59848520822034, 27.14336113019058, 26.868212195919167, 26.63212416501662, 26.579410395288054, 26.338807806535183, 26.0755081746449, 25.214197182068897, 25.168341850308945, 24.19945146689011, 23.972947928904997, 23.711864157977946, 23.16591329280309, 23.05714219423746, 21.359826583824443, 19.81529053916187, 19.761872664080503, 19.051569678065146, 126.147959309956, 145.81609183038205, 140.74703030574372, 177.24780661181921, 33.57993644756979, 261.4799374981787, 135.12480554265088, 76.52203419293468, 53.23836963436578, 311.1833292650854, 308.3727515517748, 1011.5378413135716, 42.09316884077121, 48.87803721318949, 34.580176462900056, 80.78447714372504, 69.40846910937394, 54.043485865776496, 45.03148707921119, 69.66922906714409, 59.92900837812498, 47.06928092830101, 46.96961801609063, 53.88950517913009, 48.983521231685614, 160.7543149496903, 110.49695845589278, 75.64193979720339, 50.165303554243295, 47.38384716393904, 44.260301455286964, 37.43167525690118, 32.581527032688236, 32.49756399712168, 32.075783494659255, 30.827283727501033, 30.153958732553516, 29.496468931366742, 29.396247611320558, 26.657253833891208, 24.36787753981138, 20.821205286046894, 20.489926959173104, 20.02825821437929, 19.807993432905104, 19.415646737591363, 19.143244555069764, 18.78124779479197, 18.307833164516286, 17.845599730093642, 17.692676319371216, 16.826798985036294, 16.501783424408536, 16.226733512871995, 15.87503594077925, 138.14150813038327, 40.088920400994255, 150.2519476829654, 150.8459807003637, 37.79501805982897, 62.59780726848679, 45.714351659361476, 55.9649731243076, 152.91908427862333, 1479.3296561583181, 84.85395543581997, 48.550188855129804, 38.648606997195714, 105.91143982825294, 100.93923675568632, 58.11039791932065, 65.43024267839444, 131.05815061103308, 75.5132042099177, 142.24005616463356, 96.36336732605454, 62.53589271860908, 63.7274799600338, 63.13336505410926, 47.01009428211359, 45.697680520228744, 73.06794845918189, 51.20373034848615, 45.316858157608884, 41.60234651242958, 41.11381875822159, 40.34518672457822, 34.968115824995394, 32.29124718976163, 31.245113611249284, 29.488683696560056, 29.029484634232666, 26.869562625264034, 24.336694097910478, 20.655787297782055, 18.808781570310657, 18.70550727227817, 18.36038336903037, 17.89039806776019, 16.74499339843859, 16.186034217146837, 15.318577879214663, 15.174886460203124, 14.524022479315647, 14.225281515603601, 13.559129312325448, 13.494442747555546, 13.424886209712739, 12.169467264612877, 12.126430349945734, 11.903936349135455, 1000.2476995410026, 391.7290857715676, 52.261015718548926, 487.07027484050866, 32.03670884736553, 23.407555225304083, 66.17518597019792, 47.52660904869463, 47.66649384655193, 23.103002787469674, 436.65903005182315, 78.86423508920745, 569.7857902398573, 49.361413442462094, 51.265380389595244, 41.302554381885784, 874.984330123187, 93.41278696083494, 43.591215895874306, 51.12602523684946, 54.074091665318214, 37.19327516466277, 43.254124401925075, 37.00843227010039, 37.151780881999876, 33.43346748970111, 92.88841126163193, 92.27035367908864, 61.60781941004981, 43.124378625781816, 195.71285652256918, 39.29880092847092, 32.728239376241106, 133.1502688753916, 26.417269373631683, 25.982742947623578, 24.127476964901334, 23.33495632322072, 23.042062818832285, 21.740474379449886, 20.690282541896693, 107.40315549032405, 20.21724547129223, 20.215399917840223, 18.329232782151486, 16.623475329115738, 16.51375624139024, 15.632732465112454, 15.50820435728687, 15.008151433695549, 14.547807397900526, 14.446322096581328, 14.000676318909925, 13.648417272070736, 12.590003155849052, 12.047934043029622, 39.24976645764316, 1493.310619570166, 100.99784505311104, 78.3867168076215, 48.8413134485358, 40.211424952787425, 47.17490095108796, 60.034780697229145, 169.6164832948304, 55.08644192923934, 31.362037865964524, 58.67491131968501, 544.8638129786422, 82.8388764442618, 86.95624721853261, 76.67593047316079, 65.1849882019616, 44.932785100123255, 52.67202071997753, 48.5062771698033, 31.885757890838672, 344.3598781956672, 138.17232824393906, 62.99569800432001, 56.6668245195357, 55.23626099831417, 44.95087154978937, 40.18238001936439, 39.50164552843198, 36.219140921979, 25.9933166018801, 21.86437405870415, 21.4127469824619, 19.88830052162228, 19.362562943515552, 17.816121739483723, 16.18336169483053, 14.898753274786992, 14.286208109483345, 14.230586225142336, 13.796278675436497, 12.921274304477306, 12.839266988811149, 12.59837688085596, 12.472742623213541, 12.003651461588586, 10.180020964381272, 10.180020964381272, 9.92186295804906, 94.95273932901142, 9.623429250931157, 44.05542816417423, 60.23475712611025, 52.78736989379188, 167.29954066370158, 77.81402607970301, 24.61944309425272, 49.74815094188974, 143.53811398138416, 85.30561619479795, 474.63392410361655, 61.02066161959565, 57.55954652750482, 97.42038178102386, 53.977392083957206, 50.57967637159625, 37.74787366734034, 46.52000505081138, 360.8955011165948, 108.77474030074804, 30.651989300822205, 70.06287711421778, 46.96337391613623, 38.8134490475292, 846.0037619104935, 666.1073748121312, 226.05127458630764, 174.19359505629598, 98.43372001636591, 28.23986649222894, 24.6162874665662, 19.94290164884685, 19.92146783683629, 17.95026926218626, 16.44609601934462, 15.537177439623225, 13.522114040056962, 13.259958334860526, 13.15464277964781, 12.55309799609499, 12.460145329087918, 12.376084461080946, 12.148800204929618, 11.675380991368792, 11.293555717637034, 11.10024073316021, 10.303722968461585, 10.164877215791051, 9.82776651757399, 9.557680170866714, 9.286789946986602, 8.679364081046355, 8.619435911590818, 8.614478851062387, 759.0365546252842, 62.44896662034325, 23.019167017839585, 27.57150378758164, 275.50272255533594, 11.874513163104497, 24.31220345034951, 18.531053043971003, 19.980102812579, 18.426090277245823, 14.488429013029222, 13.212633342982947, 15.416536883578866, 1507.7200364961352, 361.75103143092366, 38.511614353833565, 24.85128446545467, 24.36128741241905, 21.046728709274095, 20.302945758217433, 17.246936221515977, 15.55447694771063, 15.3810687585509, 14.448775818199131, 13.909024241605142, 13.718713080293602, 13.493311131393336, 12.243269489783941, 12.039383774373894, 11.161803200409071, 10.461360339555931, 10.447941227580749, 9.959505117825513, 9.688326007109868, 9.588219105672652, 8.743814011455303, 8.449089223583366, 8.357542509007597, 8.169193396875094, 7.538627205495962, 7.164438882369125, 7.026039411705037, 6.938035255730087, 37.90493352956555, 14.981294444523142, 56.8718509767783, 23.281095096250734, 116.18475636219456, 24.88334684915819, 58.11940989244591, 379.74029836100146, 29.03165796953736, 68.3847164081901, 24.26058048264564, 112.71799264511773, 20.952826448675626, 160.43917670125845, 18.24819002722356, 17.39786617523344, 24.59567456825223, 18.249479218540092, 14.449963917785107, 221.655197325742, 138.53415422300736, 88.53371206368712, 78.44835598928252, 69.01187550838547, 65.19168846622851, 55.81798574733632, 47.50596058134658, 44.19536379599, 38.86395106676302, 37.68621100257746, 32.34091791446116, 32.08495927906389, 31.95143125886534, 29.93491663476232, 29.025963892180226, 27.078930636939518, 84.48245382230694, 25.526266035230595, 23.689824012528902, 23.27606931080555, 21.95748468149713, 19.9500157328649, 19.436289757108188, 18.758356597912112, 18.321890927817012, 18.06637747901567, 16.270140967509583, 16.041394631620626, 15.431687931244733, 28.58832181112875, 37.640672930200246, 26.5466014531889, 52.54273290650827, 29.747155424276805, 133.22109522522777, 23.354256550877032, 39.82740798277742, 27.680868078485588, 101.35977446482907, 51.45547970626901, 67.53753363832071, 254.89051446735232, 35.698898038375155, 96.49753679186821, 40.27471512934619, 37.96261381082907, 36.53710482408332, 33.06410310826992, 700.9734149456925, 76.2929152973216, 46.44595546923407, 44.44853539371072, 42.22107336176212, 42.036496767703724, 33.53852365213305, 27.39102991373473, 22.728757533300932, 20.376853148869387, 20.303822857788862, 19.84203887401145, 17.825396284625583, 17.59202871972744, 17.463149856474896, 15.431414257450852, 15.011560624259076, 14.404425012741598, 13.997061044668397, 12.895274002988012, 12.771890201974692, 11.983350988901234, 11.662846803279551, 11.387710376787787, 10.797354536303088, 10.37663134700047, 10.343917403887602, 10.331836785061983, 9.810126188413136, 9.767042345027406, 28.71539403881944, 22.703744485581932, 23.96054942466719, 699.902860052528, 27.01970815915375, 33.531382644398306, 15.77742837999773, 21.17033907145095, 19.57311178799282, 16.252482854789164, 215.9658234491353, 23.148495817212698, 25.381409433594982, 92.59915196486352, 67.04579188366989, 60.398267006904, 49.41753960454049, 47.19618256879291, 40.12796263341953, 39.15040413516075, 39.02678575397723, 35.55155487846203, 33.345967420597965, 33.029082571805205, 32.6800796080395, 29.352996979820098, 28.82396064956365, 27.0383004233114, 24.465689896397016, 23.908127469411735, 22.988960890334095, 21.93910486123464, 21.002011728207492, 20.833382799001875, 19.51457021171531, 18.715910108089304, 16.41351819982618, 16.05747770449325, 15.118382925918768, 14.226368298015634, 13.832297419843096, 13.799642708532945, 13.504994835582632, 56.93502835347751, 158.22796943392902, 29.318301790332946, 88.31163426294857, 33.71906779619103, 57.659020370733685, 28.529911152134098, 74.8957373658958, 46.64625251865656, 31.077626433193437, 48.642426195448394, 100.18910240075753, 66.0681910225424, 39.04918865105552, 105.49272175099443, 63.2704342041824, 29.636519304371063, 163.76471653853798, 132.96128315694705, 117.65010174382613, 166.23403551246994, 99.47506964597788, 54.76061432791469, 43.94683769641024, 37.10400593792395, 36.10904645045427, 30.81952968001612, 30.263004002546015, 30.1739435076752, 27.422997346737148, 23.44170509714918, 23.19927231146214, 22.743840946879548, 22.694691761635177, 22.1921526935597, 21.094704335852203, 21.03497733922493, 19.491676877461042, 19.337475021317708, 19.253787924903147, 17.792851693034255, 17.757451784970666, 16.75070939739187, 16.214072804677873, 16.144305677898227, 15.727049680683502, 15.385898621070547, 107.55920765559426, 20.322577019560946, 28.794973792283166, 22.24645337706994, 26.37140722375825, 45.41446165863225, 33.06926305324735, 26.242379090751125, 27.428927202593886, 66.23459181968332, 65.41267351452012, 30.460710244475386, 56.406615318559524, 24.783054195649292, 29.10573647428601, 128.825506921278, 110.27087050649659, 102.83124535796573, 104.49092553141816, 68.14552832073065, 167.5791257626221, 63.22167072954212, 50.85123215841489, 42.92946449582754, 42.928486919521575, 36.096130918953335, 34.809753297569195, 34.450180679387884, 34.21288029762961, 30.856989302804074, 26.26032524791914, 23.304211263486422, 21.040730458003097, 20.356286047244858, 19.364616349535314, 18.298182430592476, 17.848223169826774, 17.609119598440028, 16.20166664495618, 15.800836860080013, 14.708304473699554, 14.537863104777301, 14.27215034499822, 13.801484952764662, 13.088097076857853, 24.764481536808912, 40.666362814488515, 33.69003363680777, 48.45702245481045, 29.761824980215245, 29.372624280145455, 25.513644945605176, 26.875064081501716, 32.25221315269118, 50.24254364485417, 57.119846222695074, 28.04367195733357, 23.09115446079035, 346.2425182434291, 153.5292649479522, 64.02491972763754, 49.583346540921546, 32.5871561716217, 31.954628697648626, 29.577105871267268, 27.27002301146083, 26.182627771770267, 25.61043060996617, 24.170790599160902, 23.258876287890523, 21.478305795135785, 20.830787794031675, 18.988354740081995, 17.729159158798993, 17.61082662522329, 16.8530635241441, 16.406835497494498, 16.355139125910807, 16.09101969328849, 15.371530926204148, 15.031983382353799, 14.903910847637643, 43.060221776536295, 14.254521386275709, 13.961457378155341, 13.708953755793253, 13.654545143975332, 13.64864663755466, 34.42037253748521, 33.29876914972017, 33.43374912682869, 37.81908642851851, 45.904861663118965, 137.23333702706938, 59.10381133181103, 33.1069640431719, 31.339331414709246, 21.68432878100919, 17.666149947670714, 180.33612455300945, 141.1661782111563, 105.24879866081804, 77.37996932408844, 73.00850215197288, 68.47422272865713, 48.853706393479484, 46.45997604934074, 24.321846948354864, 23.719090616850373, 17.529323416802, 17.259337787861654, 16.969829771773313, 16.34806970633004, 16.34806970633004, 16.34806970633004, 16.34806970633004, 16.34806970633004, 16.34806970633004, 16.34806970633004, 16.34806970633004, 14.189349541879858, 12.750749921352702, 12.594545592391004, 12.2554094730078, 11.993638189489097, 11.804104083890806, 11.113946976923472, 11.113946976923472, 11.113946976923472, 27.989807300427486, 61.88852127575462, 150.87605034921856, 97.51121048320867, 49.61196617123052, 16.22128843375065, 22.421079658391204, 313.9177200868061, 23.81741605119437, 21.994713078044942, 302.0973648997307, 133.0224995255884, 77.87724194949423, 112.51030037266528, 42.13351042007895, 36.63063970562104, 33.2365109162774, 31.61015099980427, 28.32294743424058, 27.22334318044145, 87.05862035810202, 24.145318002431253, 22.801553584681315, 20.85125371323665, 20.636007378589547, 20.31752407314069, 19.455725490462385, 19.17372627977155, 18.49338619591126, 18.431971257585133, 17.57050561376243, 17.32204589926249, 17.00097685966873, 13.98521397666222, 12.823687189232531, 12.744178934409605, 12.125090048454654, 12.067202351692949, 11.324180388000702, 11.306806847103607, 23.30172189653027, 66.88255845699547, 55.74444381390263, 22.269600528150878, 53.735747285888316, 17.610417341328894, 20.91410683825867, 23.991451129019108, 39.66533098127036, 18.41029202587313, 20.724034228803838], \"Total\": [1508.0, 1808.0, 1895.0, 846.0, 1109.0, 701.0, 897.0, 5048.0, 667.0, 1092.0, 600.0, 347.0, 362.0, 303.0, 345.0, 458.0, 227.0, 222.0, 234.0, 181.0, 674.0, 221.0, 170.0, 236.0, 291.0, 167.0, 164.0, 154.0, 175.0, 200.0, 236.72047650612427, 126.92823702982997, 123.79655696586471, 80.48422029784223, 63.54196200848986, 53.65261024858413, 50.516912985805135, 48.131253377735604, 38.174277595866094, 34.84884058828431, 30.382354227080572, 29.922816939852254, 29.57421781424377, 28.119094529876698, 27.843944755529257, 27.60785692296051, 27.555142928667465, 27.314541202210982, 27.051241570437977, 26.18993033417309, 26.144074365290543, 25.175184585773607, 24.948681534658192, 24.68759731550165, 24.141645652624472, 24.03287467754093, 22.33555912351103, 20.791023350180975, 20.737605693385174, 20.02730218927148, 133.60367847969547, 154.74677465494776, 154.47356943084415, 227.57789378253958, 36.95614026939384, 402.2461286515303, 187.4897853930035, 99.02595804101861, 67.03526781294137, 674.6779935681753, 894.3211621366249, 5048.448971241703, 59.65797810715655, 83.3769227871379, 45.518450795787594, 242.8539872597581, 246.80095440241698, 139.80072609720742, 90.54528298283718, 290.87341428354375, 212.60368299816446, 120.12957354672626, 156.91524692232267, 323.3193424937168, 296.43718801481737, 161.73134792605617, 111.47125408637326, 76.61623550242768, 51.139599094736454, 48.358142866888734, 45.23459748751674, 38.40597080386416, 33.555822536704056, 33.47185963216455, 33.05007906183206, 31.801579486670672, 31.128254626921244, 30.47076469869288, 30.37054363706753, 27.63154947282987, 25.34217302345234, 21.79550096094022, 21.46422221876346, 21.002553893697783, 20.782289050980864, 20.389942441946978, 20.11754024230993, 19.755543161094764, 19.282128844707355, 18.81989515450037, 18.66697176647996, 17.801094916095767, 17.476079152086857, 17.201029309743095, 16.849331406383428, 156.3919499837306, 44.64863323536971, 186.77169399454448, 208.88045336587888, 44.177426851344286, 79.9001087214246, 55.66843879503412, 72.08186976238245, 242.8539872597581, 5048.448971241703, 139.80072609720742, 69.0358953639809, 52.771997993784126, 246.80095440241698, 296.43718801481737, 120.12957354672626, 182.1134082312375, 894.3211621366249, 290.87341428354375, 1895.751295394933, 674.6779935681753, 221.67341502972042, 323.3193424937168, 378.66030326071603, 122.09081943875128, 240.46129698553491, 74.04657433863056, 52.182356890453775, 46.29548408776422, 42.58097260893132, 42.092444568056244, 41.32381261112393, 35.94674199304232, 33.269874302525174, 32.22373967407379, 30.46731027527025, 30.00811195581812, 27.848189169686858, 25.315320172216058, 21.634413852136003, 19.787408537159653, 19.684134026186175, 19.339010097191252, 18.869024429526238, 17.723619197148093, 17.164660957326422, 16.29720365117369, 16.15351215612851, 15.502649391757759, 15.203907598751716, 14.537755108983351, 14.473069046071181, 14.403512984814826, 13.148093094079105, 13.105057626004154, 12.882562298946153, 1109.9316653849573, 458.7048197655679, 59.04747056394733, 600.6985956692928, 35.70145722589815, 26.063487079343066, 79.87752847610027, 56.57419428751143, 57.95402178091856, 26.405688326685816, 1092.748840886099, 130.4186743157437, 1895.751295394933, 74.3083410728827, 80.47930289896232, 60.51374102719957, 5048.448971241703, 291.9302712373966, 118.57139141123292, 296.43718801481737, 378.66030326071603, 115.8419861992841, 402.2461286515303, 182.1134082312375, 212.60368299816446, 129.8024832311225, 93.86359623548762, 93.24553885753899, 62.583004215920425, 44.09956365596189, 200.394798910239, 40.2739858333255, 33.70342451979168, 137.97902028244025, 27.392454413630063, 26.957928478455827, 25.102662483438095, 24.31014173203502, 24.017248177637654, 22.71566006516093, 21.66546713722797, 112.532171190837, 21.19243084174736, 21.190586002062442, 19.304417778224273, 17.598660629870896, 17.488941615934454, 16.60791764394147, 16.483390670106502, 15.983337652918388, 15.522992758932455, 15.421507079715804, 14.975861279363269, 14.623602210378273, 13.56518844626641, 13.023119200716575, 43.1565934099365, 1808.1350678921067, 122.86663915537476, 106.42081155444028, 66.56739260548497, 55.40011646359011, 68.72273057587505, 93.72653016284126, 378.66030326071603, 94.18469481839658, 44.40330314907893, 126.08975334168545, 5048.448971241703, 234.62165469047574, 324.19849833129814, 323.3193424937168, 231.5357816088388, 143.350723611185, 894.3211621366249, 674.6779935681753, 90.4488803276354, 345.33722127120495, 139.14967128406596, 63.97304147848479, 57.64416757466396, 56.213604509529496, 45.92821467998445, 41.15972319628816, 40.478988632197826, 37.1964842829684, 26.970659731964965, 22.84171745250929, 22.390091120046232, 20.865643872505878, 20.33990604102199, 18.79346515205092, 17.160704815075142, 15.876096800694286, 15.263550912046837, 15.207929531504947, 14.773621825172588, 13.898617713143226, 13.816609915444083, 13.575720232094575, 13.450086069960324, 12.980994268627416, 11.157363454446008, 11.157363454446008, 10.899206248749184, 104.55669130569794, 10.600772381147841, 48.94594789677196, 68.84913763926107, 68.02699171745154, 291.9302712373966, 129.8024832311225, 31.363273445394817, 77.86207430536717, 324.19849833129814, 163.4833065202775, 1895.751295394933, 115.03849654457585, 108.10484618644053, 240.46129698553491, 104.39643230059774, 104.20490475857662, 65.31127777914891, 97.47773528043733, 5048.448971241703, 1109.9316653849573, 57.171969501394386, 674.6779935681753, 894.3211621366249, 323.3193424937168, 846.9869671286591, 667.0905798743723, 227.03447976612523, 175.17680010438852, 99.41692496283525, 29.22307253327825, 25.59949265809869, 20.92610852107835, 20.904673405833638, 18.933475345202915, 17.42930152844431, 16.520383758049853, 14.505320285469928, 14.243165144721944, 14.137847972489094, 13.536304358093627, 13.44335164883107, 13.359291224775292, 13.132006343249053, 12.658587300330094, 12.27676338035013, 12.08344772895364, 11.28692911736921, 11.148082467033722, 10.810972172057312, 10.54088573701272, 10.269997119930153, 9.662570407976444, 9.602642450812914, 9.597684556722418, 897.1844646115239, 75.47378661231745, 27.972275628211207, 39.56746357075558, 1092.748840886099, 15.345566799802313, 165.4299334371814, 122.09081943875128, 204.21213264815844, 290.87341428354375, 77.29169868689966, 52.771997993784126, 894.3211621366249, 1508.6984819818265, 362.72947686016755, 39.49006066891883, 25.829730580401673, 25.33973331341033, 22.0251748563991, 21.281392283250366, 18.22538313201422, 16.53292213563254, 16.35951487509177, 15.427222817536249, 14.887470186496222, 14.69715885857381, 14.471758034801379, 13.221715142801717, 13.017829720084487, 12.14025107398596, 11.439807144814553, 11.426387978791805, 10.93795185405551, 10.66677167728723, 10.566665272221837, 9.722260187028395, 9.427534942153525, 9.335988633834852, 9.147639629098064, 8.517073335221406, 8.14288495919568, 8.004487182466049, 7.916480918849349, 49.71485472823177, 18.307070636097595, 80.40026631796701, 31.173458601700506, 204.21213264815844, 35.35960704074166, 102.79798022401776, 1092.748840886099, 49.2967652451653, 165.4299334371814, 39.525016345931974, 600.6985956692928, 52.4662603302202, 5048.448971241703, 52.225084540885256, 74.10523548314708, 894.3211621366249, 146.70033567083223, 46.41880512633957, 222.6304734542716, 139.50943066136344, 89.50898875087789, 79.42363232962398, 69.98715185316556, 66.16696505550986, 56.79326239086057, 48.481237055340586, 45.17064043701227, 39.83922719216593, 38.66148812515314, 33.316194656074785, 33.06023575560188, 32.92670775594956, 30.910193473815365, 30.001240325737598, 28.0542073901933, 87.60409118221436, 26.50154240175738, 24.665100725095794, 24.251346124916545, 22.932761253358645, 20.92529193867675, 20.4115659850653, 19.733632938488196, 19.29716738855216, 19.041653728314934, 17.24541727301118, 17.016671141208302, 16.40696458640528, 31.803568100951246, 43.13730022186916, 29.76658960919078, 67.42058454513324, 34.845552833309455, 232.24589194550734, 26.239229553818024, 54.56008866740936, 33.67736607020734, 231.5357816088388, 95.9909786275604, 240.46129698553491, 5048.448971241703, 64.0338235209953, 894.3211621366249, 296.43718801481737, 227.57789378253958, 324.19849833129814, 156.91524692232267, 701.9510159703838, 77.27051646465459, 47.42355667501535, 45.42613655837402, 43.19867409860488, 43.01409828040835, 34.516151729867154, 28.368631878304253, 23.706359020781726, 21.35445418091925, 21.281424328467953, 20.819640410606127, 18.802997134804055, 18.56962975925521, 18.440751613248313, 16.409014970153848, 15.989163062550778, 15.382026558701924, 14.974662939520723, 13.872875364407209, 13.74949132184835, 12.960951999028465, 12.640448101137313, 12.365311809759278, 11.774955372955384, 11.354233016598167, 11.321519208668892, 11.309438368690804, 10.787726941796524, 10.744643241389026, 32.21462094100943, 26.144313945461416, 31.096987762076942, 1895.751295394933, 40.594255601712675, 54.36737994643986, 20.08896759855105, 31.526537444582864, 28.15174407314983, 22.70974109748885, 5048.448971241703, 232.24589194550734, 402.2461286515303, 93.57481232105519, 68.02145207666065, 61.37392732357989, 50.39319969363839, 48.17184285567275, 41.103622731110704, 40.12606409045792, 40.00244623772231, 36.52721535541675, 34.32533738570473, 34.004742735712966, 33.65574012475232, 30.328657720483623, 29.79962099454278, 28.013960671416815, 25.441350339401055, 24.883787629260308, 23.96462106872178, 22.914765292473557, 21.977672085931683, 21.80904305448246, 20.490230961491335, 19.69157062497067, 17.389178606203675, 17.0331378336227, 16.094043009335444, 15.202028533715032, 14.807958034343491, 14.77530308660009, 14.48065510620503, 66.34661553189072, 221.67341502972042, 36.440236526750596, 149.91993689661186, 44.86219036311555, 90.4488803276354, 37.25883820932533, 146.70033567083223, 76.6960712918129, 44.08791319454979, 127.81148793262068, 674.6779935681753, 458.7048197655679, 115.8419861992841, 5048.448971241703, 894.3211621366249, 74.10523548314708, 164.74064588901618, 133.93721219585896, 118.62603120546825, 167.62029921232556, 100.45099902565299, 55.73654367387296, 44.92276732353482, 38.07993518260177, 37.084975702233315, 31.795458719644266, 31.238933456218135, 31.14987298508937, 28.398926341261753, 24.41763452179545, 24.17520187163281, 23.719770633129038, 23.670621127842914, 23.16808200685107, 22.07063308930715, 22.010906857407804, 20.46760625254726, 20.313404419643206, 20.229718189548322, 18.768780735673584, 18.733381531455716, 17.7266385482515, 17.19000200902563, 17.120235386138148, 16.702978600502988, 16.361828065446716, 148.04400029184808, 22.83014727766376, 35.54218028702019, 25.73906569041647, 33.44999664649467, 80.70462755883419, 52.225084540885256, 35.99906046442565, 42.862440434613525, 290.87341428354375, 323.3193424937168, 62.529244787677484, 894.3211621366249, 40.945146329171294, 378.66030326071603, 129.79981127908957, 111.24517453651305, 103.80554948265208, 105.48416980913586, 69.11983245287706, 170.1015245397034, 64.19597465582936, 51.82553638450346, 43.90376859817518, 43.902791087879606, 37.07043507712658, 35.78405740985931, 35.424484701465374, 35.187184517057034, 31.83129354515922, 27.23462945710636, 24.278515344922702, 22.015034466661636, 21.33059026299768, 20.3389203308977, 19.272486457704748, 18.822527654002172, 18.583424516569366, 17.175970938415944, 16.775141354955824, 15.682608615852411, 15.51216716506177, 15.246454762060592, 14.775789327817696, 14.062401375794133, 27.986368990467437, 48.040140027320476, 40.185209893235736, 65.24399994872222, 36.45774038897592, 40.34011218785929, 36.001528994579544, 40.677654925513515, 74.39046861785462, 212.60368299816446, 894.3211621366249, 246.80095440241698, 146.70033567083223, 347.22062941745014, 154.50737649923983, 65.00303127779091, 50.561457664939205, 33.565267488860506, 32.93274020243654, 30.55521713884788, 28.24813459765766, 27.160739063856052, 26.58854171895403, 25.14890195980088, 24.236988112331513, 22.456417006921782, 21.808899701463755, 19.966466776508646, 18.707271700451397, 18.588938217552673, 17.831175241107548, 17.38494737021717, 17.3332504877285, 17.069131161437316, 16.34964242815184, 16.010094256623734, 15.88202204213138, 45.9786982777496, 15.232632838626618, 14.939568847728596, 14.687065234624383, 14.632656664727056, 14.626758442554905, 37.99525069687127, 38.85697775702163, 54.50832093558495, 75.2984414876422, 122.09081943875128, 897.1844646115239, 232.24589194550734, 290.87341428354375, 402.2461286515303, 894.3211621366249, 74.3183701193665, 181.31441133459177, 142.1444648901597, 106.22708527417646, 78.35825638462596, 73.98678894072077, 69.45250917962917, 49.83199273832181, 47.43826286801131, 25.300133705556828, 24.69737710053892, 18.50761060766518, 18.237624780288073, 17.948116297427575, 17.326355800479828, 17.326355800479828, 17.326355800479828, 17.326355800479828, 17.326355800479828, 17.326355800479828, 17.326355800479828, 17.326355800479828, 15.16763654805756, 13.729036850057243, 13.572832148543425, 13.233695807099979, 12.971924661976686, 12.78239028685531, 12.092233053503879, 12.092233053503879, 12.092233053503879, 31.562555198061954, 77.29169868689966, 234.62165469047574, 143.350723611185, 69.98763984408627, 18.844888192176597, 30.176193868194197, 1808.1350678921067, 35.383532245730976, 182.1134082312375, 303.07383742866534, 133.99890818669863, 78.85365052309244, 114.86914844550746, 43.10991875676532, 37.60704866051615, 34.212919538862664, 32.58655972528186, 29.299355813520002, 28.199751584568286, 90.2422061372712, 25.12172634931506, 23.777962217272993, 21.82766233464114, 21.612415773729882, 21.29393307585429, 20.43213456307592, 20.150134969654218, 19.469794744619133, 19.408379702059275, 18.546914152436496, 18.298454510445325, 17.977385122102874, 14.961622197398233, 13.800095656285444, 13.720587824021086, 13.101498386219788, 13.043610949505037, 12.300588460185892, 12.283215932955953, 25.992452033331286, 90.03941893973283, 74.3183701193665, 26.9878240943099, 92.37465901549822, 26.55867051011617, 42.68545570892875, 66.97209104603292, 5048.448971241703, 36.17658561037261, 674.6779935681753], \"Category\": [\"Default\", \"Default\", \"Default\", \"Default\", \"Default\", \"Default\", \"Default\", \"Default\", \"Default\", \"Default\", \"Default\", \"Default\", \"Default\", \"Default\", \"Default\", \"Default\", \"Default\", \"Default\", \"Default\", \"Default\", \"Default\", \"Default\", \"Default\", \"Default\", \"Default\", \"Default\", \"Default\", \"Default\", \"Default\", \"Default\", \"Topic1\", \"Topic1\", \"Topic1\", \"Topic1\", \"Topic1\", \"Topic1\", \"Topic1\", \"Topic1\", \"Topic1\", \"Topic1\", \"Topic1\", \"Topic1\", \"Topic1\", \"Topic1\", \"Topic1\", \"Topic1\", \"Topic1\", \"Topic1\", \"Topic1\", \"Topic1\", \"Topic1\", \"Topic1\", \"Topic1\", \"Topic1\", \"Topic1\", \"Topic1\", \"Topic1\", \"Topic1\", \"Topic1\", \"Topic1\", \"Topic1\", \"Topic1\", \"Topic1\", \"Topic1\", \"Topic1\", \"Topic1\", \"Topic1\", \"Topic1\", \"Topic1\", \"Topic1\", \"Topic1\", \"Topic1\", \"Topic1\", \"Topic1\", \"Topic1\", \"Topic1\", \"Topic1\", \"Topic1\", \"Topic1\", \"Topic1\", \"Topic1\", \"Topic1\", \"Topic1\", \"Topic1\", \"Topic1\", \"Topic2\", \"Topic2\", \"Topic2\", \"Topic2\", \"Topic2\", \"Topic2\", \"Topic2\", \"Topic2\", \"Topic2\", \"Topic2\", \"Topic2\", \"Topic2\", \"Topic2\", \"Topic2\", \"Topic2\", \"Topic2\", \"Topic2\", \"Topic2\", \"Topic2\", \"Topic2\", \"Topic2\", \"Topic2\", \"Topic2\", \"Topic2\", \"Topic2\", \"Topic2\", \"Topic2\", \"Topic2\", \"Topic2\", \"Topic2\", \"Topic2\", \"Topic2\", \"Topic2\", \"Topic2\", \"Topic2\", \"Topic2\", \"Topic2\", \"Topic2\", \"Topic2\", \"Topic2\", \"Topic2\", \"Topic2\", \"Topic2\", \"Topic2\", \"Topic2\", \"Topic2\", \"Topic2\", \"Topic2\", \"Topic2\", \"Topic2\", \"Topic2\", \"Topic2\", \"Topic2\", \"Topic2\", \"Topic2\", \"Topic2\", \"Topic3\", \"Topic3\", \"Topic3\", \"Topic3\", \"Topic3\", \"Topic3\", \"Topic3\", \"Topic3\", \"Topic3\", \"Topic3\", \"Topic3\", \"Topic3\", \"Topic3\", \"Topic3\", \"Topic3\", \"Topic3\", \"Topic3\", \"Topic3\", \"Topic3\", \"Topic3\", \"Topic3\", \"Topic3\", \"Topic3\", \"Topic3\", \"Topic3\", \"Topic3\", \"Topic3\", \"Topic3\", \"Topic3\", \"Topic3\", \"Topic3\", \"Topic3\", \"Topic3\", \"Topic3\", \"Topic3\", \"Topic3\", \"Topic3\", \"Topic3\", \"Topic3\", \"Topic3\", \"Topic3\", \"Topic3\", \"Topic3\", \"Topic3\", \"Topic3\", \"Topic3\", \"Topic3\", \"Topic3\", \"Topic3\", \"Topic3\", \"Topic3\", \"Topic3\", \"Topic3\", \"Topic3\", \"Topic3\", \"Topic3\", \"Topic4\", \"Topic4\", \"Topic4\", \"Topic4\", \"Topic4\", \"Topic4\", \"Topic4\", \"Topic4\", \"Topic4\", \"Topic4\", \"Topic4\", \"Topic4\", \"Topic4\", \"Topic4\", \"Topic4\", \"Topic4\", \"Topic4\", \"Topic4\", \"Topic4\", \"Topic4\", \"Topic4\", \"Topic4\", \"Topic4\", \"Topic4\", \"Topic4\", \"Topic4\", \"Topic4\", \"Topic4\", \"Topic4\", \"Topic4\", \"Topic4\", \"Topic4\", \"Topic4\", \"Topic4\", \"Topic4\", \"Topic4\", \"Topic4\", \"Topic4\", \"Topic4\", \"Topic4\", \"Topic4\", \"Topic4\", \"Topic4\", \"Topic4\", \"Topic4\", \"Topic4\", \"Topic4\", \"Topic4\", \"Topic4\", \"Topic4\", \"Topic4\", \"Topic5\", \"Topic5\", \"Topic5\", \"Topic5\", \"Topic5\", \"Topic5\", \"Topic5\", \"Topic5\", \"Topic5\", \"Topic5\", \"Topic5\", \"Topic5\", \"Topic5\", \"Topic5\", \"Topic5\", \"Topic5\", \"Topic5\", \"Topic5\", \"Topic5\", \"Topic5\", \"Topic5\", \"Topic5\", \"Topic5\", \"Topic5\", \"Topic5\", \"Topic5\", \"Topic5\", \"Topic5\", \"Topic5\", \"Topic5\", \"Topic5\", \"Topic5\", \"Topic5\", \"Topic5\", \"Topic5\", \"Topic5\", \"Topic5\", \"Topic5\", \"Topic5\", \"Topic5\", \"Topic5\", \"Topic5\", \"Topic5\", \"Topic5\", \"Topic5\", \"Topic5\", \"Topic5\", \"Topic5\", \"Topic5\", \"Topic5\", \"Topic5\", \"Topic5\", \"Topic5\", \"Topic6\", \"Topic6\", \"Topic6\", \"Topic6\", \"Topic6\", \"Topic6\", \"Topic6\", \"Topic6\", \"Topic6\", \"Topic6\", \"Topic6\", \"Topic6\", \"Topic6\", \"Topic6\", \"Topic6\", \"Topic6\", \"Topic6\", \"Topic6\", \"Topic6\", \"Topic6\", \"Topic6\", \"Topic6\", \"Topic6\", \"Topic6\", \"Topic6\", \"Topic6\", \"Topic6\", \"Topic6\", \"Topic6\", \"Topic6\", \"Topic6\", \"Topic6\", \"Topic6\", \"Topic6\", \"Topic6\", \"Topic6\", \"Topic6\", \"Topic6\", \"Topic6\", \"Topic6\", \"Topic6\", \"Topic6\", \"Topic6\", \"Topic7\", \"Topic7\", \"Topic7\", \"Topic7\", \"Topic7\", \"Topic7\", \"Topic7\", \"Topic7\", \"Topic7\", \"Topic7\", \"Topic7\", \"Topic7\", \"Topic7\", \"Topic7\", \"Topic7\", \"Topic7\", \"Topic7\", \"Topic7\", \"Topic7\", \"Topic7\", \"Topic7\", \"Topic7\", \"Topic7\", \"Topic7\", \"Topic7\", \"Topic7\", \"Topic7\", \"Topic7\", \"Topic7\", \"Topic7\", \"Topic7\", \"Topic7\", \"Topic7\", \"Topic7\", \"Topic7\", \"Topic7\", \"Topic7\", \"Topic7\", \"Topic7\", \"Topic7\", \"Topic7\", \"Topic7\", \"Topic7\", \"Topic7\", \"Topic7\", \"Topic7\", \"Topic7\", \"Topic7\", \"Topic7\", \"Topic8\", \"Topic8\", \"Topic8\", \"Topic8\", \"Topic8\", \"Topic8\", \"Topic8\", \"Topic8\", \"Topic8\", \"Topic8\", \"Topic8\", \"Topic8\", \"Topic8\", \"Topic8\", \"Topic8\", \"Topic8\", \"Topic8\", \"Topic8\", \"Topic8\", \"Topic8\", \"Topic8\", \"Topic8\", \"Topic8\", \"Topic8\", \"Topic8\", \"Topic8\", \"Topic8\", \"Topic8\", \"Topic8\", \"Topic8\", \"Topic8\", \"Topic8\", \"Topic8\", \"Topic8\", \"Topic8\", \"Topic8\", \"Topic8\", \"Topic8\", \"Topic8\", \"Topic8\", \"Topic8\", \"Topic8\", \"Topic8\", \"Topic8\", \"Topic8\", \"Topic8\", \"Topic8\", \"Topic8\", \"Topic8\", \"Topic9\", \"Topic9\", \"Topic9\", \"Topic9\", \"Topic9\", \"Topic9\", \"Topic9\", \"Topic9\", \"Topic9\", \"Topic9\", \"Topic9\", \"Topic9\", \"Topic9\", \"Topic9\", \"Topic9\", \"Topic9\", \"Topic9\", \"Topic9\", \"Topic9\", \"Topic9\", \"Topic9\", \"Topic9\", \"Topic9\", \"Topic9\", \"Topic9\", \"Topic9\", \"Topic9\", \"Topic9\", \"Topic9\", \"Topic9\", \"Topic9\", \"Topic9\", \"Topic9\", \"Topic9\", \"Topic9\", \"Topic9\", \"Topic9\", \"Topic9\", \"Topic9\", \"Topic9\", \"Topic9\", \"Topic9\", \"Topic9\", \"Topic10\", \"Topic10\", \"Topic10\", \"Topic10\", \"Topic10\", \"Topic10\", \"Topic10\", \"Topic10\", \"Topic10\", \"Topic10\", \"Topic10\", \"Topic10\", \"Topic10\", \"Topic10\", \"Topic10\", \"Topic10\", \"Topic10\", \"Topic10\", \"Topic10\", \"Topic10\", \"Topic10\", \"Topic10\", \"Topic10\", \"Topic10\", \"Topic10\", \"Topic10\", \"Topic10\", \"Topic10\", \"Topic10\", \"Topic10\", \"Topic10\", \"Topic10\", \"Topic10\", \"Topic10\", \"Topic10\", \"Topic10\", \"Topic10\", \"Topic10\", \"Topic10\", \"Topic10\", \"Topic10\", \"Topic10\", \"Topic10\", \"Topic10\", \"Topic10\", \"Topic10\", \"Topic10\", \"Topic11\", \"Topic11\", \"Topic11\", \"Topic11\", \"Topic11\", \"Topic11\", \"Topic11\", \"Topic11\", \"Topic11\", \"Topic11\", \"Topic11\", \"Topic11\", \"Topic11\", \"Topic11\", \"Topic11\", \"Topic11\", \"Topic11\", \"Topic11\", \"Topic11\", \"Topic11\", \"Topic11\", \"Topic11\", \"Topic11\", \"Topic11\", \"Topic11\", \"Topic11\", \"Topic11\", \"Topic11\", \"Topic11\", \"Topic11\", \"Topic11\", \"Topic11\", \"Topic11\", \"Topic11\", \"Topic11\", \"Topic11\", \"Topic11\", \"Topic11\", \"Topic11\", \"Topic11\", \"Topic11\", \"Topic11\", \"Topic11\", \"Topic11\", \"Topic11\", \"Topic12\", \"Topic12\", \"Topic12\", \"Topic12\", \"Topic12\", \"Topic12\", \"Topic12\", \"Topic12\", \"Topic12\", \"Topic12\", \"Topic12\", \"Topic12\", \"Topic12\", \"Topic12\", \"Topic12\", \"Topic12\", \"Topic12\", \"Topic12\", \"Topic12\", \"Topic12\", \"Topic12\", \"Topic12\", \"Topic12\", \"Topic12\", \"Topic12\", \"Topic12\", \"Topic12\", \"Topic12\", \"Topic12\", \"Topic12\", \"Topic12\", \"Topic12\", \"Topic12\", \"Topic12\", \"Topic12\", \"Topic12\", \"Topic12\", \"Topic12\", \"Topic12\", \"Topic12\", \"Topic12\", \"Topic12\", \"Topic12\", \"Topic13\", \"Topic13\", \"Topic13\", \"Topic13\", \"Topic13\", \"Topic13\", \"Topic13\", \"Topic13\", \"Topic13\", \"Topic13\", \"Topic13\", \"Topic13\", \"Topic13\", \"Topic13\", \"Topic13\", \"Topic13\", \"Topic13\", \"Topic13\", \"Topic13\", \"Topic13\", \"Topic13\", \"Topic13\", \"Topic13\", \"Topic13\", \"Topic13\", \"Topic13\", \"Topic13\", \"Topic13\", \"Topic13\", \"Topic13\", \"Topic13\", \"Topic13\", \"Topic13\", \"Topic13\", \"Topic13\", \"Topic13\", \"Topic13\", \"Topic13\", \"Topic13\", \"Topic13\", \"Topic13\", \"Topic14\", \"Topic14\", \"Topic14\", \"Topic14\", \"Topic14\", \"Topic14\", \"Topic14\", \"Topic14\", \"Topic14\", \"Topic14\", \"Topic14\", \"Topic14\", \"Topic14\", \"Topic14\", \"Topic14\", \"Topic14\", \"Topic14\", \"Topic14\", \"Topic14\", \"Topic14\", \"Topic14\", \"Topic14\", \"Topic14\", \"Topic14\", \"Topic14\", \"Topic14\", \"Topic14\", \"Topic14\", \"Topic14\", \"Topic14\", \"Topic14\", \"Topic14\", \"Topic14\", \"Topic14\", \"Topic14\", \"Topic14\", \"Topic14\", \"Topic14\", \"Topic14\", \"Topic14\", \"Topic15\", \"Topic15\", \"Topic15\", \"Topic15\", \"Topic15\", \"Topic15\", \"Topic15\", \"Topic15\", \"Topic15\", \"Topic15\", \"Topic15\", \"Topic15\", \"Topic15\", \"Topic15\", \"Topic15\", \"Topic15\", \"Topic15\", \"Topic15\", \"Topic15\", \"Topic15\", \"Topic15\", \"Topic15\", \"Topic15\", \"Topic15\", \"Topic15\", \"Topic15\", \"Topic15\", \"Topic15\", \"Topic15\", \"Topic15\", \"Topic15\", \"Topic15\", \"Topic15\", \"Topic15\", \"Topic15\", \"Topic15\", \"Topic15\", \"Topic15\", \"Topic15\", \"Topic15\", \"Topic15\"], \"logprob\": [30.0, 29.0, 28.0, 27.0, 26.0, 25.0, 24.0, 23.0, 22.0, 21.0, 20.0, 19.0, 18.0, 17.0, 16.0, 15.0, 14.0, 13.0, 12.0, 11.0, 10.0, 9.0, 8.0, 7.0, 6.0, 5.0, 4.0, 3.0, 2.0, 1.0, -3.5351, -4.162, -4.1871, -4.622, -4.8616, -5.0337, -5.0951, -5.1444, -5.3816, -5.4752, -5.6167, -5.6324, -5.6445, -5.6967, -5.7069, -5.7158, -5.7177, -5.7268, -5.7369, -5.7705, -5.7723, -5.8115, -5.8209, -5.8319, -5.8552, -5.8599, -5.9364, -6.0114, -6.0141, -6.0507, -4.1604, -4.0155, -4.0509, -3.8203, -5.4839, -3.4315, -4.0917, -4.6603, -5.0231, -3.2575, -3.2666, -2.0786, -5.258, -5.1085, -5.4546, -4.6061, -4.7579, -5.0081, -5.1905, -4.7541, -4.9047, -5.1463, -5.1484, -5.0109, -5.1064, -3.8195, -4.1944, -4.5733, -4.984, -5.0411, -5.1093, -5.2768, -5.4156, -5.4182, -5.4313, -5.471, -5.493, -5.5151, -5.5185, -5.6163, -5.7061, -5.8634, -5.8794, -5.9022, -5.9133, -5.9333, -5.9474, -5.9665, -5.992, -6.0176, -6.0262, -6.0764, -6.0959, -6.1127, -6.1346, -3.9711, -5.2083, -3.887, -3.8831, -5.2672, -4.7626, -5.0769, -4.8746, -3.8694, -1.6, -4.4584, -5.0168, -5.2448, -4.2368, -4.2848, -4.837, -4.7184, -4.0237, -4.575, -3.9418, -4.3312, -4.7636, -4.7447, -4.7541, -5.049, -5.0773, -4.5591, -4.9147, -5.0368, -5.1224, -5.1342, -5.153, -5.2961, -5.3757, -5.4086, -5.4665, -5.4822, -5.5595, -5.6585, -5.8225, -5.9162, -5.9217, -5.9403, -5.9662, -6.0324, -6.0664, -6.1214, -6.1309, -6.1747, -6.1955, -6.2434, -6.2482, -6.2534, -6.3516, -6.3551, -6.3736, -1.9425, -2.8799, -4.8943, -2.6621, -5.3836, -5.6975, -4.6582, -4.9892, -4.9863, -5.7105, -2.7714, -4.4828, -2.5052, -4.9513, -4.9135, -5.1296, -2.0763, -4.3135, -5.0757, -4.9162, -4.8602, -5.2344, -5.0834, -5.2394, -5.2355, -5.341, -4.1974, -4.2041, -4.608, -4.9647, -3.4521, -5.0576, -5.2405, -3.8373, -5.4548, -5.4713, -5.5454, -5.5788, -5.5915, -5.6496, -5.6991, -4.0522, -5.7222, -5.7223, -5.8203, -5.918, -5.9246, -5.9794, -5.9874, -6.0202, -6.0513, -6.0583, -6.0897, -6.1152, -6.1959, -6.2399, -5.0588, -1.42, -4.1137, -4.3671, -4.8402, -5.0346, -4.8749, -4.6339, -3.5952, -4.7199, -5.2832, -4.6568, -2.4282, -4.3119, -4.2634, -4.3892, -4.5515, -4.9236, -4.7647, -4.8471, -5.2666, -2.6609, -3.5741, -4.3595, -4.4654, -4.491, -4.697, -4.8092, -4.8263, -4.913, -5.2448, -5.4177, -5.4386, -5.5125, -5.5393, -5.6225, -5.7186, -5.8013, -5.8433, -5.8472, -5.8782, -5.9437, -5.9501, -5.969, -5.9791, -6.0174, -6.1822, -6.1822, -6.2079, -3.9492, -6.2384, -4.7172, -4.4044, -4.5363, -3.3828, -4.1483, -5.2991, -4.5956, -3.536, -4.0564, -2.3401, -4.3914, -4.4498, -3.9236, -4.514, -4.5791, -4.8717, -4.6627, -2.614, -3.8133, -5.0799, -4.2532, -4.6532, -4.8438, -1.7129, -1.952, -3.0327, -3.2932, -3.864, -5.1127, -5.25, -5.4605, -5.4616, -5.5658, -5.6533, -5.7102, -5.8491, -5.8687, -5.8766, -5.9234, -5.9309, -5.9376, -5.9562, -5.9959, -6.0292, -6.0464, -6.1209, -6.1345, -6.1682, -6.1961, -6.2248, -6.2925, -6.2994, -6.3, -1.8214, -4.3191, -5.3171, -5.1366, -2.8348, -5.979, -5.2624, -5.534, -5.4587, -5.5396, -5.7801, -5.8722, -5.718, -1.1303, -2.5577, -4.7977, -5.2357, -5.2556, -5.4019, -5.4379, -5.601, -5.7043, -5.7155, -5.778, -5.8161, -5.8299, -5.8464, -5.9437, -5.9604, -6.0361, -6.1009, -6.1022, -6.1501, -6.1777, -6.1881, -6.2803, -6.3146, -6.3255, -6.3483, -6.4286, -6.4795, -6.499, -6.5116, -4.8135, -5.7418, -4.4078, -5.301, -3.6934, -5.2344, -4.3861, -2.5091, -5.0802, -4.2235, -5.2598, -3.7237, -5.4064, -3.3707, -5.5446, -5.5923, -5.2461, -5.5445, -5.7779, -3.0367, -3.5067, -3.9544, -4.0754, -4.2035, -4.2605, -4.4157, -4.577, -4.6492, -4.7778, -4.8085, -4.9615, -4.9694, -4.9736, -5.0388, -5.0696, -5.1391, -4.0013, -5.1981, -5.2728, -5.2904, -5.3487, -5.4446, -5.4707, -5.5062, -5.5297, -5.5438, -5.6485, -5.6627, -5.7014, -5.0848, -4.8097, -5.1589, -4.4762, -5.0451, -3.5458, -5.287, -4.7533, -5.1171, -3.8192, -4.4971, -4.2251, -2.897, -4.8627, -3.8683, -4.7421, -4.8012, -4.8395, -4.9394, -1.6932, -3.911, -4.4073, -4.4513, -4.5027, -4.5071, -4.7329, -4.9354, -5.122, -5.2312, -5.2348, -5.2578, -5.365, -5.3782, -5.3855, -5.5092, -5.5368, -5.5781, -5.6068, -5.6888, -5.6984, -5.7621, -5.7892, -5.8131, -5.8663, -5.9061, -5.9092, -5.9104, -5.9622, -5.9666, -4.8882, -5.1231, -5.0692, -1.6947, -4.9491, -4.7331, -5.487, -5.193, -5.2715, -5.4574, -2.8705, -5.1037, -5.0116, -3.712, -4.0349, -4.1393, -4.34, -4.386, -4.5482, -4.5729, -4.576, -4.6693, -4.7333, -4.7429, -4.7535, -4.8609, -4.8791, -4.943, -5.043, -5.0661, -5.1053, -5.152, -5.1957, -5.2037, -5.2691, -5.3109, -5.4422, -5.4641, -5.5244, -5.5852, -5.6133, -5.6156, -5.6372, -4.1984, -3.1762, -4.8621, -3.7594, -4.7222, -4.1857, -4.8893, -3.9242, -4.3977, -4.8038, -4.3558, -3.6332, -4.0496, -4.5754, -3.5816, -4.0929, -4.8513, -3.1083, -3.3167, -3.439, -3.0933, -3.6068, -4.2038, -4.4238, -4.593, -4.6202, -4.7786, -4.7968, -4.7998, -4.8954, -5.0522, -5.0626, -5.0825, -5.0846, -5.107, -5.1577, -5.1606, -5.2368, -5.2447, -5.249, -5.3279, -5.3299, -5.3883, -5.4209, -5.4252, -5.4514, -5.4733, -3.5287, -5.195, -4.8465, -5.1046, -4.9345, -4.3909, -4.7081, -4.9394, -4.8951, -4.0135, -4.026, -4.7903, -4.1742, -4.9966, -4.8358, -3.2625, -3.418, -3.4879, -3.4719, -3.8993, -2.9995, -3.9743, -4.1921, -4.3614, -4.3614, -4.5348, -4.5711, -4.5815, -4.5884, -4.6916, -4.8529, -4.9723, -5.0745, -5.1076, -5.1575, -5.2142, -5.2391, -5.2526, -5.3359, -5.3609, -5.4326, -5.4442, -5.4627, -5.4962, -5.5493, -4.9116, -4.4156, -4.6038, -4.2403, -4.7278, -4.7409, -4.8818, -4.8298, -4.6474, -4.2041, -4.0758, -4.7872, -4.9815, -2.1962, -3.0095, -3.8841, -4.1397, -4.5594, -4.579, -4.6564, -4.7376, -4.7783, -4.8004, -4.8582, -4.8967, -4.9763, -5.0069, -5.0995, -5.1681, -5.1748, -5.2188, -5.2457, -5.2488, -5.2651, -5.3108, -5.3332, -5.3417, -4.2808, -5.3863, -5.4071, -5.4253, -5.4293, -5.4297, -4.5047, -4.5378, -4.5338, -4.4105, -4.2168, -3.1217, -3.9641, -4.5436, -4.5985, -4.9668, -5.1717, -2.815, -3.0598, -3.3535, -3.6611, -3.7192, -3.7833, -4.121, -4.1712, -4.8184, -4.8435, -5.1459, -5.1614, -5.1783, -5.2157, -5.2157, -5.2157, -5.2157, -5.2157, -5.2157, -5.2157, -5.2157, -5.3573, -5.4642, -5.4765, -5.5038, -5.5254, -5.5413, -5.6016, -5.6016, -5.6016, -4.6779, -3.8844, -2.9933, -3.4298, -4.1056, -5.2235, -4.8998, -2.2607, -4.8394, -4.919, -2.2721, -3.0923, -3.6277, -3.2598, -4.242, -4.382, -4.4792, -4.5294, -4.6392, -4.6788, -3.5163, -4.7988, -4.856, -4.9454, -4.9558, -4.9714, -5.0147, -5.0293, -5.0654, -5.0688, -5.1166, -5.1309, -5.1496, -5.3448, -5.4315, -5.4378, -5.4876, -5.4924, -5.5559, -5.5574, -4.8343, -3.7799, -3.9621, -4.8796, -3.9988, -5.1144, -4.9424, -4.8051, -4.3024, -5.0699, -4.9515], \"loglift\": [30.0, 29.0, 28.0, 27.0, 26.0, 25.0, 24.0, 23.0, 22.0, 21.0, 20.0, 19.0, 18.0, 17.0, 16.0, 15.0, 14.0, 13.0, 12.0, 11.0, 10.0, 9.0, 8.0, 7.0, 6.0, 5.0, 4.0, 3.0, 2.0, 1.0, 2.1707, 2.1671, 2.1669, 2.1626, 2.1593, 2.1565, 2.1553, 2.1543, 2.1489, 2.1464, 2.1422, 2.1417, 2.1413, 2.1395, 2.1391, 2.1388, 2.1388, 2.1384, 2.1381, 2.1368, 2.1368, 2.1353, 2.1349, 2.1345, 2.1336, 2.1334, 2.1301, 2.1267, 2.1266, 2.1249, 2.1174, 2.1154, 2.0818, 1.9249, 2.079, 1.7441, 1.8473, 1.917, 1.9444, 1.401, 1.1101, 0.5672, 1.8261, 1.6408, 1.9, 1.0741, 0.9062, 1.2244, 1.4763, 0.7457, 0.9085, 1.2379, 0.9686, 0.3831, 0.3745, 2.2673, 2.2646, 2.2605, 2.2541, 2.253, 2.2516, 2.2476, 2.2439, 2.2438, 2.2434, 2.2422, 2.2415, 2.2408, 2.2407, 2.2374, 2.2341, 2.2276, 2.2269, 2.2258, 2.2253, 2.2244, 2.2237, 2.2228, 2.2215, 2.2202, 2.2197, 2.217, 2.216, 2.215, 2.2138, 2.1492, 2.1656, 2.0558, 1.9478, 2.1173, 2.0293, 2.0763, 2.0203, 1.8108, 1.0458, 1.774, 1.9213, 1.9619, 1.4274, 1.196, 1.5471, 1.2497, 0.3529, 0.9247, -0.3165, 0.3272, 1.0079, 0.6493, 0.4819, 1.3189, 0.6128, 2.3089, 2.3032, 2.3008, 2.2989, 2.2987, 2.2982, 2.2946, 2.2923, 2.2913, 2.2895, 2.289, 2.2864, 2.2828, 2.2759, 2.2715, 2.2712, 2.2702, 2.2689, 2.2654, 2.2635, 2.2602, 2.2597, 2.257, 2.2556, 2.2525, 2.2522, 2.2518, 2.2448, 2.2446, 2.2432, 2.2181, 2.1643, 2.2001, 2.1125, 2.2139, 2.2147, 2.134, 2.1479, 2.1268, 2.1886, 1.4049, 1.8192, 1.1201, 1.9131, 1.8712, 1.9402, 0.5695, 1.1827, 1.3215, 0.5646, 0.3759, 1.1861, 0.0922, 0.7287, 0.5778, 0.9657, 2.4335, 2.4334, 2.4282, 2.4215, 2.4203, 2.4194, 2.4145, 2.4083, 2.4077, 2.4071, 2.4043, 2.403, 2.4025, 2.4, 2.3979, 2.3973, 2.3968, 2.3968, 2.3921, 2.3869, 2.3865, 2.3834, 2.3829, 2.381, 2.379, 2.3786, 2.3766, 2.3749, 2.3693, 2.3661, 2.349, 2.2526, 2.2479, 2.1382, 2.1343, 2.1235, 2.0677, 1.9985, 1.6408, 1.9076, 2.0962, 1.6789, 0.2176, 1.4028, 1.128, 1.0049, 1.1764, 1.2838, -0.3881, -0.1886, 1.4013, 2.6672, 2.663, 2.6547, 2.653, 2.6525, 2.6486, 2.6461, 2.6456, 2.6435, 2.6332, 2.6264, 2.6255, 2.6221, 2.6208, 2.6167, 2.6114, 2.6065, 2.6039, 2.6037, 2.6016, 2.5972, 2.5967, 2.5954, 2.5946, 2.5918, 2.5784, 2.5784, 2.5761, 2.5737, 2.5734, 2.5648, 2.5364, 2.4164, 2.1134, 2.1584, 2.428, 2.2221, 1.8553, 2.0196, 1.2853, 2.036, 2.0398, 1.7666, 2.0105, 1.9473, 2.1218, 1.9303, 0.0318, 0.3473, 2.0467, 0.4052, -0.2766, 0.5502, 2.7181, 2.7178, 2.7149, 2.7136, 2.7093, 2.685, 2.6801, 2.6711, 2.6711, 2.6659, 2.6612, 2.6579, 2.6491, 2.6477, 2.6472, 2.6439, 2.6433, 2.6428, 2.6414, 2.6384, 2.6358, 2.6344, 2.6281, 2.6269, 2.6239, 2.6214, 2.6186, 2.612, 2.6113, 2.6112, 2.5521, 2.5298, 2.5244, 2.358, 1.3414, 2.4628, 0.8017, 0.834, 0.3948, -0.0398, 1.045, 1.3345, -1.3414, 2.7234, 2.7214, 2.699, 2.6854, 2.6847, 2.6786, 2.677, 2.6689, 2.6631, 2.6624, 2.6585, 2.6561, 2.6552, 2.6541, 2.6472, 2.6459, 2.64, 2.6346, 2.6345, 2.6303, 2.6278, 2.6269, 2.618, 2.6145, 2.6133, 2.6109, 2.602, 2.596, 2.5937, 2.5921, 2.4528, 2.5236, 2.3778, 2.4321, 2.1601, 2.3727, 2.1538, 1.6671, 2.1946, 1.8407, 2.236, 1.0509, 1.8062, -0.7249, 1.6726, 1.2749, -0.8694, 0.6398, 1.557, 2.7305, 2.7278, 2.7239, 2.7225, 2.7208, 2.72, 2.7175, 2.7145, 2.713, 2.7101, 2.7093, 2.7051, 2.7049, 2.7048, 2.7028, 2.7018, 2.6995, 2.6986, 2.6974, 2.6945, 2.6938, 2.6914, 2.6871, 2.6859, 2.6842, 2.683, 2.6823, 2.6766, 2.6758, 2.6736, 2.6283, 2.5986, 2.6204, 2.4855, 2.5767, 2.1791, 2.6184, 2.4201, 2.5388, 1.9088, 2.1113, 1.465, -0.2511, 2.1506, 0.5083, 0.7387, 0.944, 0.5518, 1.1776, 2.9257, 2.9143, 2.9062, 2.9053, 2.9042, 2.9041, 2.8983, 2.892, 2.8849, 2.8802, 2.88, 2.879, 2.8737, 2.873, 2.8726, 2.8656, 2.864, 2.8614, 2.8595, 2.854, 2.8533, 2.8486, 2.8466, 2.8447, 2.8404, 2.837, 2.8368, 2.8366, 2.8321, 2.8317, 2.8121, 2.786, 2.6664, 1.9306, 2.52, 2.4438, 2.6855, 2.5288, 2.5636, 2.5925, -0.2247, 0.6212, 0.164, 2.9219, 2.918, 2.9164, 2.9129, 2.912, 2.9084, 2.9078, 2.9077, 2.9053, 2.9035, 2.9033, 2.903, 2.8997, 2.8991, 2.897, 2.8933, 2.8924, 2.8909, 2.8889, 2.887, 2.8866, 2.8836, 2.8816, 2.8747, 2.8734, 2.8699, 2.8661, 2.8643, 2.8641, 2.8627, 2.7794, 2.5952, 2.715, 2.4032, 2.6469, 2.4822, 2.6655, 2.2601, 2.4352, 2.5827, 1.9664, 1.0252, 0.9947, 1.845, -0.9358, 0.2838, 2.0159, 2.96, 2.9586, 2.9577, 2.9576, 2.9562, 2.9483, 2.944, 2.94, 2.9393, 2.9348, 2.9342, 2.9341, 2.931, 2.9252, 2.9247, 2.9239, 2.9238, 2.9229, 2.9207, 2.9206, 2.9171, 2.9167, 2.9165, 2.9125, 2.9124, 2.9093, 2.9075, 2.9072, 2.9057, 2.9044, 2.6465, 2.8496, 2.7554, 2.8201, 2.7282, 2.391, 2.509, 2.6498, 2.5195, 1.4863, 1.368, 2.2467, 0.2025, 2.4639, 0.4002, 3.0442, 3.0429, 3.0423, 3.0422, 3.0375, 3.0368, 3.0364, 3.0327, 3.0293, 3.0293, 3.0251, 3.0241, 3.0238, 3.0236, 3.0206, 3.0153, 3.0108, 3.0064, 3.005, 3.0026, 2.9998, 2.9986, 2.9979, 2.9933, 2.9919, 2.9876, 2.9868, 2.9857, 2.9835, 2.9799, 2.9294, 2.8851, 2.8754, 2.7543, 2.8488, 2.7344, 2.7074, 2.6372, 2.216, 1.6091, 0.3008, 0.8769, 1.2028, 3.1265, 3.123, 3.1142, 3.1098, 3.0998, 3.0992, 3.0968, 3.0941, 3.0927, 3.0919, 3.0897, 3.0881, 3.0848, 3.0834, 3.0791, 3.0756, 3.0753, 3.0729, 3.0714, 3.0712, 3.0703, 3.0676, 3.0663, 3.0658, 3.0638, 3.063, 3.0616, 3.0604, 3.0601, 3.0601, 3.0305, 2.975, 2.6405, 2.4407, 2.1511, 1.2518, 1.7608, 0.9562, 0.5771, -0.5901, 1.6926, 3.1575, 3.156, 3.1536, 3.1503, 3.1496, 3.1487, 3.1431, 3.1421, 3.1235, 3.1225, 3.1086, 3.1078, 3.1069, 3.1048, 3.1048, 3.1048, 3.1048, 3.1048, 3.1048, 3.1048, 3.1048, 3.0962, 3.089, 3.0881, 3.0861, 3.0845, 3.0833, 3.0785, 3.0785, 3.0785, 3.0428, 2.9406, 2.7214, 2.7776, 2.8188, 3.013, 2.8658, 1.412, 2.7671, 1.0491, 3.1866, 3.1825, 3.1774, 3.1691, 3.1669, 3.1635, 3.1609, 3.1594, 3.156, 3.1546, 3.1539, 3.1502, 3.1479, 3.1441, 3.1436, 3.1429, 3.1409, 3.1402, 3.1384, 3.1382, 3.1358, 3.135, 3.134, 3.1224, 3.1165, 3.116, 3.1124, 3.112, 3.1071, 3.107, 3.0806, 2.8925, 2.9023, 2.9977, 2.6481, 2.779, 2.4764, 2.1633, -1.6565, 2.5143, -0.2931]}, \"token.table\": {\"Topic\": [1, 3, 6, 9, 2, 15, 3, 2, 12, 1, 7, 9, 12, 1, 2, 11, 13, 3, 14, 2, 3, 6, 1, 4, 9, 1, 4, 5, 8, 10, 14, 2, 5, 2, 4, 6, 7, 10, 13, 7, 2, 10, 10, 14, 13, 8, 13, 3, 9, 10, 11, 10, 11, 2, 3, 10, 12, 15, 6, 4, 2, 7, 11, 1, 4, 11, 1, 8, 15, 1, 1, 2, 10, 3, 5, 11, 3, 1, 2, 3, 4, 5, 7, 8, 9, 10, 15, 3, 12, 2, 5, 9, 9, 9, 1, 10, 4, 1, 1, 7, 8, 7, 9, 4, 9, 4, 14, 5, 9, 6, 13, 15, 13, 13, 3, 6, 6, 7, 10, 13, 11, 9, 3, 12, 12, 6, 6, 7, 12, 13, 1, 3, 5, 8, 10, 12, 4, 13, 15, 6, 14, 6, 8, 10, 12, 1, 12, 1, 6, 7, 12, 15, 14, 1, 4, 5, 11, 14, 4, 3, 6, 9, 11, 8, 13, 13, 6, 5, 13, 10, 2, 1, 2, 13, 9, 2, 5, 7, 10, 5, 4, 4, 14, 12, 15, 1, 2, 7, 12, 6, 13, 8, 9, 13, 14, 5, 10, 2, 10, 1, 5, 2, 15, 1, 5, 10, 12, 4, 4, 2, 11, 4, 9, 7, 13, 12, 1, 2, 4, 5, 8, 10, 15, 10, 13, 13, 1, 11, 2, 4, 15, 15, 7, 14, 2, 8, 2, 10, 11, 12, 11, 3, 12, 7, 3, 5, 3, 8, 1, 1, 15, 1, 13, 1, 2, 3, 13, 6, 10, 12, 2, 5, 5, 6, 15, 1, 7, 8, 3, 5, 4, 7, 13, 10, 8, 11, 10, 14, 10, 2, 4, 6, 9, 13, 2, 2, 10, 12, 13, 15, 4, 4, 5, 8, 15, 7, 10, 13, 11, 8, 8, 13, 15, 1, 9, 13, 11, 8, 5, 8, 11, 8, 9, 4, 12, 9, 15, 15, 14, 2, 1, 5, 1, 4, 5, 8, 11, 4, 7, 10, 15, 13, 2, 10, 4, 15, 2, 5, 11, 15, 12, 14, 5, 12, 1, 3, 10, 14, 4, 8, 11, 9, 2, 8, 11, 15, 13, 6, 13, 1, 2, 1, 2, 3, 4, 5, 6, 7, 8, 10, 11, 12, 13, 5, 1, 6, 13, 10, 7, 11, 9, 1, 2, 8, 10, 4, 12, 13, 1, 2, 3, 5, 9, 11, 9, 3, 8, 8, 1, 2, 3, 9, 10, 12, 10, 15, 1, 12, 6, 6, 11, 9, 13, 8, 5, 11, 7, 9, 8, 11, 14, 1, 14, 3, 5, 12, 13, 15, 3, 6, 7, 6, 3, 15, 5, 6, 14, 9, 3, 10, 8, 15, 15, 14, 1, 14, 9, 1, 2, 3, 4, 5, 7, 11, 12, 3, 1, 2, 4, 11, 1, 9, 9, 2, 8, 4, 5, 8, 12, 10, 8, 1, 2, 12, 15, 1, 2, 10, 13, 15, 1, 15, 12, 10, 4, 10, 2, 14, 1, 7, 11, 2, 4, 5, 8, 11, 4, 7, 3, 3, 6, 13, 8, 2, 8, 5, 4, 11, 3, 14, 9, 10, 1, 2, 4, 6, 11, 13, 1, 1, 5, 8, 11, 9, 9, 14, 4, 10, 8, 14, 3, 10, 7, 15, 7, 4, 12, 3, 12, 7, 9, 6, 5, 15, 13, 15, 4, 1, 3, 4, 8, 9, 12, 6, 1, 5, 15, 7, 1, 15, 6, 4, 13, 13, 7, 2, 3, 5, 9, 10, 1, 3, 4, 7, 2, 3, 13, 13, 8, 3, 1, 7, 10, 12, 1, 8, 10, 6, 6, 15, 4, 2, 1, 2, 1, 4, 8, 11, 5, 8, 9, 5, 2, 6, 10, 12, 1, 2, 11, 5, 7, 8, 14, 3, 3, 1, 1, 5, 1, 10, 11, 10, 2, 7, 8, 4, 7, 9, 9, 5, 11, 14, 1, 2, 4, 7, 7, 1, 2, 10, 11, 2, 4, 5, 6, 1, 9, 5, 11, 8, 13, 1, 4, 14, 4, 8, 10, 12, 11, 2, 3, 1, 9, 7, 2, 9, 6, 2, 2, 15, 4, 7, 9, 14, 3, 12, 2, 8, 8, 9, 12, 13, 3, 7, 15, 4, 10, 5, 3, 2, 3, 5, 8, 12, 14, 13, 8, 11, 3, 4, 7, 10, 1, 3, 15, 9, 8, 7, 14, 3, 1, 2, 8, 10, 11, 2, 2, 5, 6, 5, 15, 7, 5, 1, 13, 1, 2, 7, 10, 3, 10, 15, 2, 2, 15, 12, 10, 11, 3, 12, 14, 1, 5, 10, 4, 2, 6, 10, 1, 3, 5, 9, 13, 14, 10, 12, 8, 5, 14, 15, 5, 1, 8, 12, 10, 2, 15, 14, 10, 11, 7, 11, 13, 11, 1, 5, 7, 10, 3, 8, 2, 6, 5, 11, 12, 7, 1, 2, 3, 4, 8, 10, 11, 7, 12, 1, 6, 15, 11, 12, 3, 6, 3, 11, 11, 7, 1, 2, 3, 5, 10, 12, 13, 15, 10, 2, 11, 7, 3, 5, 10, 1, 12, 1, 15, 12, 3, 14, 2, 1, 7, 14, 9, 4, 14, 1, 4, 5, 5, 12, 2, 6, 8, 7, 3, 5, 14, 8, 1, 5, 8, 10, 1, 2, 3, 4, 7, 8, 14, 5, 4, 13, 1, 15, 1, 2, 3, 4, 7, 11, 1, 7, 6, 7, 11, 2, 6, 9, 13, 8, 4, 4, 12, 14, 1, 2, 13, 1, 2, 5, 1, 5, 8, 11, 11, 6, 2, 5, 5, 14, 8, 11, 15, 7, 14, 14, 7, 8, 12, 1, 10, 8, 14, 9, 5, 3, 12, 13, 4, 11, 4, 1, 2, 3, 8, 14, 14, 4, 8, 10, 13, 9, 1, 12, 15, 9, 1, 13, 11, 1, 2, 5, 8, 11, 2, 5, 7, 1, 2, 3, 5, 7, 8, 10, 6, 12, 6, 2, 5, 12, 15, 2, 9, 11, 2, 8, 13, 2, 4, 1, 5, 6, 7, 11, 13, 4, 8, 1, 3, 6, 10, 14, 7, 15, 7, 6, 6, 15, 15, 15], \"Freq\": [0.948704913943836, 0.9602065861388093, 0.9603802970215456, 0.9764240488363267, 0.9623578976761493, 0.9620819526180953, 0.9518398486110787, 0.9470379662308257, 0.9538935781273135, 0.3629497232864543, 0.05377032937577101, 0.13442582343942752, 0.4301626350061681, 0.9545653493923025, 0.34995674179780867, 0.6299221352360557, 0.981829056022581, 0.9706757087817581, 0.9826660718691993, 0.8263209997565696, 0.12574449996295625, 0.03592699998941607, 0.024634027282367753, 0.29560832738841303, 0.6651187366239293, 0.23792575689084133, 0.4679206552186546, 0.10310116131936457, 0.1268937370084487, 0.06344686850422435, 0.9919485792778209, 0.788484534103106, 0.20025004040713806, 0.13903167052130727, 0.187390512441762, 0.14507652576136412, 0.411050156323865, 0.03626913144034103, 0.0785831181207389, 0.8983013652341252, 0.8823983588308484, 0.10870124710235088, 0.9393454192812714, 0.9234486573083593, 0.9567640600594344, 0.9730347452253021, 0.9572640839733004, 0.9736626481135462, 0.9517554500275018, 0.9638051654562585, 0.9540724576249078, 0.8591244563575651, 0.1356512299511945, 0.012425554943678491, 0.6337033021276031, 0.1366811043804634, 0.16153221426782038, 0.049702219774713965, 0.9651631073616409, 0.9560738832318845, 0.9747943498527598, 0.3446619600186268, 0.6318802600341492, 0.06577660795622765, 0.7329393457979653, 0.19732982386868295, 0.31233493332539225, 0.5622028799857061, 0.10931722666388728, 0.9897675262550112, 0.1825386850225073, 0.19557716252411497, 0.6128084425755602, 0.9740465401982071, 0.9585134358759705, 0.9707435239827331, 0.9314917111622778, 0.20045760703234192, 0.292961265613472, 0.17332055944001895, 0.1079539484512118, 0.07150711080896782, 0.031692902297603465, 0.05051056303680552, 0.04278541810176468, 0.020798467132802274, 0.007923225574400866, 0.9863560512281615, 0.9711242915034718, 0.308237357071614, 0.6421611605658625, 0.03852966963395175, 0.9365727557612084, 0.8842172063719919, 0.9914708014773379, 0.9760748933278176, 0.9720428127286461, 0.9721480666298011, 0.2237398045163758, 0.5642134200847737, 0.20428416934103877, 0.9060768128239719, 0.925857915444753, 0.9750663370608377, 0.9269793399437546, 0.9659826027410992, 0.9096748260911668, 0.9678334039887676, 0.9702038166146683, 0.8214772675773165, 0.15899560017625483, 0.9474812717018196, 0.9778648364707238, 0.9369089125627205, 0.9480425227384782, 0.9372420191733895, 0.9314291767095956, 0.9534544055571368, 0.9561913444132984, 0.984569469175915, 0.974982002094758, 0.9986451818592084, 0.9679648965698878, 0.947339640552194, 0.9738843932314639, 0.9103362092296268, 0.7819848009885557, 0.19549620024713893, 0.9537922609083215, 0.9444641217729344, 0.10276426583937269, 0.31856922410205535, 0.572054413172508, 0.9327793886826264, 0.7958235940293978, 0.16465315738539266, 0.9644657979109418, 0.9558153267309497, 0.9819999493586682, 0.1811320004327048, 0.8021560019162641, 0.9249861937344174, 0.9484009622199538, 0.9719368416518652, 0.9780891976312535, 0.704013131731692, 0.2849576961771134, 0.9619746825762996, 0.04163185200673016, 0.10407963001682541, 0.8534529661379684, 0.9392346603492657, 0.9717631108072726, 0.2018554719891653, 0.15903764459752417, 0.5199307611842137, 0.1101029847213629, 0.9234486573083593, 0.9684948593565837, 0.8484433690042996, 0.03535180704184582, 0.08837951760461454, 0.03535180704184582, 0.9070572193350439, 0.06718942365444769, 0.954316018980179, 0.8960016300066771, 0.943327489776477, 0.9489627957649512, 0.9454375794103665, 0.9617553840492384, 0.08958840865102415, 0.8958840865102415, 0.9571498739781316, 0.9370804291483298, 0.7229015332301372, 0.11489825693724035, 0.05744912846862017, 0.10532340219247031, 0.9631499928033291, 0.9906843044173946, 0.8257126508477678, 0.1736595930115198, 0.9341695473941313, 0.9299077363329423, 0.954501411682955, 0.9637546454035533, 0.8745094895440156, 0.9339739342664821, 0.9486868797834055, 0.9371087039187581, 0.5726689022822684, 0.09903296806385092, 0.25404109198987845, 0.0688924995226789, 0.89626909088591, 0.970452864662971, 0.9777159165322095, 0.9805162470852914, 0.9611388790529012, 0.9379148967017084, 0.9682276384311364, 0.8955309472730936, 0.964431492029938, 0.1337429124934799, 0.7578765041297194, 0.08916194166231993, 0.9078230764108951, 0.9633959141070744, 0.9517319400009685, 0.9419421844269946, 0.11474770408044278, 0.8797323979500613, 0.8596461862199059, 0.962192685722615, 0.956473528570852, 0.4609606404311657, 0.14229010122634053, 0.07262723916761131, 0.1037531988108733, 0.04001909096990828, 0.14821885544410474, 0.031125959643261994, 0.1286770173240372, 0.8492683143386454, 0.9373646408053444, 0.27018994299766, 0.7295128460936822, 0.2253355496271014, 0.7360961287818645, 0.030044739950280185, 0.9645479089416821, 0.9327650275915602, 0.9234486573083593, 0.930176893015187, 0.9666267022674176, 0.2721834428190504, 0.7031405606158802, 0.9507401679749701, 0.9813699431741433, 0.939212292626812, 0.9285906281569314, 0.988806934397821, 0.9168976045150519, 0.9695423941384985, 0.9353448140174797, 0.9156770113081071, 0.9810749731410304, 0.9562396300857589, 0.3012198971689042, 0.6777447686300344, 0.9434768532368368, 0.05169736182119654, 0.9939836616910706, 0.9727582401095953, 0.8710244442579443, 0.07574125602242994, 0.9557438727728328, 0.14930866395723277, 0.8460824290909856, 0.9635015977670878, 0.957591919820688, 0.9408965064193291, 0.9685005042454727, 0.9925454005542578, 0.14199714657112342, 0.5882738929375113, 0.26370898648922925, 0.8282427780672862, 0.15529552088761617, 0.28606870416373487, 0.7089528755362124, 0.9683178129562792, 0.9849833832493098, 0.8609420015090847, 0.11479226686787797, 0.3108790813649519, 0.6782816320689861, 0.9644833960799006, 0.305575750905509, 0.6839076329789963, 0.9377261720584693, 0.7045434789993804, 0.26420380462476767, 0.9727067873687293, 0.9495925751652284, 0.19920731031945416, 0.14608536090093305, 0.5046585194759505, 0.13280487354630277, 0.9324290536389199, 0.9576450986343719, 0.2986318582505227, 0.32849504407557495, 0.3583582299006272, 0.9525650593232099, 0.9597481192815193, 0.9967161664980939, 0.9514906036009517, 0.9860324560085806, 0.9679301816405762, 0.8948486817801085, 0.07895723662765662, 0.1651124056937238, 0.20180405140344018, 0.6054121542103206, 0.935342968981943, 0.9308447972047753, 0.99173787998594, 0.9142458936267174, 0.9930026003939185, 0.9705536144706953, 0.9341861307826869, 0.9036857851486612, 0.06951429116528163, 0.7717789318896094, 0.19294473297240236, 0.9705118518400729, 0.9790862965674507, 0.9560269537354842, 0.9527105289733899, 0.9174980059807218, 0.11412761067816463, 0.2683541115946033, 0.4441723226393434, 0.11412761067816463, 0.058606070348246705, 0.7220201427967877, 0.2527070499788757, 0.008705557702244028, 0.9837280203535751, 0.951595503234166, 0.28420187414694453, 0.7127602557970989, 0.9491664969993635, 0.9964568455074315, 0.8601677985426552, 0.11317997349245464, 0.8760346465030175, 0.08760346465030176, 0.9938381167799246, 0.9234486573083593, 0.7971106728870752, 0.19130656149289804, 0.10161315874660727, 0.8806473758039297, 0.9320218661836036, 0.972572871861971, 0.5839589978610532, 0.20173129017018201, 0.20173129017018201, 0.9699820769502652, 0.11151776883474175, 0.2230355376694835, 0.5575888441737088, 0.09912690563088156, 0.9831591543535857, 0.8459798736357332, 0.15269992449024433, 0.7775738960092161, 0.22216397028834745, 0.3443952944870011, 0.1464798168110297, 0.022363330810844226, 0.0592628266487372, 0.052553827405483935, 0.01677249810813317, 0.027954163513555282, 0.1073439878920523, 0.07044449205415931, 0.06261732627036383, 0.06373549281090604, 0.02459966389192865, 0.9341242757798568, 0.14299873393088666, 0.8222427201025984, 0.9351447291670408, 0.9723534186733878, 0.1688135041673616, 0.8159319368089144, 0.983557551796153, 0.07824022833746974, 0.30513689051613196, 0.23472068501240922, 0.3833771188536017, 0.9573564569517826, 0.9546669265667498, 0.9888955403805825, 0.22877647050855507, 0.09420207609175797, 0.6594145326423058, 0.9784108398648629, 0.7104355576703085, 0.2841742230681234, 0.8895853310644612, 0.8963219567627877, 0.08403018344651135, 0.9820754567895406, 0.2795775250021653, 0.42949590797434095, 0.10534805289936665, 0.044570330072808965, 0.020259240942185893, 0.113451749276241, 0.9209297278288108, 0.9672822166103091, 0.011757684156047525, 0.9876454691079921, 0.9506970945278979, 0.8763390967787544, 0.9855551558498444, 0.900212361744192, 0.09312541673215778, 0.9277827115867912, 0.17937221529224753, 0.7772795995997394, 0.8193555538275596, 0.10924740717700795, 0.9740840416322045, 0.994722648991064, 0.9577956802033466, 0.9691600913875453, 0.9321389273439957, 0.8262649240549238, 0.16274915170778803, 0.9840708569154278, 0.022162578748991534, 0.9640721755811317, 0.3999089119560549, 0.2525740496564557, 0.3477468799617868, 0.9857476484676534, 0.8824605828829761, 0.07673570285938923, 0.8714706103418952, 0.11619608137891936, 0.9387915507743589, 0.9454895236264206, 0.8545800765737342, 0.14388338023945527, 0.982363328066644, 0.9742537497454427, 0.9556524101830108, 0.9234486573083593, 0.23197093810356323, 0.7290515197540558, 0.9722520627399628, 0.16701753623369875, 0.1979467096103096, 0.03711500805193305, 0.23815463499990375, 0.12062377616878242, 0.027836256038949788, 0.2010396269479707, 0.009278752012983263, 0.9858659992311818, 0.39124420916818303, 0.48281200280328973, 0.09156779363510667, 0.024973034627756366, 0.9969564250767059, 0.9693246571611744, 0.9141316542938934, 0.9335068832371546, 0.9604938478219993, 0.31483959984203436, 0.5422237552835035, 0.12243762216079113, 0.9376205605849611, 0.9756736967862388, 0.9624224853145624, 0.9533197231674838, 0.9919568548573734, 0.9686051127955898, 0.9574552427892725, 0.4969888934858123, 0.18775135976130686, 0.1104419763301805, 0.09939777869716246, 0.08835358106414441, 0.4699172050975903, 0.49755939363274265, 0.9244509278747466, 0.9855665056783868, 0.3537910019901357, 0.641246191107121, 0.2714765070279111, 0.7144118605997661, 0.22454999586148428, 0.7378071292591626, 0.9282961458981257, 0.11300564933028899, 0.15646936061116937, 0.5302572776267407, 0.19124032963587367, 0.9167679760476976, 0.9384773271846109, 0.8568990723710767, 0.965244393008295, 0.9773418266074894, 0.043498404150511955, 0.935215689236007, 0.9963484141613337, 0.11590896913537413, 0.8809081654288433, 0.9881669812319167, 0.9780692965379431, 0.019960597888529448, 0.9307611873378293, 0.9234486573083593, 0.9381354071704003, 0.9600796569025293, 0.24065451348456313, 0.2612820432118114, 0.09282388377261722, 0.06188258918174481, 0.22690282699973097, 0.11345141349986548, 0.9935655967711254, 0.5876925936100745, 0.13193099040226164, 0.16791216960287844, 0.10794353760185044, 0.968605374209154, 0.9572941946942214, 0.9468981795285805, 0.9508392032936492, 0.03554539077733268, 0.9557811694389549, 0.986662633223461, 0.9675765490752181, 0.9555152118882733, 0.14821498710017744, 0.8151824290509759, 0.8751672023180656, 0.9583353781994847, 0.9837986810277569, 0.963009755980065, 0.9794147831260949, 0.9392897871287421, 0.9306963270292108, 0.9765818539411939, 0.9577797311123154, 0.9838581148444788, 0.24220122119321624, 0.753514910378895, 0.9348377191028068, 0.2822152427176815, 0.17403273300923694, 0.12699685922295667, 0.1317004466015847, 0.04703587378628025, 0.23517936893140126, 0.9479730806680995, 0.0765135153006131, 0.9085979941947806, 0.009564189412576637, 0.9397881366878946, 0.9764964903602761, 0.9891742421887945, 0.8970152516875664, 0.9866423758948734, 0.996484571151495, 0.9629096509894324, 0.9074867307994078, 0.07490434021854, 0.3006723515814634, 0.25056029298455285, 0.36924674755618314, 0.0042199628292135215, 0.05367329515290882, 0.6057414738685424, 0.23002840779818068, 0.10734659030581764, 0.14872655114736175, 0.6775320663379812, 0.14872655114736175, 0.9716774189847849, 0.9402544050612645, 0.9591720410431448, 0.204498509582925, 0.122699105749755, 0.5112462739573125, 0.15678219068024252, 0.2668090770848236, 0.14007476546953238, 0.5869799695866119, 0.9983651697276587, 0.07694541467020158, 0.8848722687073182, 0.9692844316250864, 0.9633918691693976, 0.9570224248493183, 0.9642699536473488, 0.1857164352792998, 0.28073414635242994, 0.4362176735630065, 0.09069872420616966, 0.89626909088591, 0.9593262563084488, 0.9493334337506841, 0.9448166125658812, 0.7390283006641838, 0.24634276688806128, 0.9731667394464777, 0.9182462558336985, 0.17668630237386998, 0.8031195562448635, 0.016062391124897272, 0.2828085727445418, 0.7070214318613546, 0.8765501270845549, 0.07622175018126565, 0.9620236606163258, 0.9720170527797415, 0.992686914657045, 0.9518739417045534, 0.9718238339272226, 0.09769167675803878, 0.2686521110846066, 0.6105729797377424, 0.9475270942290706, 0.17710302606163147, 0.6072103750684508, 0.20240345835615026, 0.6981462594330224, 0.09008338831393838, 0.20268762370636134, 0.9397867215704259, 0.2500065247228832, 0.7222410714216626, 0.9230178977220355, 0.304957889113818, 0.17153881262652262, 0.11435920841768175, 0.40025722946188613, 0.9218126414333002, 0.33353374558088644, 0.63000818609723, 0.01235310168818098, 0.020588502813634967, 0.9444494590864747, 0.08172280182286151, 0.8989508200514765, 0.8926345388758337, 0.9402048045394493, 0.9101531548247078, 0.9205723876479974, 0.9716403093276488, 0.9118473722177295, 0.06288602567018824, 0.9878363746785022, 0.35376103757130867, 0.6435893575092483, 0.9907994550590092, 0.9452960471197943, 0.9613889480294903, 0.9794365901231086, 0.930773596861663, 0.9522651436214803, 0.8982199945718454, 0.36786764452697635, 0.6253749956958597, 0.8741406103627201, 0.2854737858802331, 0.6661055003872106, 0.9195175973950747, 0.9317831224518597, 0.9548726011148918, 0.9357274107906925, 0.943815333754972, 0.9142479445356361, 0.8807287982712276, 0.9696813757280063, 0.966405352082717, 0.966260883519068, 0.9834358840080262, 0.9789346518164651, 0.9588593279882563, 0.02282998399972039, 0.8228705257079342, 0.16457410514158682, 0.8107227210301517, 0.18811430693307424, 0.9290402088491065, 0.968367028816122, 0.9201124654784971, 0.988825104051861, 0.9321477447051287, 0.2951808154010096, 0.3710844536469835, 0.03373495033154395, 0.11807232616040383, 0.1349398013261758, 0.042168687914429945, 0.9533864016326093, 0.7861100635299344, 0.20765171489469963, 0.1619318786555779, 0.18892052509817422, 0.2294034947620687, 0.4048296966389448, 0.14056310048354356, 0.3514077512088589, 0.49197085169240246, 0.8832736857738134, 0.9943135459579986, 0.8745425404114636, 0.9234486573083593, 0.9025575922835973, 0.9127775095734025, 0.025894397434706454, 0.03884159615205968, 0.01942079807602984, 0.9513881258211211, 0.9549974358391058, 0.3368484088520414, 0.5818290698353443, 0.07655645655728215, 0.8921875992155193, 0.9553483572857386, 0.9374907706417878, 0.9244284183224476, 0.960201615713918, 0.9174512571707416, 0.38626408823121755, 0.6080082870306202, 0.214714156009237, 0.7783388155334842, 0.9204032986922719, 0.9648798646821145, 0.9420224557703678, 0.9719149085061605, 0.24433742752966373, 0.744118529294885, 0.9669828748225889, 0.11655434723557204, 0.8547318797275283, 0.9126798779211475, 0.09504933872350772, 0.8871271614194054, 0.4103501162077936, 0.48216138654415747, 0.1025875290519484, 0.9437331729119829, 0.12636645235191457, 0.7076521331707215, 0.15163974282229747, 0.6488564622733929, 0.10689972366956281, 0.06215100213346675, 0.06215100213346675, 0.07706724264549877, 0.03729060128008005, 0.07146336134856326, 0.8932920168570407, 0.9628232195878474, 0.9323626373401925, 0.9486115875636155, 0.9245089758829974, 0.9476349243044503, 0.7777556820572875, 0.16697579614789224, 0.052729198783544914, 0.9749403766018438, 0.9771438994598955, 0.91592577018684, 0.9096748260911668, 0.9731502320773446, 0.959008666743353, 0.9471291470655961, 0.9590393885196616, 0.9230813349941255, 0.9716686298926864, 0.9696901871146808, 0.9172177614941768, 0.9403881132671414, 0.9668070883064492, 0.25659782346289856, 0.7331366384654245, 0.9318319585303225, 0.9581470246879258, 0.9961277812270494, 0.9603400846589555, 0.931533946894044, 0.9257106708590204, 0.07394490459888893, 0.16637603534750012, 0.14260803029785724, 0.44895120649325426, 0.06338134679904765, 0.02640889449960319, 0.07658579404884926, 0.9678769169574215, 0.959788132037205, 0.977982466199505, 0.898251246873454, 0.9429217237806942, 0.24523327834858405, 0.7356998350457522, 0.9208159092698932, 0.9932822148612872, 0.9618311060938156, 0.9955041702973828, 0.9696552448056245, 0.9075978320810478, 0.9805838376571633, 0.9868014933676689, 0.31940060088704403, 0.10358938407147374, 0.33666549823228964, 0.043162243363114056, 0.13811917876196497, 0.05179469203573687, 0.9433461541870742, 0.9564346587603434, 0.9345665897184348, 0.9875902781454945, 0.2542324243615676, 0.6009130030364326, 0.13867223146994598, 0.975642214376289, 0.9474959130367977, 0.9692390355543163, 0.9199906411234506, 0.9563008927853917, 0.9539443900360641, 0.9833040443979277, 0.9954780076006629, 0.7906286008716173, 0.07458760385581295, 0.11934016616930074, 0.9349125290193732, 0.31391540179493627, 0.6836379861311945, 0.31610275631814916, 0.1628408138608647, 0.517259055793335, 0.24789222086024806, 0.7188874404947194, 0.08908060071401926, 0.0593870671426795, 0.831418939997513, 0.9979889231322417, 0.9009563662220325, 0.09820424391820154, 0.9884484708301154, 0.9858952418118597, 0.19192954541186213, 0.48942034080024843, 0.11515772724711729, 0.20152602268245526, 0.2995247493270446, 0.21030461122962704, 0.10833873911829273, 0.1465759411600431, 0.019118601020875186, 0.21030461122962704, 0.9234486573083593, 0.9847898199617093, 0.9461071948293677, 0.9190794623828304, 0.4113682302591723, 0.5845759061577712, 0.7200392262278292, 0.048002615081855285, 0.09600523016371057, 0.133340597449598, 0.9463723646369765, 0.9579129796357508, 0.221261835323304, 0.7643590674805048, 0.9127184771017964, 0.8485781329994802, 0.9903335143777955, 0.38495932958807166, 0.1556218566419864, 0.08190624033788758, 0.3767687055542829, 0.9828902570172208, 0.9791289897150182, 0.8220294841163301, 0.15463920988327004, 0.024416717349990003, 0.9200094964505251, 0.0541182056735603, 0.9532197056628683, 0.9619536115727517, 0.20580066303899872, 0.7791025100762095, 0.14584703896310103, 0.20835291280443005, 0.5312999276512966, 0.10417645640221503, 0.9630857889648609, 0.8859805794838578, 0.7768943866828613, 0.20809671071862357, 0.9640105306428762, 0.9096748260911668, 0.2878653030453236, 0.47977550507553934, 0.22389523570191835, 0.10612957633944968, 0.8490366107155974, 0.9250747527985888, 0.8842312729299727, 0.9718554383627342, 0.9859299285208261, 0.9798533823575304, 0.977613827507955, 0.997168072077064, 0.9927506516171724, 0.9606313848634688, 0.9797898810904799, 0.27041873530179017, 0.6637550775589395, 0.04916704278214366, 0.9214382372649803, 0.9867852646518119, 0.9663085097664877, 0.23611660677615226, 0.356920452103486, 0.20317010350506126, 0.07687517429921237, 0.12080384532733372, 0.9067761700825788, 0.9639146569366249, 0.028989914494334582, 0.9938571896988369, 0.920336407081118, 0.9218713182919702, 0.08332979414434552, 0.7221915492509945, 0.1944361863368062, 0.9850460812112921, 0.9430878059180755, 0.052393766995448635, 0.9608516203962282, 0.1206015286599095, 0.19129897649502886, 0.40339132000038697, 0.28278979134047744, 0.9794588049999452, 0.12925795878781465, 0.5385748282825611, 0.3016019038382342, 0.16529639998322593, 0.34071298772052694, 0.17204319181927596, 0.12818904488495073, 0.03710735509827521, 0.13493583672100076, 0.020240375508150114, 0.913797913764259, 0.9922398225656837, 0.9954435125132056, 0.34226032694398184, 0.5365161881824579, 0.10175307017253514, 0.018500558213188207, 0.14933569807820188, 0.7964570564170766, 0.9495822741603879, 0.7097756861362514, 0.17382261701295953, 0.10139652659089306, 0.35208814348152573, 0.6401602608755013, 0.1273185861331558, 0.08324676785629419, 0.09793737394858139, 0.568036768901772, 0.04407181827686162, 0.07345303046143604, 0.9706740755114689, 0.9900737463693169, 0.7689189633676856, 0.21969113239076732, 0.9988347316228431, 0.9629033216881024, 0.9471746069773649, 0.9677660046263715, 0.9274344523510202, 0.9995370301023244, 0.9567238679949346, 0.917994331206462, 0.9716637057077959, 0.8942661593471246, 0.9456325202211308], \"Term\": [\"able\", \"absolutely\", \"abuse\", \"accept\", \"accord\", \"account\", \"act\", \"action\", \"add\", \"again\", \"again\", \"again\", \"again\", \"agenda\", \"agree\", \"agree\", \"ah\", \"ahead\", \"all\", \"allow\", \"allow\", \"allow\", \"already\", \"already\", \"already\", \"also\", \"also\", \"also\", \"also\", \"also\", \"always\", \"american\", \"american\", \"amp\", \"amp\", \"amp\", \"amp\", \"amp\", \"amp\", \"answer\", \"anti\", \"anti\", \"anymore\", \"apd_\", \"arab\", \"area\", \"army\", \"arrest\", \"as\", \"as_well\", \"asadowaisi\", \"ask\", \"ask\", \"attack\", \"attack\", \"attack\", \"attack\", \"attack\", \"average\", \"awal\", \"away\", \"a\\u0153\", \"a\\u0153\", \"back\", \"back\", \"back\", \"bad\", \"bad\", \"bad\", \"ball\", \"ban\", \"ban\", \"ban\", \"bangaloreriot\", \"base\", \"bat\", \"bbctms\", \"be\", \"be\", \"be\", \"be\", \"be\", \"be\", \"be\", \"be\", \"be\", \"be\", \"beat\", \"beautiful\", \"become\", \"become\", \"become\", \"bed\", \"belief\", \"believe\", \"belong\", \"bet\", \"bhai\", \"big\", \"big\", \"big\", \"bigot\", \"bio\", \"birthday\", \"bismillah\", \"bit\", \"biz_twittersafety\", \"black\", \"blame\", \"bless\", \"bless\", \"blessed\", \"block\", \"blood_boil\", \"bloody\", \"bowl\", \"bowling\", \"boy\", \"break\", \"bring\", \"bro\", \"brother\", \"brotherhood\", \"build\", \"burn\", \"business\", \"busy\", \"busy\", \"buy\", \"calendar\", \"call\", \"call\", \"call\", \"camel\", \"camel_fucker\", \"camel_fucker\", \"cana\", \"case\", \"cause\", \"celebrate\", \"celebrate\", \"celebration\", \"century\", \"channel\", \"check\", \"child\", \"child\", \"christian\", \"chuslim\", \"chuslim\", \"chuslim\", \"class\", \"coach\", \"come\", \"come\", \"come\", \"come\", \"comegititpeener_todeofvet\", \"communist\", \"community\", \"community\", \"community\", \"community\", \"complete\", \"complete\", \"confirm\", \"consider\", \"conspiracy\", \"continue\", \"contribution\", \"control\", \"convert\", \"convert\", \"coronavirus\", \"corrupt\", \"country\", \"country\", \"country\", \"country\", \"cover\", \"cpl\", \"cricket\", \"cricket\", \"cricketer\", \"criminal\", \"cult\", \"culture\", \"cup\", \"cut\", \"daily\", \"date\", \"day\", \"day\", \"day\", \"day\", \"dbongino_true_statement_stealth\", \"dead\", \"deal\", \"dear\", \"death\", \"decide\", \"defend\", \"definition\", \"deserve\", \"destroy\", \"destroy\", \"destroy\", \"dhoni\", \"didn\", \"die\", \"difference\", \"different\", \"different\", \"dirty\", \"disgusting\", \"district\", \"do\", \"do\", \"do\", \"do\", \"do\", \"do\", \"do\", \"doesn\", \"doesn\", \"doesna\", \"don\", \"don\", \"dona\", \"dona\", \"dona\", \"dream\", \"drink\", \"drinking_i\", \"drive\", \"early\", \"eat\", \"eat\", \"ecb_cricket\", \"eid\", \"election\", \"element\", \"end\", \"england\", \"englandcricket\", \"english\", \"engvpak\", \"enjoy\", \"enough\", \"entire\", \"entire\", \"even\", \"even\", \"ever\", \"everyday\", \"evil\", \"evil\", \"exactly\", \"expect\", \"expect\", \"explain\", \"expose\", \"extra\", \"extremism\", \"extremist\", \"face\", \"face\", \"face\", \"fake\", \"fake\", \"family\", \"family\", \"famous\", \"fan\", \"far\", \"far\", \"fast\", \"fast\", \"fear\", \"feel\", \"feel\", \"feeling\", \"fellow\", \"fellow\", \"few\", \"field\", \"fight\", \"fight\", \"fight\", \"fight\", \"fill\", \"finally\", \"find\", \"find\", \"find\", \"finish\", \"fire\", \"first\", \"flexible\", \"follow\", \"follower\", \"force\", \"force\", \"forget\", \"forget\", \"forget\", \"form\", \"forward\", \"friend\", \"front\", \"fuck\", \"fucker\", \"fuckislam\", \"full\", \"full\", \"fund\", \"fund\", \"funny\", \"game\", \"gang\", \"gay\", \"genuine\", \"get\", \"get\", \"get\", \"get\", \"get\", \"girl\", \"girl\", \"give\", \"give\", \"glad\", \"go\", \"go\", \"gon\", \"good\", \"government\", \"government\", \"govt\", \"govt\", \"great\", \"grockowalski\", \"ground\", \"ground\", \"group\", \"group\", \"grow\", \"guess\", \"guy\", \"guy\", \"guy\", \"hai\", \"happen\", \"happen\", \"happen\", \"happen\", \"happiness\", \"happy\", \"happy\", \"hate\", \"hate\", \"have\", \"have\", \"have\", \"have\", \"have\", \"have\", \"have\", \"have\", \"have\", \"have\", \"have\", \"have\", \"hea\", \"head\", \"head\", \"health\", \"hear\", \"hell\", \"hell\", \"help\", \"here\", \"here\", \"here\", \"here\", \"hero\", \"high\", \"hijri\", \"hindu\", \"hindu\", \"hindu\", \"history\", \"hit\", \"hit\", \"ho\", \"home\", \"home\", \"hope\", \"how\", \"how\", \"how\", \"how\", \"how\", \"how\", \"hsajwanization\", \"https\", \"https_co\", \"https_co\", \"humanity\", \"hurt\", \"ia\", \"ideology\", \"ideology\", \"imrankhanpti\", \"include\", \"include\", \"indeed\", \"indeed\", \"india\", \"indian\", \"innings\", \"international\", \"involve\", \"ipl\", \"ipl\", \"isis\", \"islam\", \"islam\", \"islamic\", \"islamic\", \"islamic\", \"islamicnewyear\", \"islamist\", \"islamist\", \"ita\", \"ita\", \"jack\", \"javedakhtarjadu\", \"jehadi\", \"jehadi\", \"jihadi\", \"jihadist\", \"job\", \"john_robert\", \"join\", \"join\", \"jungkook\", \"just\", \"just\", \"just\", \"just\", \"just\", \"just\", \"just\", \"just\", \"khanumarfa\", \"kill\", \"kill\", \"kill\", \"kill\", \"know\", \"ko\", \"koobischanel\", \"ladyvelvet_hfq\", \"land\", \"last\", \"last\", \"last\", \"late\", \"law\", \"learn\", \"least\", \"leave\", \"left\", \"legend\", \"let\", \"let\", \"let\", \"let\", \"let\", \"letter\", \"letter\", \"level\", \"lie\", \"life\", \"life\", \"like\", \"like\", \"listen\", \"listen\", \"literally\", \"live\", \"live\", \"live\", \"live\", \"ll\", \"local\", \"log\", \"logic\", \"lol\", \"long\", \"long\", \"look\", \"lose\", \"lose\", \"lot\", \"love\", \"love\", \"lover\", \"lty_wolty\", \"main\", \"majority\", \"make\", \"make\", \"make\", \"make\", \"make\", \"make\", \"man\", \"many\", \"many\", \"many\", \"many\", \"marry\", \"mashallah\", \"massacre\", \"match\", \"match\", \"mate\", \"mean\", \"mention\", \"mind\", \"mindset\", \"mindset\", \"mine\", \"minute\", \"miss\", \"mkatju\", \"mob\", \"modern\", \"mohamedbinzaye\", \"moharram\", \"moment\", \"money\", \"month\", \"month\", \"moon\", \"more\", \"more\", \"more\", \"more\", \"more\", \"more\", \"morning\", \"most\", \"most\", \"most\", \"move\", \"msdhoni\", \"msdhoni_narendramodi\", \"mubarak\", \"much\", \"muharram\", \"murder\", \"music\", \"muslim\", \"muslim\", \"muslim\", \"muslim\", \"muslim\", \"name\", \"name\", \"name\", \"name\", \"nation\", \"nation\", \"nation\", \"national\", \"nd\", \"ndtv\", \"need\", \"need\", \"need\", \"need\", \"never\", \"never\", \"never\", \"new\", \"no\", \"no\", \"noise\", \"non\", \"none\", \"nonsense\", \"now\", \"now\", \"now\", \"now\", \"now_stealth_mode\", \"number\", \"office\", \"official\", \"old\", \"old\", \"once\", \"online\", \"only\", \"only\", \"only\", \"open\", \"open\", \"order\", \"order\", \"organisation\", \"organization\", \"other\", \"out\", \"over\", \"own\", \"own\", \"own\", \"page\", \"pakistan\", \"pakistan\", \"pakistan\", \"pakistani\", \"pakistani\", \"pakistani\", \"parent\", \"part\", \"part\", \"pass\", \"peace\", \"peace\", \"peace\", \"peace\", \"peace_blessing\", \"people\", \"people\", \"people\", \"people\", \"perfect\", \"person\", \"person\", \"photo\", \"pic\", \"pick\", \"picture\", \"pig\", \"pisslam\", \"pisslam\", \"place\", \"play\", \"play\", \"player\", \"pm\", \"point\", \"police\", \"politic\", \"poor\", \"possible\", \"post\", \"post\", \"praise\", \"pray\", \"pray\", \"prayer\", \"pro\", \"problem\", \"produce\", \"promise\", \"promote\", \"propaganda\", \"protect\", \"prove\", \"put\", \"question\", \"quote\", \"quran\", \"quran\", \"racist\", \"racist\", \"radical\", \"radical\", \"rahulkanwal\", \"rain\", \"raise\", \"ramadan\", \"rd\", \"re\", \"re\", \"re\", \"re\", \"re\", \"re\", \"reach\", \"read\", \"read\", \"real\", \"real\", \"real\", \"real\", \"realdonaldtrump\", \"realdonaldtrump\", \"realdonaldtrump\", \"realize\", \"really\", \"recite\", \"red_eyedjedi\", \"relate\", \"religion\", \"religion\", \"religion\", \"religion\", \"religious\", \"remain\", \"remember\", \"remember\", \"remember\", \"remind\", \"report\", \"republic\", \"request\", \"rest\", \"reveal\", \"right\", \"right\", \"riot\", \"riot\", \"rioter\", \"rise\", \"role\", \"rule\", \"run\", \"run\", \"sachin_rt\", \"sad\", \"sad\", \"sagarikaghose\", \"sambitswaraj\", \"sambitswaraj\", \"same\", \"same\", \"same\", \"sardesairajdeep\", \"save\", \"save\", \"save\", \"say\", \"say\", \"say\", \"say\", \"say\", \"say\", \"school\", \"school\", \"score\", \"seanhannity\", \"season\", \"second\", \"security\", \"see\", \"see\", \"see\", \"seem\", \"self\", \"sell\", \"seminoledan_delbius\", \"send\", \"sense\", \"series\", \"service\", \"shahid_siddiqui\", \"shame\", \"share\", \"shea\", \"shoot\", \"short\", \"show\", \"show\", \"sign\", \"sir\", \"sister\", \"slave\", \"sleep\", \"small\", \"so\", \"so\", \"so\", \"so\", \"so\", \"so\", \"so\", \"society\", \"sound\", \"speak\", \"special\", \"spirit\", \"sport\", \"sport\", \"spot\", \"st\", \"stand\", \"start\", \"stay\", \"step\", \"stick\", \"still\", \"stop\", \"stop\", \"stop\", \"stop\", \"stop\", \"stop\", \"story\", \"strong\", \"stuff\", \"stupid\", \"support\", \"support\", \"support\", \"supporter\", \"suppose\", \"sure\", \"surprise\", \"system\", \"s\\u00f0y\", \"tahunbaruislam\", \"take\", \"talk\", \"talk\", \"talk\", \"tax\", \"team\", \"team\", \"tell\", \"tell\", \"tell\", \"temple\", \"temple\", \"terror\", \"terror\", \"terror\", \"terrorism\", \"terrorist\", \"terrorist\", \"test\", \"th\", \"thank\", \"thank\", \"thank\", \"thank\", \"then\", \"then\", \"then\", \"then\", \"then\", \"then\", \"thepirateke\", \"there\", \"therea\", \"therealpcb\", \"thing\", \"thing\", \"think\", \"think\", \"think\", \"think\", \"third\", \"third_test\", \"threat\", \"threat\", \"throw\", \"tie\", \"time\", \"today\", \"today\", \"today\", \"today\", \"together\", \"tomorrow\", \"too\", \"too\", \"too\", \"top\", \"top\", \"train\", \"travel\", \"true\", \"true\", \"try\", \"try\", \"try\", \"try\", \"turn\", \"tv\", \"tweet\", \"tweet\", \"twitter\", \"twittersecurity_realdonaldtrump\", \"understand\", \"understand\", \"understand\", \"up\", \"up\", \"update\", \"uproot\", \"ur\", \"use\", \"value\", \"ve\", \"verse\", \"very\", \"victim\", \"video\", \"violence\", \"violence\", \"violence\", \"virus\", \"wait\", \"walk\", \"want\", \"want\", \"want\", \"want\", \"want\", \"warn\", \"watch\", \"watch\", \"way\", \"wear\", \"weather\", \"week\", \"week\", \"week\", \"welcome\", \"well\", \"well\", \"western\", \"when\", \"when\", \"when\", \"when\", \"white\", \"whole\", \"whole\", \"whole\", \"why\", \"why\", \"why\", \"why\", \"why\", \"why\", \"why\", \"wife\", \"win\", \"wish\", \"woman\", \"woman\", \"woman\", \"woman\", \"wona\", \"wona\", \"wonder\", \"word\", \"word\", \"word\", \"work\", \"work\", \"world\", \"world\", \"world\", \"world\", \"world\", \"world\", \"worry\", \"write\", \"wrong\", \"wrong\", \"year\", \"yet\", \"young\", \"z\\u00f0y\", \"\\u00b3\\u00f0y\", \"\\u00f0y\", \"\\u00f0ys\", \"\\u00f0yz_\\u00f0yz\", \"\\u00f0y\\u0153\", \"\\u00f0y\\u0153_\\u00f0y\\u0153\", \"\\u0153\\u00f0y\"]}, \"R\": 30, \"lambda.step\": 0.01, \"plot.opts\": {\"xlab\": \"PC1\", \"ylab\": \"PC2\"}, \"topic.order\": [10, 9, 13, 1, 6, 15, 3, 5, 14, 12, 4, 8, 2, 7, 11]};\n",
       "\n",
       "function LDAvis_load_lib(url, callback){\n",
       "  var s = document.createElement('script');\n",
       "  s.src = url;\n",
       "  s.async = true;\n",
       "  s.onreadystatechange = s.onload = callback;\n",
       "  s.onerror = function(){console.warn(\"failed to load library \" + url);};\n",
       "  document.getElementsByTagName(\"head\")[0].appendChild(s);\n",
       "}\n",
       "\n",
       "if(typeof(LDAvis) !== \"undefined\"){\n",
       "   // already loaded: just create the visualization\n",
       "   !function(LDAvis){\n",
       "       new LDAvis(\"#\" + \"ldavis_el782541405541581041289807715000\", ldavis_el782541405541581041289807715000_data);\n",
       "   }(LDAvis);\n",
       "}else if(typeof define === \"function\" && define.amd){\n",
       "   // require.js is available: use it to load d3/LDAvis\n",
       "   require.config({paths: {d3: \"https://d3js.org/d3.v5\"}});\n",
       "   require([\"d3\"], function(d3){\n",
       "      window.d3 = d3;\n",
       "      LDAvis_load_lib(\"https://cdn.jsdelivr.net/gh/bmabey/pyLDAvis@3.3.1/pyLDAvis/js/ldavis.v3.0.0.js\", function(){\n",
       "        new LDAvis(\"#\" + \"ldavis_el782541405541581041289807715000\", ldavis_el782541405541581041289807715000_data);\n",
       "      });\n",
       "    });\n",
       "}else{\n",
       "    // require.js not available: dynamically load d3 & LDAvis\n",
       "    LDAvis_load_lib(\"https://d3js.org/d3.v5.js\", function(){\n",
       "         LDAvis_load_lib(\"https://cdn.jsdelivr.net/gh/bmabey/pyLDAvis@3.3.1/pyLDAvis/js/ldavis.v3.0.0.js\", function(){\n",
       "                 new LDAvis(\"#\" + \"ldavis_el782541405541581041289807715000\", ldavis_el782541405541581041289807715000_data);\n",
       "            })\n",
       "         });\n",
       "}\n",
       "</script>"
      ],
      "text/plain": [
       "PreparedData(topic_coordinates=              x         y  topics  cluster       Freq\n",
       "topic                                                \n",
       "9     -0.226773  0.094848       1        1  11.362920\n",
       "8     -0.348447  0.083224       2        1  10.296882\n",
       "12    -0.269453 -0.243997       3        1   9.805986\n",
       "0     -0.092376 -0.335918       4        1   8.682082\n",
       "5     -0.083223 -0.161492       5        1   6.924653\n",
       "14     0.192060 -0.392039       6        1   6.592282\n",
       "2      0.120212  0.328777       7        1   6.560797\n",
       "4     -0.325987 -0.078287       8        1   6.490313\n",
       "13     0.025729  0.007716       9        1   5.355444\n",
       "11    -0.195656  0.269945      10        1   5.326820\n",
       "3     -0.042611  0.385008      11        1   5.151198\n",
       "7      0.265061 -0.052481      12        1   4.727810\n",
       "1      0.320820 -0.202608      13        1   4.374700\n",
       "6      0.395756  0.068296      14        1   4.230281\n",
       "10     0.264888  0.229007      15        1   4.117831, topic_info=                 Term         Freq        Total Category  logprob  loglift\n",
       "18                 ðy  1508.000000  1508.000000  Default  30.0000  30.0000\n",
       "7             cricket  1808.000000  1808.000000  Default  29.0000  29.0000\n",
       "176            muslim  1895.000000  1895.000000  Default  28.0000  28.0000\n",
       "79               year   846.000000   846.000000  Default  27.0000  27.0000\n",
       "104         terrorist  1109.000000  1109.000000  Default  26.0000  26.0000\n",
       "...               ...          ...          ...      ...      ...      ...\n",
       "1400  realdonaldtrump    20.914107    42.685456  Topic15  -4.9424   2.4764\n",
       "210              find    23.991451    66.972091  Topic15  -4.8051   2.1633\n",
       "0                  be    39.665331  5048.448971  Topic15  -4.3024  -1.6565\n",
       "1483           letter    18.410292    36.176586  Topic15  -5.0699   2.5143\n",
       "167                do    20.724034   674.677994  Topic15  -4.9515  -0.2931\n",
       "\n",
       "[742 rows x 6 columns], token_table=      Topic      Freq        Term\n",
       "term                             \n",
       "2302      1  0.948705        able\n",
       "1861      3  0.960207  absolutely\n",
       "1809      6  0.960380       abuse\n",
       "928       9  0.976424      accept\n",
       "2317      2  0.962358      accord\n",
       "...     ...       ...         ...\n",
       "2393      6  0.956724         ðys\n",
       "2392      6  0.917994     ðyz_ðyz\n",
       "2138     15  0.971664         ðyœ\n",
       "287      15  0.894266     ðyœ_ðyœ\n",
       "865      15  0.945633         œðy\n",
       "\n",
       "[990 rows x 3 columns], R=30, lambda_step=0.01, plot_opts={'xlab': 'PC1', 'ylab': 'PC2'}, topic_order=[10, 9, 13, 1, 6, 15, 3, 5, 14, 12, 4, 8, 2, 7, 11])"
      ]
     },
     "execution_count": 270,
     "metadata": {},
     "output_type": "execute_result"
    }
   ],
   "source": [
    "pyLDAvis.enable_notebook()\n",
    "vis = pyLDAvis.gensim_models.prepare(lda_model, corpus, id2word, mds=\"mmds\", R=30)\n",
    "vis"
   ]
  },
  {
   "cell_type": "code",
   "execution_count": null,
   "metadata": {},
   "outputs": [],
   "source": []
  },
  {
   "cell_type": "code",
   "execution_count": null,
   "metadata": {},
   "outputs": [],
   "source": []
  },
  {
   "cell_type": "code",
   "execution_count": null,
   "metadata": {},
   "outputs": [],
   "source": []
  },
  {
   "cell_type": "code",
   "execution_count": null,
   "metadata": {},
   "outputs": [],
   "source": []
  },
  {
   "cell_type": "code",
   "execution_count": null,
   "metadata": {},
   "outputs": [],
   "source": []
  },
  {
   "cell_type": "code",
   "execution_count": null,
   "metadata": {},
   "outputs": [],
   "source": []
  },
  {
   "cell_type": "code",
   "execution_count": null,
   "metadata": {},
   "outputs": [],
   "source": []
  },
  {
   "cell_type": "code",
   "execution_count": null,
   "metadata": {},
   "outputs": [],
   "source": []
  },
  {
   "cell_type": "code",
   "execution_count": null,
   "metadata": {},
   "outputs": [],
   "source": []
  },
  {
   "cell_type": "code",
   "execution_count": null,
   "metadata": {},
   "outputs": [],
   "source": []
  },
  {
   "cell_type": "code",
   "execution_count": null,
   "metadata": {},
   "outputs": [],
   "source": []
  },
  {
   "cell_type": "code",
   "execution_count": null,
   "metadata": {},
   "outputs": [],
   "source": []
  },
  {
   "cell_type": "code",
   "execution_count": null,
   "metadata": {},
   "outputs": [],
   "source": []
  },
  {
   "cell_type": "code",
   "execution_count": null,
   "metadata": {},
   "outputs": [],
   "source": []
  },
  {
   "cell_type": "code",
   "execution_count": null,
   "metadata": {},
   "outputs": [],
   "source": []
  }
 ],
 "metadata": {
  "kernelspec": {
   "display_name": "Python 3",
   "language": "python",
   "name": "python3"
  },
  "language_info": {
   "codemirror_mode": {
    "name": "ipython",
    "version": 3
   },
   "file_extension": ".py",
   "mimetype": "text/x-python",
   "name": "python",
   "nbconvert_exporter": "python",
   "pygments_lexer": "ipython3",
   "version": "3.8.8"
  }
 },
 "nbformat": 4,
 "nbformat_minor": 4
}
