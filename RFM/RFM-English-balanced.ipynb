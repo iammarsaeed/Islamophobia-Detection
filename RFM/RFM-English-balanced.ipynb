{
 "cells": [
  {
   "cell_type": "markdown",
   "metadata": {},
   "source": [
    "# Randon Forest Model wwith TF-IDF and Bag of words"
   ]
  },
  {
   "cell_type": "code",
   "execution_count": 1,
   "metadata": {},
   "outputs": [
    {
     "name": "stderr",
     "output_type": "stream",
     "text": [
      "Unable to revert mtime: /Library/Fonts\n",
      "Fontconfig warning: ignoring UTF-8: not a valid region tag\n"
     ]
    }
   ],
   "source": [
    "# file path exist\n",
    "import os.path\n",
    "from os import path\n",
    "\n",
    "# translator\n",
    "import googletrans\n",
    "from googletrans import Translator\n",
    "\n",
    "# pandas\n",
    "import pandas as pd\n",
    "\n",
    "# preprocessing of text\n",
    "import re\n",
    "import string\n",
    "\n",
    "\n",
    "# word tokenizer by nltk\n",
    "from nltk import word_tokenize\n",
    "\n",
    "# lemmatizer\n",
    "from nltk.stem import WordNetLemmatizer\n",
    "\n",
    "# stopwords (Remove buzz words)\n",
    "from nltk.corpus import stopwords\n",
    "\n",
    "# split data into train and test\n",
    "from sklearn.model_selection import train_test_split\n",
    "\n",
    "# bag of words\n",
    "from sklearn.feature_extraction.text import CountVectorizer\n",
    "\n",
    "# TF-IDF\n",
    "from sklearn.feature_extraction.text import TfidfTransformer\n",
    "\n",
    "# RFM classifier from scikit learn\n",
    "from sklearn.ensemble import RandomForestClassifier\n",
    "\n",
    "# Tf-idf feature extraction \n",
    "from sklearn.feature_extraction.text import TfidfVectorizer\n",
    "\n",
    "# confusion matrix\n",
    "from sklearn.metrics import confusion_matrix\n",
    "import seaborn as sns\n",
    "\n",
    "# cross validation for kfold\n",
    "from sklearn.model_selection import cross_val_score\n",
    "\n",
    "# calc accuracy\n",
    "from sklearn.metrics import accuracy_score \n",
    "from sklearn.metrics import classification_report "
   ]
  },
  {
   "cell_type": "code",
   "execution_count": 2,
   "metadata": {},
   "outputs": [],
   "source": [
    "# For English data\n",
    "filename  = '../Eng-Hin-data/english-anot-shuffled'\n",
    "df = pd.read_csv(filename + '.csv',  \n",
    "               delimiter=',')\n",
    "df.columns = ['Text', 'Label']\n",
    "df.head(15)\n",
    "df[\"Text\"] = df[\"Text\"].astype(str)\n",
    "df[\"Label\"] = df[\"Label\"].astype(str)\n",
    "data = df"
   ]
  },
  {
   "cell_type": "code",
   "execution_count": 3,
   "metadata": {},
   "outputs": [
    {
     "data": {
      "text/plain": [
       "\"'@ParZevil Plymouth Cricket. THREE transmissions.\""
      ]
     },
     "execution_count": 3,
     "metadata": {},
     "output_type": "execute_result"
    }
   ],
   "source": [
    "# Same sentence after translation\n",
    "data.Text[3]"
   ]
  },
  {
   "cell_type": "markdown",
   "metadata": {},
   "source": [
    "### Class count"
   ]
  },
  {
   "cell_type": "code",
   "execution_count": 4,
   "metadata": {},
   "outputs": [
    {
     "data": {
      "image/png": "[encoded data removed]",
      "text/plain": [
       "<Figure size 432x288 with 1 Axes>"
      ]
     },
     "metadata": {
      "needs_background": "light"
     },
     "output_type": "display_data"
    }
   ],
   "source": [
    "import matplotlib.pyplot as plt\n",
    "fig = plt.figure(figsize=(6,4))\n",
    "data.groupby('Label').Text.count().plot.bar(ylim=0)\n",
    "plt.show()"
   ]
  },
  {
   "cell_type": "code",
   "execution_count": 5,
   "metadata": {},
   "outputs": [
    {
     "data": {
      "text/plain": [
       "0    3555\n",
       "2    2485\n",
       "1    2398\n",
       "Name: Label, dtype: int64"
      ]
     },
     "execution_count": 5,
     "metadata": {},
     "output_type": "execute_result"
    }
   ],
   "source": [
    "# For entire dataset sentences for each labels \n",
    "data.Label.value_counts()"
   ]
  },
  {
   "cell_type": "code",
   "execution_count": 6,
   "metadata": {},
   "outputs": [],
   "source": [
    "#balancing data \n",
    "from collections import Counter\n",
    "import numpy as np\n",
    "def balanceClasses(xs, ys):\n",
    "    item = {}\n",
    "    new_ys = []\n",
    "    new_xs = []\n",
    "    #\"\"\"Undersample xs, ys to balance classes.\"\"\"\n",
    "    freqs = Counter(ys)\n",
    "    # the most common class  is the maximum number we want for all classes\n",
    "    max_allowable = (freqs.most_common()[0][1])\n",
    "    \n",
    "    for val in freqs.most_common(): # List\n",
    "        nums = np.random.randint(1000)\n",
    "        i = 1\n",
    "        item[val[0]] = max_allowable - val[1]\n",
    "        \n",
    "        if item[val[0]] > 0:            \n",
    "            while(item[val[0]] - i != 0): \n",
    "                nums = nums + 1\n",
    "                if ys[nums] == val[0]:\n",
    "                    i += 1\n",
    "                    new_ys.append(ys[nums])\n",
    "                    new_xs.append(xs[nums])\n",
    "    return new_xs, new_ys"
   ]
  },
  {
   "cell_type": "code",
   "execution_count": 7,
   "metadata": {},
   "outputs": [],
   "source": [
    "new_text, new_label = balanceClasses(df['Text'], df['Label'])"
   ]
  },
  {
   "cell_type": "code",
   "execution_count": 8,
   "metadata": {},
   "outputs": [],
   "source": [
    "data = pd.DataFrame(new_text)\n",
    "data.columns = ['Text']\n",
    "data['Label'] = new_label\n",
    "data = pd.concat([df, data])"
   ]
  },
  {
   "cell_type": "code",
   "execution_count": 9,
   "metadata": {},
   "outputs": [
    {
     "data": {
      "image/png": "[encoded data removed]",
      "text/plain": [
       "<Figure size 432x288 with 1 Axes>"
      ]
     },
     "metadata": {
      "needs_background": "light"
     },
     "output_type": "display_data"
    }
   ],
   "source": [
    "fig1 = plt.figure(figsize=(6,4))\n",
    "data.groupby('Label').Text.count().plot.bar(ylim=0)\n",
    "plt.show()"
   ]
  },
  {
   "cell_type": "code",
   "execution_count": 10,
   "metadata": {},
   "outputs": [
    {
     "data": {
      "text/plain": [
       "0    3555\n",
       "1    3554\n",
       "2    3554\n",
       "Name: Label, dtype: int64"
      ]
     },
     "execution_count": 10,
     "metadata": {},
     "output_type": "execute_result"
    }
   ],
   "source": [
    "data.Label.value_counts()"
   ]
  },
  {
   "cell_type": "code",
   "execution_count": 11,
   "metadata": {},
   "outputs": [
    {
     "data": {
      "text/html": [
       "<div>\n",
       "<style scoped>\n",
       "    .dataframe tbody tr th:only-of-type {\n",
       "        vertical-align: middle;\n",
       "    }\n",
       "\n",
       "    .dataframe tbody tr th {\n",
       "        vertical-align: top;\n",
       "    }\n",
       "\n",
       "    .dataframe thead th {\n",
       "        text-align: right;\n",
       "    }\n",
       "</style>\n",
       "<table border=\"1\" class=\"dataframe\">\n",
       "  <thead>\n",
       "    <tr style=\"text-align: right;\">\n",
       "      <th></th>\n",
       "      <th>Text</th>\n",
       "      <th>Label</th>\n",
       "    </tr>\n",
       "  </thead>\n",
       "  <tbody>\n",
       "    <tr>\n",
       "      <th>0</th>\n",
       "      <td>'@Sanjay_Dixit Aakar Ahmed Patel : a radical m...</td>\n",
       "      <td>2</td>\n",
       "    </tr>\n",
       "    <tr>\n",
       "      <th>1</th>\n",
       "      <td>'@RedMissionary @filthycattle Could it be that...</td>\n",
       "      <td>1</td>\n",
       "    </tr>\n",
       "    <tr>\n",
       "      <th>2</th>\n",
       "      <td>'@ECB_cricket Better than nothing.. but why no...</td>\n",
       "      <td>0</td>\n",
       "    </tr>\n",
       "    <tr>\n",
       "      <th>3</th>\n",
       "      <td>'Happy islamic new years âœ¨ 1 Muharram 1442 H</td>\n",
       "      <td>1</td>\n",
       "    </tr>\n",
       "    <tr>\n",
       "      <th>4</th>\n",
       "      <td>'@MiamiHEAT @The_Big_Cricket</td>\n",
       "      <td>0</td>\n",
       "    </tr>\n",
       "    <tr>\n",
       "      <th>...</th>\n",
       "      <td>...</td>\n",
       "      <td>...</td>\n",
       "    </tr>\n",
       "    <tr>\n",
       "      <th>10658</th>\n",
       "      <td>'Lay Riders @ 1.5  #Betfair #CPL2020 #Cricket</td>\n",
       "      <td>0</td>\n",
       "    </tr>\n",
       "    <tr>\n",
       "      <th>10659</th>\n",
       "      <td>'@CalebMadl I donâ€™t feel bad.</td>\n",
       "      <td>0</td>\n",
       "    </tr>\n",
       "    <tr>\n",
       "      <th>10660</th>\n",
       "      <td>'Lots of you mfs are hypocrite  to you every M...</td>\n",
       "      <td>2</td>\n",
       "    </tr>\n",
       "    <tr>\n",
       "      <th>10661</th>\n",
       "      <td>'âœ¨ Happy Muharram Islamic New Year âœ¨</td>\n",
       "      <td>1</td>\n",
       "    </tr>\n",
       "    <tr>\n",
       "      <th>10662</th>\n",
       "      <td>'@vibhor_anand @itsSSR What is the reasoning ?...</td>\n",
       "      <td>0</td>\n",
       "    </tr>\n",
       "  </tbody>\n",
       "</table>\n",
       "<p>10663 rows × 2 columns</p>\n",
       "</div>"
      ],
      "text/plain": [
       "                                                    Text Label\n",
       "0      '@Sanjay_Dixit Aakar Ahmed Patel : a radical m...     2\n",
       "1      '@RedMissionary @filthycattle Could it be that...     1\n",
       "2      '@ECB_cricket Better than nothing.. but why no...     0\n",
       "3         'Happy islamic new years âœ¨ 1 Muharram 1442 H     1\n",
       "4                           '@MiamiHEAT @The_Big_Cricket     0\n",
       "...                                                  ...   ...\n",
       "10658      'Lay Riders @ 1.5  #Betfair #CPL2020 #Cricket     0\n",
       "10659                    '@CalebMadl I donâ€™t feel bad.     0\n",
       "10660  'Lots of you mfs are hypocrite  to you every M...     2\n",
       "10661           'âœ¨ Happy Muharram Islamic New Year âœ¨     1\n",
       "10662  '@vibhor_anand @itsSSR What is the reasoning ?...     0\n",
       "\n",
       "[10663 rows x 2 columns]"
      ]
     },
     "execution_count": 11,
     "metadata": {},
     "output_type": "execute_result"
    }
   ],
   "source": [
    "data=data.sample(frac=1).reset_index(drop=True)\n",
    "data"
   ]
  },
  {
   "cell_type": "markdown",
   "metadata": {},
   "source": [
    "### Data Preprocessing"
   ]
  },
  {
   "cell_type": "code",
   "execution_count": 12,
   "metadata": {},
   "outputs": [],
   "source": [
    "# People usually join sentences using more than one colon \n",
    "\n",
    "def ReplaceDoubleColon(inputString):\n",
    "    return inputString.replace(\"..\", \" \") \n",
    "\n",
    "data['Text'] = data['Text'].apply(lambda x: ReplaceDoubleColon(x))\n",
    "\n",
    "def ReplaceTripleColon(inputString):\n",
    "    return inputString.replace(\"...\", \" \") \n",
    "\n",
    "data['Text'] = data['Text'].apply(lambda x: ReplaceTripleColon(x))\n",
    "\n",
    "def ReplaceFourColon(inputString):\n",
    "    return inputString.replace(\"....\", \" \") \n",
    "\n",
    "data['Text'] = data['Text'].apply(lambda x: ReplaceFourColon(x))"
   ]
  },
  {
   "cell_type": "code",
   "execution_count": 13,
   "metadata": {},
   "outputs": [],
   "source": [
    "def textPattern(text):\n",
    "\n",
    "    # Clean the text\n",
    "    text = re.sub(r\"@\", \" \", text)\n",
    "    text = re.sub(r\"'\", \" \", text)\n",
    "    text = re.sub(r\"what's\", \"what is\", text)\n",
    "    text = re.sub(r\"\\'s\", \" \", text)\n",
    "    text = re.sub(r\"\\'ve\", \"have\", text)\n",
    "    text = re.sub(r\"can't\", \"can not\", text)\n",
    "    text = re.sub(r\"aren't\", \"are not\", text)\n",
    "    text = re.sub(r\"couldn't\", \"could not\", text)\n",
    "    text = re.sub(r\"didn't\", \"did not\", text)\n",
    "    text = re.sub(r\"doesn't\", \"does not\", text)\n",
    "    text = re.sub(r\"don't\", \"do not\", text)\n",
    "    text = re.sub(r\"hadn't\", \"had not\", text)\n",
    "    text = re.sub(r\"hasn't\", \"has not\", text)\n",
    "    text = re.sub(r\"haven't\", \"have not\", text)\n",
    "    text = re.sub(r\"isn't\", \"is not\", text)\n",
    "    text = re.sub(r\"shouldn't\", \"should not\", text)\n",
    "    text = re.sub(r\"wasn't\", \"was not\", text)\n",
    "    text = re.sub(r\"weren't\", \"were not\", text)\n",
    "    text = re.sub(r\"won't\", \"will not\", text)\n",
    "    text = re.sub(r\"wouldn't\", \"would not\", text)\n",
    "    text = re.sub(r\"mustn't\", \"must not\", text)\n",
    "    text = re.sub(r\"i'm\", \"i am\", text)\n",
    "    text = re.sub(r\"\\'re\", \"are\", text)\n",
    "    text = re.sub(r\",\", \" \", text)\n",
    "    text = re.sub(r\"\\.\", \" \", text)\n",
    "    text = re.sub(r\"!\", \" \", text)\n",
    "    text = re.sub(r\"\\/\", \" \", text)\n",
    "    text = re.sub(r\"\\^\", \" ^ \", text)\n",
    "    text = re.sub(r\"\\+\", \" \", text)\n",
    "    text = re.sub(r\"\\-\", \" - \", text)\n",
    "    text = re.sub(r\"\\= =\", \" \", text)\n",
    "    text = re.sub(r\"\\==\", \" \", text)\n",
    "    text = re.sub(r\"'\", \" \", text)\n",
    "    text = re.sub(r\"(\\d+)(k)\", r\"\\g<1>000\", text)\n",
    "    text = re.sub(r\":\", \" : \", text)\n",
    "    text = re.sub(r\"\\0s\", \"0\", text)\n",
    "    text = re.sub(r\" 9 11 \", \"911\", text)\n",
    "    text = re.sub(r\"\\s{2,}\", \" \", text)\n",
    "    return text\n",
    "\n",
    "data['Text'] = data['Text'].apply(lambda x: textPattern(x))"
   ]
  },
  {
   "cell_type": "code",
   "execution_count": 14,
   "metadata": {},
   "outputs": [
    {
     "data": {
      "text/plain": [
       "(10663, 2)"
      ]
     },
     "execution_count": 14,
     "metadata": {},
     "output_type": "execute_result"
    }
   ],
   "source": [
    "data.shape"
   ]
  },
  {
   "cell_type": "code",
   "execution_count": 15,
   "metadata": {},
   "outputs": [],
   "source": [
    "# Word Tokenization\n",
    "tokens = [word_tokenize(sen) for sen in data.Text]"
   ]
  },
  {
   "cell_type": "code",
   "execution_count": 16,
   "metadata": {},
   "outputs": [],
   "source": [
    "# Lower Case\n",
    "def lower_token(tokens): \n",
    "    return [w.lower() for w in tokens]    \n",
    "    \n",
    "lower_tokens = [lower_token(token) for token in tokens]"
   ]
  },
  {
   "cell_type": "code",
   "execution_count": 17,
   "metadata": {},
   "outputs": [],
   "source": [
    "# Remove Link\n",
    "\n",
    "def removeLink(token):\n",
    "    word = []\n",
    "    for w in token:\n",
    "        if not w.startswith('http'):\n",
    "            word.append(w)\n",
    "    return word \n",
    "    \n",
    "removedLink_tokens = [removeLink(token) for token in lower_tokens]"
   ]
  },
  {
   "cell_type": "code",
   "execution_count": 18,
   "metadata": {},
   "outputs": [],
   "source": [
    "# Word Lemmatization\n",
    "def lemmatization(token):\n",
    "    return [lemmatizer.lemmatize(w) for w in token] \n",
    "\n",
    "lemmatizer = WordNetLemmatizer()\n",
    "\n",
    "lemmatized_tokens = [lemmatization(token) for token in removedLink_tokens]"
   ]
  },
  {
   "cell_type": "code",
   "execution_count": 19,
   "metadata": {},
   "outputs": [],
   "source": [
    "# Removing Stopwords\n",
    "stoplist = stopwords.words('english')"
   ]
  },
  {
   "cell_type": "code",
   "execution_count": 20,
   "metadata": {},
   "outputs": [],
   "source": [
    "def removeStopWords(tokens): \n",
    "    return [word for word in tokens if word not in stoplist]\n",
    "\n",
    "filtered_words = [removeStopWords(sen) for sen in lemmatized_tokens]\n",
    "data['Text_Final'] = [' '.join(sen) for sen in filtered_words]\n",
    "data['tokens'] = filtered_words"
   ]
  },
  {
   "cell_type": "code",
   "execution_count": 21,
   "metadata": {},
   "outputs": [],
   "source": [
    "zero  = []\n",
    "one = []\n",
    "two = []\n",
    "for l in data.Label:\n",
    "    \n",
    "    if l == '0':\n",
    "        zero.append(1)\n",
    "        one.append(0)\n",
    "        two.append(0)\n",
    "    elif l == '1':\n",
    "        zero.append(0)\n",
    "        one.append(1)\n",
    "        two.append(0)\n",
    "    elif l == '2':\n",
    "        zero.append(0)\n",
    "        one.append(0)\n",
    "        two.append(1)\n",
    "        \n",
    "data['0']= zero\n",
    "data['1']= one\n",
    "data['2']= two\n",
    "\n",
    "data = data[['Text_Final', 'tokens', 'Label', '0', '1', '2']]"
   ]
  },
  {
   "cell_type": "code",
   "execution_count": 22,
   "metadata": {},
   "outputs": [
    {
     "data": {
      "text/html": [
       "<div>\n",
       "<style scoped>\n",
       "    .dataframe tbody tr th:only-of-type {\n",
       "        vertical-align: middle;\n",
       "    }\n",
       "\n",
       "    .dataframe tbody tr th {\n",
       "        vertical-align: top;\n",
       "    }\n",
       "\n",
       "    .dataframe thead th {\n",
       "        text-align: right;\n",
       "    }\n",
       "</style>\n",
       "<table border=\"1\" class=\"dataframe\">\n",
       "  <thead>\n",
       "    <tr style=\"text-align: right;\">\n",
       "      <th></th>\n",
       "      <th>Text_Final</th>\n",
       "      <th>tokens</th>\n",
       "      <th>Label</th>\n",
       "      <th>0</th>\n",
       "      <th>1</th>\n",
       "      <th>2</th>\n",
       "      <th>Category_id</th>\n",
       "    </tr>\n",
       "  </thead>\n",
       "  <tbody>\n",
       "    <tr>\n",
       "      <th>0</th>\n",
       "      <td>sanjay_dixit aakar ahmed patel : radical musli...</td>\n",
       "      <td>[sanjay_dixit, aakar, ahmed, patel, :, radical...</td>\n",
       "      <td>2</td>\n",
       "      <td>0</td>\n",
       "      <td>0</td>\n",
       "      <td>1</td>\n",
       "      <td>2</td>\n",
       "    </tr>\n",
       "    <tr>\n",
       "      <th>1</th>\n",
       "      <td>redmissionary filthycattle could religion chri...</td>\n",
       "      <td>[redmissionary, filthycattle, could, religion,...</td>\n",
       "      <td>1</td>\n",
       "      <td>0</td>\n",
       "      <td>1</td>\n",
       "      <td>0</td>\n",
       "      <td>1</td>\n",
       "    </tr>\n",
       "    <tr>\n",
       "      <th>2</th>\n",
       "      <td>ecb_cricket better nothing 9 30 spectator worry</td>\n",
       "      <td>[ecb_cricket, better, nothing, 9, 30, spectato...</td>\n",
       "      <td>0</td>\n",
       "      <td>1</td>\n",
       "      <td>0</td>\n",
       "      <td>0</td>\n",
       "      <td>0</td>\n",
       "    </tr>\n",
       "    <tr>\n",
       "      <th>3</th>\n",
       "      <td>happy islamic new year âœ¨ 1 muharram 1442 h</td>\n",
       "      <td>[happy, islamic, new, year, âœ¨, 1, muharram, ...</td>\n",
       "      <td>1</td>\n",
       "      <td>0</td>\n",
       "      <td>1</td>\n",
       "      <td>0</td>\n",
       "      <td>1</td>\n",
       "    </tr>\n",
       "    <tr>\n",
       "      <th>4</th>\n",
       "      <td>miamiheat the_big_cricket</td>\n",
       "      <td>[miamiheat, the_big_cricket]</td>\n",
       "      <td>0</td>\n",
       "      <td>1</td>\n",
       "      <td>0</td>\n",
       "      <td>0</td>\n",
       "      <td>0</td>\n",
       "    </tr>\n",
       "    <tr>\n",
       "      <th>5</th>\n",
       "      <td>gsvkapoor muslim terrorist always speak `` tru...</td>\n",
       "      <td>[gsvkapoor, muslim, terrorist, always, speak, ...</td>\n",
       "      <td>2</td>\n",
       "      <td>0</td>\n",
       "      <td>0</td>\n",
       "      <td>1</td>\n",
       "      <td>2</td>\n",
       "    </tr>\n",
       "    <tr>\n",
       "      <th>6</th>\n",
       "      <td>happy islamic new year ðÿ ’ › may allah bless ...</td>\n",
       "      <td>[happy, islamic, new, year, ðÿ, ’, ›, may, all...</td>\n",
       "      <td>1</td>\n",
       "      <td>0</td>\n",
       "      <td>1</td>\n",
       "      <td>0</td>\n",
       "      <td>1</td>\n",
       "    </tr>\n",
       "    <tr>\n",
       "      <th>7</th>\n",
       "      <td># noentry4shahfaesal sleeper cell muslim terro...</td>\n",
       "      <td>[#, noentry4shahfaesal, sleeper, cell, muslim,...</td>\n",
       "      <td>2</td>\n",
       "      <td>0</td>\n",
       "      <td>0</td>\n",
       "      <td>1</td>\n",
       "      <td>2</td>\n",
       "    </tr>\n",
       "    <tr>\n",
       "      <th>8</th>\n",
       "      <td>wise_cricket yeah may need felt year try alway...</td>\n",
       "      <td>[wise_cricket, yeah, may, need, felt, year, tr...</td>\n",
       "      <td>0</td>\n",
       "      <td>1</td>\n",
       "      <td>0</td>\n",
       "      <td>0</td>\n",
       "      <td>0</td>\n",
       "    </tr>\n",
       "    <tr>\n",
       "      <th>9</th>\n",
       "      <td>u convosync muslim faithful happy muharram isl...</td>\n",
       "      <td>[u, convosync, muslim, faithful, happy, muharr...</td>\n",
       "      <td>1</td>\n",
       "      <td>0</td>\n",
       "      <td>1</td>\n",
       "      <td>0</td>\n",
       "      <td>1</td>\n",
       "    </tr>\n",
       "    <tr>\n",
       "      <th>10</th>\n",
       "      <td>fuck rapist pedophile named mohammed try hurt ...</td>\n",
       "      <td>[fuck, rapist, pedophile, named, mohammed, try...</td>\n",
       "      <td>2</td>\n",
       "      <td>0</td>\n",
       "      <td>0</td>\n",
       "      <td>1</td>\n",
       "      <td>2</td>\n",
       "    </tr>\n",
       "    <tr>\n",
       "      <th>11</th>\n",
       "      <td>sreenivasanjain = free islamic terrorism</td>\n",
       "      <td>[sreenivasanjain, =, free, islamic, terrorism]</td>\n",
       "      <td>2</td>\n",
       "      <td>0</td>\n",
       "      <td>0</td>\n",
       "      <td>1</td>\n",
       "      <td>2</td>\n",
       "    </tr>\n",
       "    <tr>\n",
       "      <th>12</th>\n",
       "      <td>khaledbeydoun love kashmir brother muslim umma...</td>\n",
       "      <td>[khaledbeydoun, love, kashmir, brother, muslim...</td>\n",
       "      <td>1</td>\n",
       "      <td>0</td>\n",
       "      <td>1</td>\n",
       "      <td>0</td>\n",
       "      <td>1</td>\n",
       "    </tr>\n",
       "    <tr>\n",
       "      <th>13</th>\n",
       "      <td>khanumarfa say u radical islamic terrorismà¥¤à¥¤</td>\n",
       "      <td>[khanumarfa, say, u, radical, islamic, terrori...</td>\n",
       "      <td>2</td>\n",
       "      <td>0</td>\n",
       "      <td>0</td>\n",
       "      <td>1</td>\n",
       "      <td>2</td>\n",
       "    </tr>\n",
       "    <tr>\n",
       "      <th>14</th>\n",
       "      <td>`` pakistan cricket back tomorrow live ball 1 ...</td>\n",
       "      <td>[``, pakistan, cricket, back, tomorrow, live, ...</td>\n",
       "      <td>0</td>\n",
       "      <td>1</td>\n",
       "      <td>0</td>\n",
       "      <td>0</td>\n",
       "      <td>0</td>\n",
       "    </tr>\n",
       "    <tr>\n",
       "      <th>15</th>\n",
       "      <td>saying happy islamic new year muharram doesnâ€...</td>\n",
       "      <td>[saying, happy, islamic, new, year, muharram, ...</td>\n",
       "      <td>1</td>\n",
       "      <td>0</td>\n",
       "      <td>1</td>\n",
       "      <td>0</td>\n",
       "      <td>1</td>\n",
       "    </tr>\n",
       "    <tr>\n",
       "      <th>16</th>\n",
       "      <td>parkcitydude arem609 ingrahamangle every singl...</td>\n",
       "      <td>[parkcitydude, arem609, ingrahamangle, every, ...</td>\n",
       "      <td>2</td>\n",
       "      <td>0</td>\n",
       "      <td>0</td>\n",
       "      <td>1</td>\n",
       "      <td>2</td>\n",
       "    </tr>\n",
       "    <tr>\n",
       "      <th>17</th>\n",
       "      <td>nwitherden thanks nige yep cricket come bk til...</td>\n",
       "      <td>[nwitherden, thanks, nige, yep, cricket, come,...</td>\n",
       "      <td>0</td>\n",
       "      <td>1</td>\n",
       "      <td>0</td>\n",
       "      <td>0</td>\n",
       "      <td>0</td>\n",
       "    </tr>\n",
       "    <tr>\n",
       "      <th>18</th>\n",
       "      <td>see jehadi</td>\n",
       "      <td>[see, jehadi]</td>\n",
       "      <td>2</td>\n",
       "      <td>0</td>\n",
       "      <td>0</td>\n",
       "      <td>1</td>\n",
       "      <td>2</td>\n",
       "    </tr>\n",
       "    <tr>\n",
       "      <th>19</th>\n",
       "      <td>noappeasing every muslim ha terrorist element ...</td>\n",
       "      <td>[noappeasing, every, muslim, ha, terrorist, el...</td>\n",
       "      <td>2</td>\n",
       "      <td>0</td>\n",
       "      <td>0</td>\n",
       "      <td>1</td>\n",
       "      <td>2</td>\n",
       "    </tr>\n",
       "    <tr>\n",
       "      <th>20</th>\n",
       "      <td>`` radical left '' trump 2020 version `` radic...</td>\n",
       "      <td>[``, radical, left, '', trump, 2020, version, ...</td>\n",
       "      <td>2</td>\n",
       "      <td>0</td>\n",
       "      <td>0</td>\n",
       "      <td>1</td>\n",
       "      <td>2</td>\n",
       "    </tr>\n",
       "    <tr>\n",
       "      <th>21</th>\n",
       "      <td>maysoonzayid fasting vote tenet ramadan unaware</td>\n",
       "      <td>[maysoonzayid, fasting, vote, tenet, ramadan, ...</td>\n",
       "      <td>1</td>\n",
       "      <td>0</td>\n",
       "      <td>1</td>\n",
       "      <td>0</td>\n",
       "      <td>1</td>\n",
       "    </tr>\n",
       "    <tr>\n",
       "      <th>22</th>\n",
       "      <td>saysayed_ shashitharoor islamic terrorist found</td>\n",
       "      <td>[saysayed_, shashitharoor, islamic, terrorist,...</td>\n",
       "      <td>2</td>\n",
       "      <td>0</td>\n",
       "      <td>0</td>\n",
       "      <td>1</td>\n",
       "      <td>2</td>\n",
       "    </tr>\n",
       "    <tr>\n",
       "      <th>23</th>\n",
       "      <td>thewire_in mob radical islamic terroist attack...</td>\n",
       "      <td>[thewire_in, mob, radical, islamic, terroist, ...</td>\n",
       "      <td>2</td>\n",
       "      <td>0</td>\n",
       "      <td>0</td>\n",
       "      <td>1</td>\n",
       "      <td>2</td>\n",
       "    </tr>\n",
       "    <tr>\n",
       "      <th>24</th>\n",
       "      <td>garowann community ( look audience see total 3...</td>\n",
       "      <td>[garowann, community, (, look, audience, see, ...</td>\n",
       "      <td>0</td>\n",
       "      <td>1</td>\n",
       "      <td>0</td>\n",
       "      <td>0</td>\n",
       "      <td>0</td>\n",
       "    </tr>\n",
       "  </tbody>\n",
       "</table>\n",
       "</div>"
      ],
      "text/plain": [
       "                                           Text_Final  \\\n",
       "0   sanjay_dixit aakar ahmed patel : radical musli...   \n",
       "1   redmissionary filthycattle could religion chri...   \n",
       "2     ecb_cricket better nothing 9 30 spectator worry   \n",
       "3        happy islamic new year âœ¨ 1 muharram 1442 h   \n",
       "4                           miamiheat the_big_cricket   \n",
       "5   gsvkapoor muslim terrorist always speak `` tru...   \n",
       "6   happy islamic new year ðÿ ’ › may allah bless ...   \n",
       "7   # noentry4shahfaesal sleeper cell muslim terro...   \n",
       "8   wise_cricket yeah may need felt year try alway...   \n",
       "9   u convosync muslim faithful happy muharram isl...   \n",
       "10  fuck rapist pedophile named mohammed try hurt ...   \n",
       "11           sreenivasanjain = free islamic terrorism   \n",
       "12  khaledbeydoun love kashmir brother muslim umma...   \n",
       "13   khanumarfa say u radical islamic terrorismà¥¤à¥¤   \n",
       "14  `` pakistan cricket back tomorrow live ball 1 ...   \n",
       "15  saying happy islamic new year muharram doesnâ€...   \n",
       "16  parkcitydude arem609 ingrahamangle every singl...   \n",
       "17  nwitherden thanks nige yep cricket come bk til...   \n",
       "18                                         see jehadi   \n",
       "19  noappeasing every muslim ha terrorist element ...   \n",
       "20  `` radical left '' trump 2020 version `` radic...   \n",
       "21    maysoonzayid fasting vote tenet ramadan unaware   \n",
       "22    saysayed_ shashitharoor islamic terrorist found   \n",
       "23  thewire_in mob radical islamic terroist attack...   \n",
       "24  garowann community ( look audience see total 3...   \n",
       "\n",
       "                                               tokens Label  0  1  2  \\\n",
       "0   [sanjay_dixit, aakar, ahmed, patel, :, radical...     2  0  0  1   \n",
       "1   [redmissionary, filthycattle, could, religion,...     1  0  1  0   \n",
       "2   [ecb_cricket, better, nothing, 9, 30, spectato...     0  1  0  0   \n",
       "3   [happy, islamic, new, year, âœ¨, 1, muharram, ...     1  0  1  0   \n",
       "4                        [miamiheat, the_big_cricket]     0  1  0  0   \n",
       "5   [gsvkapoor, muslim, terrorist, always, speak, ...     2  0  0  1   \n",
       "6   [happy, islamic, new, year, ðÿ, ’, ›, may, all...     1  0  1  0   \n",
       "7   [#, noentry4shahfaesal, sleeper, cell, muslim,...     2  0  0  1   \n",
       "8   [wise_cricket, yeah, may, need, felt, year, tr...     0  1  0  0   \n",
       "9   [u, convosync, muslim, faithful, happy, muharr...     1  0  1  0   \n",
       "10  [fuck, rapist, pedophile, named, mohammed, try...     2  0  0  1   \n",
       "11     [sreenivasanjain, =, free, islamic, terrorism]     2  0  0  1   \n",
       "12  [khaledbeydoun, love, kashmir, brother, muslim...     1  0  1  0   \n",
       "13  [khanumarfa, say, u, radical, islamic, terrori...     2  0  0  1   \n",
       "14  [``, pakistan, cricket, back, tomorrow, live, ...     0  1  0  0   \n",
       "15  [saying, happy, islamic, new, year, muharram, ...     1  0  1  0   \n",
       "16  [parkcitydude, arem609, ingrahamangle, every, ...     2  0  0  1   \n",
       "17  [nwitherden, thanks, nige, yep, cricket, come,...     0  1  0  0   \n",
       "18                                      [see, jehadi]     2  0  0  1   \n",
       "19  [noappeasing, every, muslim, ha, terrorist, el...     2  0  0  1   \n",
       "20  [``, radical, left, '', trump, 2020, version, ...     2  0  0  1   \n",
       "21  [maysoonzayid, fasting, vote, tenet, ramadan, ...     1  0  1  0   \n",
       "22  [saysayed_, shashitharoor, islamic, terrorist,...     2  0  0  1   \n",
       "23  [thewire_in, mob, radical, islamic, terroist, ...     2  0  0  1   \n",
       "24  [garowann, community, (, look, audience, see, ...     0  1  0  0   \n",
       "\n",
       "   Category_id  \n",
       "0            2  \n",
       "1            1  \n",
       "2            0  \n",
       "3            1  \n",
       "4            0  \n",
       "5            2  \n",
       "6            1  \n",
       "7            2  \n",
       "8            0  \n",
       "9            1  \n",
       "10           2  \n",
       "11           2  \n",
       "12           1  \n",
       "13           2  \n",
       "14           0  \n",
       "15           1  \n",
       "16           2  \n",
       "17           0  \n",
       "18           2  \n",
       "19           2  \n",
       "20           2  \n",
       "21           1  \n",
       "22           2  \n",
       "23           2  \n",
       "24           0  "
      ]
     },
     "execution_count": 22,
     "metadata": {},
     "output_type": "execute_result"
    }
   ],
   "source": [
    "category_id = []\n",
    "for l in data.Label:\n",
    "    \n",
    "    if l == '0':\n",
    "        category_id.append('0')\n",
    "    elif l == '1':\n",
    "        category_id.append('1')\n",
    "    elif l == '2':\n",
    "        category_id.append('2')\n",
    "        \n",
    "data['Category_id'] = category_id\n",
    "\n",
    "data = data[['Text_Final', 'tokens', 'Label', '0', '1', '2', 'Category_id' ]]\n",
    "data.head(25)"
   ]
  },
  {
   "cell_type": "code",
   "execution_count": 23,
   "metadata": {},
   "outputs": [],
   "source": [
    "# Removing empty rows after tokenization"
   ]
  },
  {
   "cell_type": "code",
   "execution_count": 24,
   "metadata": {},
   "outputs": [],
   "source": [
    "data = data[data.tokens != '']"
   ]
  },
  {
   "cell_type": "code",
   "execution_count": 25,
   "metadata": {},
   "outputs": [],
   "source": [
    "from io import StringIO\n",
    "category_id_df = data[['Label', 'Category_id']].drop_duplicates().sort_values('Category_id')\n",
    "category_to_label_dict = dict(category_id_df.values)\n",
    "label_to_category_dict = dict(category_id_df[['Category_id', 'Label']].values)"
   ]
  },
  {
   "cell_type": "markdown",
   "metadata": {},
   "source": [
    "#### Split Data into test and train\n",
    "We will use 90 % data for training and 10 % for testing. We use random state so every time we get the same training and testing data."
   ]
  },
  {
   "cell_type": "markdown",
   "metadata": {},
   "source": [
    "# RFM - TFIDF"
   ]
  },
  {
   "cell_type": "code",
   "execution_count": 26,
   "metadata": {},
   "outputs": [
    {
     "data": {
      "text/plain": [
       "(10663, 60594)"
      ]
     },
     "execution_count": 26,
     "metadata": {},
     "output_type": "execute_result"
    }
   ],
   "source": [
    "vectorizer = TfidfVectorizer(sublinear_tf=True, min_df=2, norm='l2', encoding='latin-1', ngram_range=(1, 5), stop_words='english')\n",
    "features = vectorizer.fit_transform(data.Text_Final).toarray()\n",
    "labels = data.Label\n",
    "features.shape"
   ]
  },
  {
   "cell_type": "code",
   "execution_count": 27,
   "metadata": {},
   "outputs": [
    {
     "data": {
      "text/plain": [
       "0    3555\n",
       "2    3554\n",
       "1    3554\n",
       "Name: Label, dtype: int64"
      ]
     },
     "execution_count": 27,
     "metadata": {},
     "output_type": "execute_result"
    }
   ],
   "source": [
    "data.Label.value_counts()"
   ]
  },
  {
   "cell_type": "code",
   "execution_count": 28,
   "metadata": {},
   "outputs": [],
   "source": [
    "# Spliting data\n",
    "X_train, X_test, y_train, y_test, idx_train, idx_test = train_test_split(features, labels, data.index, test_size=0.10,shuffle = True, random_state=42)"
   ]
  },
  {
   "cell_type": "code",
   "execution_count": 29,
   "metadata": {},
   "outputs": [],
   "source": [
    "# Generate model\n",
    "model1 = RandomForestClassifier(n_estimators=200, max_depth=20, random_state=32)\n",
    "clf = model1.fit(X_train, y_train)\n",
    "y_pred = model1.predict(X_test)"
   ]
  },
  {
   "cell_type": "markdown",
   "metadata": {},
   "source": [
    "### RFM - Showing some prediction"
   ]
  },
  {
   "cell_type": "code",
   "execution_count": 30,
   "metadata": {},
   "outputs": [],
   "source": [
    "# Prediction\n",
    "translator = Translator()"
   ]
  },
  {
   "cell_type": "code",
   "execution_count": 31,
   "metadata": {},
   "outputs": [
    {
     "name": "stdout",
     "output_type": "stream",
     "text": [
      "Hindi:   समाज वादी  पार्टी  जिंदाबाद \n",
      "Translated: Society Wadi Party Zindabad\n",
      "['0']\n"
     ]
    }
   ],
   "source": [
    "#0\n",
    "hin_text =  \" समाज वादी  पार्टी  जिंदाबाद \"\n",
    "print(\"Hindi: \", hin_text)\n",
    "\n",
    "trans = translator.translate(hin_text, dest='en')\n",
    "print('Translated:', trans.text)\n",
    "texts = [trans.text]\n",
    "print(clf.predict(vectorizer.transform(texts)))"
   ]
  },
  {
   "cell_type": "code",
   "execution_count": 32,
   "metadata": {},
   "outputs": [
    {
     "name": "stdout",
     "output_type": "stream",
     "text": [
      "Hindi:  'गाजा में दीवाली   की ढेरो बधाई मित्रो 😊💐  #IsraeliBombing 😂😂\n",
      "Translated: 'Happy greetings of Diwali in Gaza 😊💐 #Israelibombing 😂😂\n",
      "['0']\n"
     ]
    }
   ],
   "source": [
    "#2\n",
    "hin_text =  \"'गाजा में दीवाली   की ढेरो बधाई मित्रो 😊💐  #IsraeliBombing 😂😂\"\n",
    "print(\"Hindi: \", hin_text)\n",
    "\n",
    "trans = translator.translate(hin_text, dest='en')\n",
    "print('Translated:', trans.text)\n",
    "texts = [trans.text]\n",
    "print(clf.predict(vectorizer.transform(texts)))"
   ]
  },
  {
   "cell_type": "code",
   "execution_count": 33,
   "metadata": {},
   "outputs": [
    {
     "name": "stdout",
     "output_type": "stream",
     "text": [
      "Hindi:  इसलाम सुंदर है\n",
      "Translated: Islam is beautiful\n",
      "['2']\n"
     ]
    }
   ],
   "source": [
    "# 1\n",
    "hin_text =  \"इसलाम सुंदर है\"\n",
    "print(\"Hindi: \", hin_text)\n",
    "\n",
    "trans = translator.translate(hin_text, dest='en')\n",
    "print('Translated:', trans.text)\n",
    "texts = [trans.text]\n",
    "print(clf.predict(vectorizer.transform(texts)))"
   ]
  },
  {
   "cell_type": "code",
   "execution_count": 34,
   "metadata": {},
   "outputs": [
    {
     "name": "stdout",
     "output_type": "stream",
     "text": [
      "['2']\n"
     ]
    }
   ],
   "source": [
    "# 2\n",
    "texts = [\"@_ROB_29 If this was a Muslim girl in Afghanistan you'd call her a terrorist\"]\n",
    "print(clf.predict(vectorizer.transform(texts)))"
   ]
  },
  {
   "cell_type": "code",
   "execution_count": 35,
   "metadata": {},
   "outputs": [
    {
     "name": "stdout",
     "output_type": "stream",
     "text": [
      "['0']\n"
     ]
    }
   ],
   "source": [
    "# 0\n",
    "texts = [\"Sachin: Once there was a fight between Yusuf and Bhajji. Sehwag: Paji, was he Muhammad Yusuf or Yusuf Youhana at that time. This man will not let him live even after retirement.\"]\n",
    "print(clf.predict(vectorizer.transform(texts)))"
   ]
  },
  {
   "cell_type": "markdown",
   "metadata": {},
   "source": [
    "### RFM - Displaying false-positive rate (FPR) and true positive rate (TPR)"
   ]
  },
  {
   "cell_type": "code",
   "execution_count": 36,
   "metadata": {},
   "outputs": [
    {
     "name": "stdout",
     "output_type": "stream",
     "text": [
      "Random Forest Method\n"
     ]
    },
    {
     "data": {
      "image/png": "[encoded data removed]",
      "text/plain": [
       "<Figure size 360x360 with 2 Axes>"
      ]
     },
     "metadata": {
      "needs_background": "light"
     },
     "output_type": "display_data"
    }
   ],
   "source": [
    "# confusion matrix\n",
    "print(\"Random Forest Method\")\n",
    "conf_mat = confusion_matrix(y_test, y_pred)\n",
    "fig, ax = plt.subplots(figsize=(5,5))\n",
    "sns.heatmap(conf_mat, annot=True, fmt='d',cmap ='YlGnBu',\n",
    "            xticklabels=category_id_df.Label.values, yticklabels=category_id_df.Label.values)\n",
    "plt.ylabel('Actual')\n",
    "plt.xlabel('Predicted')\n",
    "plt.show()"
   ]
  },
  {
   "cell_type": "markdown",
   "metadata": {},
   "source": [
    "### RFM - Precision, Recall and F1-Score to quantify the quality of our model using a confusion matrix."
   ]
  },
  {
   "cell_type": "code",
   "execution_count": 37,
   "metadata": {},
   "outputs": [
    {
     "name": "stdout",
     "output_type": "stream",
     "text": [
      "Confusion Matrix :\n",
      "[[354   0   4]\n",
      " [ 31 285  33]\n",
      " [ 17   4 339]]\n",
      "Accuracy Score : 0.9165885660731021\n",
      "Report : \n",
      "              precision    recall  f1-score   support\n",
      "\n",
      "           0       0.88      0.99      0.93       358\n",
      "           1       0.99      0.82      0.89       349\n",
      "           2       0.90      0.94      0.92       360\n",
      "\n",
      "    accuracy                           0.92      1067\n",
      "   macro avg       0.92      0.92      0.92      1067\n",
      "weighted avg       0.92      0.92      0.92      1067\n",
      "\n"
     ]
    }
   ],
   "source": [
    "results1 = confusion_matrix(y_test, y_pred)\n",
    "print ('Confusion Matrix :')\n",
    "print(results1) \n",
    "print ('Accuracy Score :',accuracy_score(y_test, y_pred))\n",
    "print ('Report : ')\n",
    "print (classification_report(y_test, y_pred))"
   ]
  },
  {
   "cell_type": "markdown",
   "metadata": {},
   "source": [
    "### RFM K-fold"
   ]
  },
  {
   "cell_type": "code",
   "execution_count": 38,
   "metadata": {},
   "outputs": [
    {
     "name": "stdout",
     "output_type": "stream",
     "text": [
      "Random Forest with BOW: \n",
      "1 0.9259606373008434\n",
      "2 0.9194001874414246\n",
      "3 0.915651358950328\n",
      "4 0.9043151969981238\n",
      "5 0.9296435272045028\n",
      "6 0.9015009380863039\n",
      "7 0.924015009380863\n",
      "8 0.8893058161350844\n",
      "9 0.924953095684803\n",
      "10 0.9099437148217636\n",
      " Average Accuracy : 0.914468948200404\n"
     ]
    }
   ],
   "source": [
    "import random\n",
    "# Creating model\n",
    "model1 = RandomForestClassifier(n_estimators=200, max_depth=20, random_state=32)\n",
    "\n",
    "# KFold cross-validation\n",
    "kFold = 10\n",
    "\n",
    "scores = []\n",
    "#To get accuracy of the model for 10 different splits\n",
    "scoreValue = cross_val_score(model1, features, labels, scoring='accuracy', cv= kFold)\n",
    "\n",
    "# append name and score of each model with different splits\n",
    "print(\"Random Forest with BOW: \")\n",
    "for fold_idx, accuracy in enumerate(scoreValue):\n",
    "    print ((fold_idx + 1), accuracy)\n",
    "    scores.append(accuracy)\n",
    "    \n",
    "Mean_score =  sum(scores) / len(scores)\n",
    "print(f\" Average Accuracy : {Mean_score}\" )\n",
    "\n"
   ]
  },
  {
   "cell_type": "markdown",
   "metadata": {},
   "source": [
    "# RFM - BOW"
   ]
  },
  {
   "cell_type": "code",
   "execution_count": 39,
   "metadata": {},
   "outputs": [
    {
     "data": {
      "text/plain": [
       "(10663, 16927)"
      ]
     },
     "execution_count": 39,
     "metadata": {},
     "output_type": "execute_result"
    }
   ],
   "source": [
    "from sklearn.feature_extraction.text import CountVectorizer\n",
    "count_vect = CountVectorizer()\n",
    "features3 = count_vect.fit_transform(data.Text_Final).toarray()\n",
    "labels = data.Label\n",
    "features3.shape"
   ]
  },
  {
   "cell_type": "code",
   "execution_count": 40,
   "metadata": {},
   "outputs": [],
   "source": [
    "# Using similar split as CNN model\n",
    "X_train, X_test, y_train, y_test, idx_train, idx_test = train_test_split(features3, labels, data.index, test_size=0.10, shuffle = True, random_state=42)"
   ]
  },
  {
   "cell_type": "code",
   "execution_count": 41,
   "metadata": {},
   "outputs": [],
   "source": [
    "# generate Linear SVM model\n",
    "model3 = RandomForestClassifier(n_estimators=200, max_depth=20, random_state=32)\n",
    "clf3 = model3.fit(X_train, y_train)\n",
    "y_pred3 = model3.predict(X_test)"
   ]
  },
  {
   "cell_type": "markdown",
   "metadata": {},
   "source": [
    "### RFM - BOW - Showing some prediction"
   ]
  },
  {
   "cell_type": "code",
   "execution_count": 42,
   "metadata": {},
   "outputs": [],
   "source": [
    "# Prediction\n",
    "translator = Translator()"
   ]
  },
  {
   "cell_type": "code",
   "execution_count": 43,
   "metadata": {},
   "outputs": [
    {
     "name": "stdout",
     "output_type": "stream",
     "text": [
      "Hindi:   समाज वादी  पार्टी  जिंदाबाद \n",
      "Translated: Society Wadi Party Zindabad\n",
      "['0']\n"
     ]
    }
   ],
   "source": [
    "# 0\n",
    "hin_text =  \" समाज वादी  पार्टी  जिंदाबाद \"\n",
    "print(\"Hindi: \", hin_text)\n",
    "\n",
    "trans = translator.translate(hin_text, dest='en')\n",
    "print('Translated:', trans.text)\n",
    "texts = [trans.text]\n",
    "print(clf3.predict(count_vect.transform(texts)))"
   ]
  },
  {
   "cell_type": "code",
   "execution_count": 44,
   "metadata": {},
   "outputs": [
    {
     "name": "stdout",
     "output_type": "stream",
     "text": [
      "Hindi:  'गाजा में दीवाली   की ढेरो बधाई मित्रो 😊💐  #IsraeliBombing 😂😂\n",
      "Translated: 'Happy greetings of Diwali in Gaza 😊💐 #Israelibombing 😂😂\n",
      "['1']\n"
     ]
    }
   ],
   "source": [
    "# 2\n",
    "hin_text =  \"'गाजा में दीवाली   की ढेरो बधाई मित्रो 😊💐  #IsraeliBombing 😂😂\"\n",
    "print(\"Hindi: \", hin_text)\n",
    "\n",
    "trans = translator.translate(hin_text, dest='en')\n",
    "print('Translated:', trans.text)\n",
    "texts = [trans.text]\n",
    "print(clf3.predict(count_vect.transform(texts)))"
   ]
  },
  {
   "cell_type": "code",
   "execution_count": 45,
   "metadata": {},
   "outputs": [
    {
     "name": "stdout",
     "output_type": "stream",
     "text": [
      "Hindi:  इसलाम सुंदर है\n",
      "Translated: Islam is beautiful\n",
      "['2']\n"
     ]
    }
   ],
   "source": [
    "# 1\n",
    "hin_text =  \"इसलाम सुंदर है\"\n",
    "print(\"Hindi: \", hin_text)\n",
    "\n",
    "trans = translator.translate(hin_text, dest='en')\n",
    "print('Translated:', trans.text)\n",
    "texts = [trans.text]\n",
    "print(clf3.predict(count_vect.transform(texts)))"
   ]
  },
  {
   "cell_type": "code",
   "execution_count": 46,
   "metadata": {},
   "outputs": [
    {
     "name": "stdout",
     "output_type": "stream",
     "text": [
      "['2']\n"
     ]
    }
   ],
   "source": [
    "# 2\n",
    "texts = [\"@_ROB_29 If this was a Muslim girl in Afghanistan you'd call her a terrorist\"]\n",
    "print(clf3.predict(count_vect.transform(texts)))"
   ]
  },
  {
   "cell_type": "code",
   "execution_count": 47,
   "metadata": {},
   "outputs": [
    {
     "name": "stdout",
     "output_type": "stream",
     "text": [
      "['0']\n"
     ]
    }
   ],
   "source": [
    "# 0\n",
    "texts = [\"Sachin: Once there was a fight between Yusuf and Bhajji. Sehwag: Paji, was he Muhammad Yusuf or Yusuf Youhana at that time. This man will not let him live even after retirement.\"]\n",
    "print(clf3.predict(count_vect.transform(texts)))"
   ]
  },
  {
   "cell_type": "markdown",
   "metadata": {},
   "source": [
    "###  RFM - BOW - Displaying false-positive rate (FPR) and true positive rate (TPR)"
   ]
  },
  {
   "cell_type": "code",
   "execution_count": 48,
   "metadata": {},
   "outputs": [
    {
     "name": "stdout",
     "output_type": "stream",
     "text": [
      "                     RFM - BOW\n"
     ]
    },
    {
     "data": {
      "image/png": "[encoded data removed]",
      "text/plain": [
       "<Figure size 360x360 with 2 Axes>"
      ]
     },
     "metadata": {
      "needs_background": "light"
     },
     "output_type": "display_data"
    }
   ],
   "source": [
    "from sklearn.metrics import confusion_matrix\n",
    "print(\"                     RFM - BOW\")\n",
    "conf_mat = confusion_matrix(y_test, y_pred3)\n",
    "fig, ax = plt.subplots(figsize=(5,5))\n",
    "sns.heatmap(conf_mat, annot=True, fmt='d', cmap=\"YlGnBu\",\n",
    "            xticklabels=category_id_df.Label.values, yticklabels=category_id_df.Label.values)\n",
    "plt.ylabel('Actual')\n",
    "plt.xlabel('Predicted')\n",
    "plt.show()"
   ]
  },
  {
   "cell_type": "markdown",
   "metadata": {},
   "source": [
    "### RFM - BOW - Precision, Recall and F1-Score to quantify the quality of our model using a confusion matrix."
   ]
  },
  {
   "cell_type": "code",
   "execution_count": 49,
   "metadata": {},
   "outputs": [
    {
     "name": "stdout",
     "output_type": "stream",
     "text": [
      "Confusion Matrix :\n",
      "[[352   0   6]\n",
      " [ 20 308  21]\n",
      " [ 15   8 337]]\n",
      "Accuracy Score : 0.9343955014058107\n",
      "Report : \n",
      "              precision    recall  f1-score   support\n",
      "\n",
      "           0       0.91      0.98      0.94       358\n",
      "           1       0.97      0.88      0.93       349\n",
      "           2       0.93      0.94      0.93       360\n",
      "\n",
      "    accuracy                           0.93      1067\n",
      "   macro avg       0.94      0.93      0.93      1067\n",
      "weighted avg       0.94      0.93      0.93      1067\n",
      "\n"
     ]
    }
   ],
   "source": [
    "results3 = confusion_matrix(y_test, y_pred3)\n",
    "print ('Confusion Matrix :')\n",
    "print(results3) \n",
    "print ('Accuracy Score :',accuracy_score(y_test, y_pred3))\n",
    "print ('Report : ')\n",
    "print (classification_report(y_test, y_pred3))"
   ]
  },
  {
   "cell_type": "markdown",
   "metadata": {},
   "source": [
    "### RFM with BOW Kfold"
   ]
  },
  {
   "cell_type": "code",
   "execution_count": 50,
   "metadata": {},
   "outputs": [
    {
     "name": "stdout",
     "output_type": "stream",
     "text": [
      "Random Forest with BOW: \n",
      "1 0.950328022492971\n",
      "2 0.9447047797563262\n",
      "3 0.9390815370196813\n",
      "4 0.9437148217636022\n",
      "5 0.9512195121951219\n",
      "6 0.9512195121951219\n",
      "7 0.950281425891182\n",
      "8 0.9127579737335835\n",
      "9 0.9418386491557224\n",
      "10 0.926829268292683\n",
      " Average Accuracy : 0.9411975502495997\n"
     ]
    }
   ],
   "source": [
    "# model\n",
    "model3 = RandomForestClassifier(n_estimators=200, max_depth=20, random_state=32)\n",
    "\n",
    "# KFold cross-validation\n",
    "kFold = 10\n",
    "\n",
    "scores = []\n",
    "#To get accuracy of the model for 10 different splits\n",
    "scoreValue = cross_val_score(model3, features3, labels, scoring='accuracy', cv= kFold)\n",
    "\n",
    "# append name and score of each model with different splits\n",
    "print(\"Random Forest with BOW: \")\n",
    "for fold_idx, accuracy in enumerate(scoreValue):\n",
    "    print ((fold_idx + 1), accuracy)\n",
    "    scores.append(accuracy)\n",
    "    \n",
    "Mean_score =  sum(scores) / len(scores)\n",
    "print(f\" Average Accuracy : {Mean_score}\" )"
   ]
  },
  {
   "cell_type": "code",
   "execution_count": 1,
   "metadata": {},
   "outputs": [
    {
     "data": {
      "image/png": "[encoded data removed]",
      "text/plain": [
       "<Figure size 432x288 with 1 Axes>"
      ]
     },
     "metadata": {},
     "output_type": "display_data"
    }
   ],
   "source": [
    "# for tfidf\n",
    "import pandas as pd\n",
    "import seaborn as sns\n",
    "results=pd.DataFrame()\n",
    "dictionary=dict()\n",
    "dictionary['Evaluation Measures']=[\"K Fold\", \"Precision\", \"Recall\", \"F1 Score\"]\n",
    "dictionary['Random Forest - TFIDF']=[91.4, 92, 92, 92]\n",
    "results=pd.DataFrame(dictionary)\n",
    "sns.set_style(style=\"whitegrid\")\n",
    "ax = sns.barplot(x='Evaluation Measures', y= 'Random Forest - TFIDF',data=results)"
   ]
  },
  {
   "cell_type": "code",
   "execution_count": 2,
   "metadata": {},
   "outputs": [
    {
     "data": {
      "image/png": "[encoded data removed]",
      "text/plain": [
       "<Figure size 432x288 with 1 Axes>"
      ]
     },
     "metadata": {},
     "output_type": "display_data"
    }
   ],
   "source": [
    "# for BOW\n",
    "import seaborn as sns\n",
    "results=pd.DataFrame()\n",
    "dictionary=dict()\n",
    "dictionary['Evaluation Measures']=[\"K Fold\", \"Precision\", \"Recall\", \"F1 Score\"]\n",
    "dictionary['Random Forest - BOW']=[94.1, 94, 93, 93]\n",
    "results=pd.DataFrame(dictionary)\n",
    "sns.set_style(style=\"whitegrid\")\n",
    "ax = sns.barplot(x='Evaluation Measures', y= 'Random Forest - BOW',data=results)"
   ]
  },
  {
   "cell_type": "code",
   "execution_count": null,
   "metadata": {},
   "outputs": [],
   "source": []
  }
 ],
 "metadata": {
  "kernelspec": {
   "display_name": "Python 3 (ipykernel)",
   "language": "python",
   "name": "python3"
  },
  "language_info": {
   "codemirror_mode": {
    "name": "ipython",
    "version": 3
   },
   "file_extension": ".py",
   "mimetype": "text/x-python",
   "name": "python",
   "nbconvert_exporter": "python",
   "pygments_lexer": "ipython3",
   "version": "3.8.8"
  }
 },
 "nbformat": 4,
 "nbformat_minor": 4
}
