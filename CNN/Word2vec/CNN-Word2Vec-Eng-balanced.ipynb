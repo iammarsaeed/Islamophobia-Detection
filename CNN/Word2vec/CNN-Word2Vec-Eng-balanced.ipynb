{
 "cells": [
  {
   "cell_type": "markdown",
   "metadata": {},
   "source": [
    "\n",
    "# Convolutional Neural Network CNN\n",
    "1. Using Word2Vec implementing CNN model\n",
    "2. Dispaly Confusion Matrix, precision, recall and F1-score\n",
    "3. Display few prediction using predict module. \n",
    "4. Get 10-fold Average of the CNN model."
   ]
  },
  {
   "cell_type": "code",
   "execution_count": 1,
   "metadata": {},
   "outputs": [],
   "source": [
    "from __future__ import division, print_function\n",
    "\n",
    "# dataframe\n",
    "import pandas as pd\n",
    "\n",
    "# numpy array\n",
    "import numpy as np\n",
    "\n",
    "# figures visualization\n",
    "import matplotlib.pyplot as plt\n",
    "from sklearn.metrics import confusion_matrix \n",
    "import seaborn as sns\n",
    "\n",
    "# calc accuracy\n",
    "from sklearn.metrics import accuracy_score \n",
    "from sklearn.metrics import classification_report \n",
    "\n",
    "# word2vec\n",
    "import gensim \n",
    "from gensim import models\n",
    "from gensim.models import Word2Vec \n",
    "from gensim.models import KeyedVectors\n",
    "\n",
    "# CNN model and keras preprocessing\n",
    "import keras\n",
    "from keras.callbacks import ModelCheckpoint\n",
    "from keras.layers import Dense, Dropout, Reshape, Flatten, concatenate, Input, Conv1D, GlobalMaxPooling1D, Embedding, Conv2D, GlobalMaxPooling2D\n",
    "from keras.models import Sequential\n",
    "from keras.models import Model\n",
    "from keras.preprocessing.text import Tokenizer\n",
    "from keras.preprocessing.sequence import pad_sequences\n",
    "\n",
    "# nltk data preprocessing\n",
    "import nltk\n",
    "from nltk import word_tokenize\n",
    "from nltk.tokenize import sent_tokenize \n",
    "from nltk.stem import WordNetLemmatizer\n",
    "\n",
    "# stopword - remove buzz word\n",
    "from nltk.corpus import stopwords\n",
    "\n",
    "# splitting data\n",
    "from sklearn.model_selection import train_test_split\n",
    "\n",
    "# punctuation - data imbalance\n",
    "import collections\n",
    "import re\n",
    "import string\n",
    "\n",
    "# File path\n",
    "import os\n",
    "import os.path\n",
    "from os import path\n",
    "\n",
    "# Translator\n",
    "import googletrans\n",
    "from googletrans import Translator"
   ]
  },
  {
   "cell_type": "code",
   "execution_count": 2,
   "metadata": {},
   "outputs": [],
   "source": [
    "# original english file\n",
    "filename  = '../../Eng-Hin-data/english-anot-shuffled'\n",
    "df = pd.read_csv(filename + '.csv',  \n",
    "               delimiter=',')\n",
    "df.columns = ['Text', 'Label']"
   ]
  },
  {
   "cell_type": "code",
   "execution_count": 3,
   "metadata": {},
   "outputs": [],
   "source": [
    "# Run only for English data \n",
    "df[\"Text\"] = df[\"Text\"].astype(str)\n",
    "df[\"Label\"] = df[\"Label\"].astype(str)\n",
    "data = df"
   ]
  },
  {
   "cell_type": "code",
   "execution_count": 4,
   "metadata": {},
   "outputs": [
    {
     "data": {
      "text/plain": [
       "<bound method NDFrame.head of                                                    Text Label\n",
       "0     '@Cricket_Mann And they will see more of it no...     0\n",
       "1     \"Juma'at Kareem to all my Muslim brother aroun...     1\n",
       "2     'Thorpe becomes England head coach for Pakista...     0\n",
       "3     '@ParZevil Plymouth Cricket. THREE transmissions.     0\n",
       "4     'jungkook didnâ€™t get caught eating food duri...     1\n",
       "...                                                 ...   ...\n",
       "8433  '@xmufcalisha Looking like a cricket scoreline...     0\n",
       "8434  'QAnon is a terrorist organisation. Trump is n...     2\n",
       "8435  'No franchise cricket tournament has a better ...     0\n",
       "8436  'we are not against every muslim but for that ...     2\n",
       "8437  'Happy First Muharram ðŸ¥³ðŸŽŠðŸŽ‰  May Allah ...     1\n",
       "\n",
       "[8438 rows x 2 columns]>"
      ]
     },
     "execution_count": 4,
     "metadata": {},
     "output_type": "execute_result"
    }
   ],
   "source": [
    "df.head"
   ]
  },
  {
   "cell_type": "code",
   "execution_count": 5,
   "metadata": {},
   "outputs": [
    {
     "data": {
      "text/plain": [
       "\"'@SakibulHoque8 @ImranKhanPTI Terrorist is a Muslim.ðŸ˜€\""
      ]
     },
     "execution_count": 5,
     "metadata": {},
     "output_type": "execute_result"
    }
   ],
   "source": [
    "df.Text[6]"
   ]
  },
  {
   "cell_type": "markdown",
   "metadata": {},
   "source": [
    "### Class count"
   ]
  },
  {
   "cell_type": "code",
   "execution_count": 6,
   "metadata": {},
   "outputs": [
    {
     "data": {
      "image/png": "[encoded data removed]",
      "text/plain": [
       "<Figure size 432x288 with 1 Axes>"
      ]
     },
     "metadata": {
      "needs_background": "light"
     },
     "output_type": "display_data"
    }
   ],
   "source": [
    "import matplotlib.pyplot as plt\n",
    "fig = plt.figure(figsize=(6,4))\n",
    "df.groupby('Label').Text.count().plot.bar(ylim=0)\n",
    "plt.show()"
   ]
  },
  {
   "cell_type": "code",
   "execution_count": 7,
   "metadata": {},
   "outputs": [
    {
     "data": {
      "text/plain": [
       "0    3555\n",
       "2    2485\n",
       "1    2398\n",
       "Name: Label, dtype: int64"
      ]
     },
     "execution_count": 7,
     "metadata": {},
     "output_type": "execute_result"
    }
   ],
   "source": [
    "# For entire dataset sentences for each labels \n",
    "df.Label.value_counts()"
   ]
  },
  {
   "cell_type": "code",
   "execution_count": 8,
   "metadata": {},
   "outputs": [],
   "source": [
    "#balancing data \n",
    "from collections import Counter\n",
    "import numpy as np\n",
    "def balanceClasses(xs, ys):\n",
    "    item = {}\n",
    "    new_ys = []\n",
    "    new_xs = []\n",
    "    #\"\"\"Undersample xs, ys to balance classes.\"\"\"\n",
    "    freqs = Counter(ys)\n",
    "    # the most common class  is the maximum number we want for all classes\n",
    "    max_allowable = (freqs.most_common()[0][1])\n",
    "    \n",
    "    for val in freqs.most_common(): # List\n",
    "        nums = np.random.randint(1000)\n",
    "        i = 1\n",
    "        item[val[0]] = max_allowable - val[1]\n",
    "        \n",
    "        if item[val[0]] > 0:            \n",
    "            while(item[val[0]] - i != 0): \n",
    "                nums = nums + 1\n",
    "                if ys[nums] == val[0]:\n",
    "                    i += 1\n",
    "                    new_ys.append(ys[nums])\n",
    "                    new_xs.append(xs[nums])\n",
    "    return new_xs, new_ys"
   ]
  },
  {
   "cell_type": "code",
   "execution_count": 9,
   "metadata": {},
   "outputs": [],
   "source": [
    "new_text, new_label = balanceClasses(df['Text'], df['Label'])"
   ]
  },
  {
   "cell_type": "code",
   "execution_count": 10,
   "metadata": {},
   "outputs": [],
   "source": [
    "data = pd.DataFrame(new_text)\n",
    "data.columns = ['Text']\n",
    "data['Label'] = new_label\n",
    "data = pd.concat([df, data])"
   ]
  },
  {
   "cell_type": "code",
   "execution_count": 11,
   "metadata": {},
   "outputs": [
    {
     "data": {
      "image/png": "[encoded data removed]",
      "text/plain": [
       "<Figure size 432x288 with 1 Axes>"
      ]
     },
     "metadata": {
      "needs_background": "light"
     },
     "output_type": "display_data"
    }
   ],
   "source": [
    "fig1 = plt.figure(figsize=(6,4))\n",
    "data.groupby('Label').Text.count().plot.bar(ylim=0)\n",
    "plt.show()"
   ]
  },
  {
   "cell_type": "code",
   "execution_count": 12,
   "metadata": {},
   "outputs": [
    {
     "data": {
      "text/plain": [
       "0    3555\n",
       "1    3554\n",
       "2    3554\n",
       "Name: Label, dtype: int64"
      ]
     },
     "execution_count": 12,
     "metadata": {},
     "output_type": "execute_result"
    }
   ],
   "source": [
    "data.Label.value_counts()"
   ]
  },
  {
   "cell_type": "code",
   "execution_count": 13,
   "metadata": {},
   "outputs": [
    {
     "data": {
      "text/html": [
       "<div>\n",
       "<style scoped>\n",
       "    .dataframe tbody tr th:only-of-type {\n",
       "        vertical-align: middle;\n",
       "    }\n",
       "\n",
       "    .dataframe tbody tr th {\n",
       "        vertical-align: top;\n",
       "    }\n",
       "\n",
       "    .dataframe thead th {\n",
       "        text-align: right;\n",
       "    }\n",
       "</style>\n",
       "<table border=\"1\" class=\"dataframe\">\n",
       "  <thead>\n",
       "    <tr style=\"text-align: right;\">\n",
       "      <th></th>\n",
       "      <th>Text</th>\n",
       "      <th>Label</th>\n",
       "    </tr>\n",
       "  </thead>\n",
       "  <tbody>\n",
       "    <tr>\n",
       "      <th>0</th>\n",
       "      <td>'\"Happy Islamic New Year 1 MUHARRAM 1442 H\"</td>\n",
       "      <td>1</td>\n",
       "    </tr>\n",
       "    <tr>\n",
       "      <th>1</th>\n",
       "      <td>\"@CNN The man isn't  being labeled a terrorist...</td>\n",
       "      <td>2</td>\n",
       "    </tr>\n",
       "    <tr>\n",
       "      <th>2</th>\n",
       "      <td>'@MohamedBinZayed Shame on you Arabs ... For m...</td>\n",
       "      <td>1</td>\n",
       "    </tr>\n",
       "    <tr>\n",
       "      <th>3</th>\n",
       "      <td>'Happy Islamic new year! 1 Muharram 1442</td>\n",
       "      <td>1</td>\n",
       "    </tr>\n",
       "    <tr>\n",
       "      <th>4</th>\n",
       "      <td>BJP won 81 seats more than 50 seats of 2012. T...</td>\n",
       "      <td>0</td>\n",
       "    </tr>\n",
       "    <tr>\n",
       "      <th>...</th>\n",
       "      <td>...</td>\n",
       "      <td>...</td>\n",
       "    </tr>\n",
       "    <tr>\n",
       "      <th>10658</th>\n",
       "      <td>'yes i hate muslims yes i am one yes i am isla...</td>\n",
       "      <td>2</td>\n",
       "    </tr>\n",
       "    <tr>\n",
       "      <th>10659</th>\n",
       "      <td>'Happy New Year Muharram  1st 1442 H</td>\n",
       "      <td>1</td>\n",
       "    </tr>\n",
       "    <tr>\n",
       "      <th>10660</th>\n",
       "      <td>'ðŸš´......Happy New Hijri Year Muharram  1  1...</td>\n",
       "      <td>1</td>\n",
       "    </tr>\n",
       "    <tr>\n",
       "      <th>10661</th>\n",
       "      <td>'@RahulEaswar It is real definition of islamic...</td>\n",
       "      <td>2</td>\n",
       "    </tr>\n",
       "    <tr>\n",
       "      <th>10662</th>\n",
       "      <td>Muslims, if they cannot assimilate, they shoul...</td>\n",
       "      <td>2</td>\n",
       "    </tr>\n",
       "  </tbody>\n",
       "</table>\n",
       "<p>10663 rows × 2 columns</p>\n",
       "</div>"
      ],
      "text/plain": [
       "                                                    Text Label\n",
       "0            '\"Happy Islamic New Year 1 MUHARRAM 1442 H\"     1\n",
       "1      \"@CNN The man isn't  being labeled a terrorist...     2\n",
       "2      '@MohamedBinZayed Shame on you Arabs ... For m...     1\n",
       "3               'Happy Islamic new year! 1 Muharram 1442     1\n",
       "4      BJP won 81 seats more than 50 seats of 2012. T...     0\n",
       "...                                                  ...   ...\n",
       "10658  'yes i hate muslims yes i am one yes i am isla...     2\n",
       "10659               'Happy New Year Muharram  1st 1442 H     1\n",
       "10660  'ðŸš´......Happy New Hijri Year Muharram  1  1...     1\n",
       "10661  '@RahulEaswar It is real definition of islamic...     2\n",
       "10662  Muslims, if they cannot assimilate, they shoul...     2\n",
       "\n",
       "[10663 rows x 2 columns]"
      ]
     },
     "execution_count": 13,
     "metadata": {},
     "output_type": "execute_result"
    }
   ],
   "source": [
    "data=data.sample(frac=1).reset_index(drop=True)\n",
    "data"
   ]
  },
  {
   "cell_type": "markdown",
   "metadata": {},
   "source": [
    "### Data Preprocessing"
   ]
  },
  {
   "cell_type": "code",
   "execution_count": 14,
   "metadata": {},
   "outputs": [],
   "source": [
    "# People usually join sentences using more than one colon \n",
    "\n",
    "def ReplaceDoubleColon(inputString):\n",
    "    return inputString.replace(\"..\", \" \") \n",
    "\n",
    "data['Text'] = data['Text'].apply(lambda x: ReplaceDoubleColon(x))\n",
    "\n",
    "def ReplaceTripleColon(inputString):\n",
    "    return inputString.replace(\"...\", \" \") \n",
    "\n",
    "data['Text'] = data['Text'].apply(lambda x: ReplaceTripleColon(x))\n",
    "\n",
    "def ReplaceFourColon(inputString):\n",
    "    return inputString.replace(\"....\", \" \") \n",
    "\n",
    "data['Text'] = data['Text'].apply(lambda x: ReplaceFourColon(x))"
   ]
  },
  {
   "cell_type": "code",
   "execution_count": 15,
   "metadata": {},
   "outputs": [],
   "source": [
    "def textPattern(text):\n",
    "\n",
    "    # Clean the text\n",
    "    text = re.sub(r\"[^A-Za-z0-9^,!.\\/'+-=]\", \" \", text)\n",
    "    text = re.sub(r\" \\n \", \" \", text)\n",
    "    text = re.sub(r\"what's\", \"what is\", text)\n",
    "    text = re.sub(r\"\\'s\", \" \", text)\n",
    "    text = re.sub(r\"\\'ve\", \"have\", text)\n",
    "    text = re.sub(r\"can't\", \"can not\", text)\n",
    "    text = re.sub(r\"aren't\", \"are not\", text)\n",
    "    text = re.sub(r\"couldn't\", \"could not\", text)\n",
    "    text = re.sub(r\"didn't\", \"did not\", text)\n",
    "    text = re.sub(r\"doesn't\", \"does not\", text)\n",
    "    text = re.sub(r\"don't\", \"do not\", text)\n",
    "    text = re.sub(r\"hadn't\", \"had not\", text)\n",
    "    text = re.sub(r\"hasn't\", \"has not\", text)\n",
    "    text = re.sub(r\"haven't\", \"have not\", text)\n",
    "    text = re.sub(r\"isn't\", \"is not\", text)\n",
    "    text = re.sub(r\"shouldn't\", \"should not\", text)\n",
    "    text = re.sub(r\"wasn't\", \"was not\", text)\n",
    "    text = re.sub(r\"weren't\", \"were not\", text)\n",
    "    text = re.sub(r\"won't\", \"will not\", text)\n",
    "    text = re.sub(r\"wouldn't\", \"would not\", text)\n",
    "    text = re.sub(r\"mustn't\", \"must not\", text)\n",
    "    text = re.sub(r\"i'm\", \"i am\", text)\n",
    "    text = re.sub(r\"\\'re\", \"are\", text)\n",
    "    text = re.sub(r\",\", \" \", text)\n",
    "    text = re.sub(r\"\\.\", \" \", text)\n",
    "    text = re.sub(r\"!\", \" \", text)\n",
    "    text = re.sub(r\"\\/\", \" \", text)\n",
    "    text = re.sub(r\"\\^\", \" ^ \", text)\n",
    "    text = re.sub(r\"\\+\", \" \", text)\n",
    "    text = re.sub(r\"\\-\", \" - \", text)\n",
    "    text = re.sub(r\"\\= =\", \" \", text)\n",
    "    text = re.sub(r\"\\==\", \" \", text)\n",
    "    text = re.sub(r\"'\", \" \", text)\n",
    "    text = re.sub(r\"(\\d+)(k)\", r\"\\g<1>000\", text)\n",
    "    text = re.sub(r\":\", \" : \", text)\n",
    "    text = re.sub(r\"\\0s\", \"0\", text)\n",
    "    text = re.sub(r\" 9 11 \", \"911\", text)\n",
    "    text = re.sub(r\"\\s{2,}\", \" \", text)\n",
    "    return text\n",
    "\n",
    "data['Text'] = data['Text'].apply(lambda x: textPattern(x))"
   ]
  },
  {
   "cell_type": "code",
   "execution_count": 16,
   "metadata": {},
   "outputs": [
    {
     "data": {
      "text/plain": [
       "(10663, 2)"
      ]
     },
     "execution_count": 16,
     "metadata": {},
     "output_type": "execute_result"
    }
   ],
   "source": [
    "data.shape"
   ]
  },
  {
   "cell_type": "code",
   "execution_count": 17,
   "metadata": {},
   "outputs": [],
   "source": [
    "# Word Tokenization\n",
    "tokens = [word_tokenize(sen) for sen in data.Text]"
   ]
  },
  {
   "cell_type": "code",
   "execution_count": 18,
   "metadata": {},
   "outputs": [],
   "source": [
    "# Lower Case\n",
    "def lower_token(tokens): \n",
    "    return [w.lower() for w in tokens]    \n",
    "    \n",
    "lower_tokens = [lower_token(token) for token in tokens]"
   ]
  },
  {
   "cell_type": "code",
   "execution_count": 19,
   "metadata": {},
   "outputs": [],
   "source": [
    "# Remove Link\n",
    "\n",
    "def removeLink(token):\n",
    "    word = []\n",
    "    for w in token:\n",
    "        if not w.startswith('http'):\n",
    "            word.append(w)\n",
    "    return word \n",
    "    \n",
    "removedLink_tokens = [removeLink(token) for token in lower_tokens]"
   ]
  },
  {
   "cell_type": "code",
   "execution_count": 20,
   "metadata": {},
   "outputs": [],
   "source": [
    "# Word Lemmatization\n",
    "def lemmatization(token):\n",
    "    return [lemmatizer.lemmatize(w) for w in token] \n",
    "\n",
    "lemmatizer = WordNetLemmatizer()\n",
    "\n",
    "lemmatized_tokens = [lemmatization(token) for token in removedLink_tokens]"
   ]
  },
  {
   "cell_type": "code",
   "execution_count": 21,
   "metadata": {},
   "outputs": [],
   "source": [
    "# Removing Stopwords\n",
    "stoplist = stopwords.words('english')"
   ]
  },
  {
   "cell_type": "code",
   "execution_count": 22,
   "metadata": {},
   "outputs": [],
   "source": [
    "def removeStopWords(tokens): \n",
    "    return [word for word in tokens if word not in stoplist]\n",
    "\n",
    "filtered_words = [removeStopWords(sen) for sen in lemmatized_tokens]\n",
    "data['Text_Final'] = [' '.join(sen) for sen in filtered_words]\n",
    "data['tokens'] = filtered_words"
   ]
  },
  {
   "cell_type": "code",
   "execution_count": 23,
   "metadata": {},
   "outputs": [],
   "source": [
    "zero  = []\n",
    "one = []\n",
    "two = []\n",
    "for l in data.Label:\n",
    "    \n",
    "    if l == '0':\n",
    "        zero.append(1)\n",
    "        one.append(0)\n",
    "        two.append(0)\n",
    "    elif l == '1':\n",
    "        zero.append(0)\n",
    "        one.append(1)\n",
    "        two.append(0)\n",
    "    elif l == '2':\n",
    "        zero.append(0)\n",
    "        one.append(0)\n",
    "        two.append(1)\n",
    "        \n",
    "data['0']= zero\n",
    "data['1']= one\n",
    "data['2']= two\n",
    "\n",
    "data = data[['Text_Final', 'tokens', 'Label', '0', '1', '2']]"
   ]
  },
  {
   "cell_type": "code",
   "execution_count": 24,
   "metadata": {},
   "outputs": [
    {
     "data": {
      "text/html": [
       "<div>\n",
       "<style scoped>\n",
       "    .dataframe tbody tr th:only-of-type {\n",
       "        vertical-align: middle;\n",
       "    }\n",
       "\n",
       "    .dataframe tbody tr th {\n",
       "        vertical-align: top;\n",
       "    }\n",
       "\n",
       "    .dataframe thead th {\n",
       "        text-align: right;\n",
       "    }\n",
       "</style>\n",
       "<table border=\"1\" class=\"dataframe\">\n",
       "  <thead>\n",
       "    <tr style=\"text-align: right;\">\n",
       "      <th></th>\n",
       "      <th>Text_Final</th>\n",
       "      <th>tokens</th>\n",
       "      <th>Label</th>\n",
       "      <th>0</th>\n",
       "      <th>1</th>\n",
       "      <th>2</th>\n",
       "      <th>Category_id</th>\n",
       "    </tr>\n",
       "  </thead>\n",
       "  <tbody>\n",
       "    <tr>\n",
       "      <th>0</th>\n",
       "      <td>happy islamic new year 1 muharram 1442 h</td>\n",
       "      <td>[happy, islamic, new, year, 1, muharram, 1442, h]</td>\n",
       "      <td>1</td>\n",
       "      <td>0</td>\n",
       "      <td>1</td>\n",
       "      <td>0</td>\n",
       "      <td>1</td>\n",
       "    </tr>\n",
       "    <tr>\n",
       "      <th>1</th>\n",
       "      <td>cnn man labeled terrorist muslim right</td>\n",
       "      <td>[cnn, man, labeled, terrorist, muslim, right]</td>\n",
       "      <td>2</td>\n",
       "      <td>0</td>\n",
       "      <td>0</td>\n",
       "      <td>1</td>\n",
       "      <td>2</td>\n",
       "    </tr>\n",
       "    <tr>\n",
       "      <th>2</th>\n",
       "      <td>mohamedbinzayed shame arab money forget muslim...</td>\n",
       "      <td>[mohamedbinzayed, shame, arab, money, forget, ...</td>\n",
       "      <td>1</td>\n",
       "      <td>0</td>\n",
       "      <td>1</td>\n",
       "      <td>0</td>\n",
       "      <td>1</td>\n",
       "    </tr>\n",
       "    <tr>\n",
       "      <th>3</th>\n",
       "      <td>happy islamic new year 1 muharram 1442</td>\n",
       "      <td>[happy, islamic, new, year, 1, muharram, 1442]</td>\n",
       "      <td>1</td>\n",
       "      <td>0</td>\n",
       "      <td>1</td>\n",
       "      <td>0</td>\n",
       "      <td>1</td>\n",
       "    </tr>\n",
       "    <tr>\n",
       "      <th>4</th>\n",
       "      <td>bjp 81 seat 50 seat 2012 win 84 seat win siva ...</td>\n",
       "      <td>[bjp, 81, seat, 50, seat, 2012, win, 84, seat,...</td>\n",
       "      <td>0</td>\n",
       "      <td>1</td>\n",
       "      <td>0</td>\n",
       "      <td>0</td>\n",
       "      <td>0</td>\n",
       "    </tr>\n",
       "    <tr>\n",
       "      <th>5</th>\n",
       "      <td>training session sri lanka hold sway squad sel...</td>\n",
       "      <td>[training, session, sri, lanka, hold, sway, sq...</td>\n",
       "      <td>0</td>\n",
       "      <td>1</td>\n",
       "      <td>0</td>\n",
       "      <td>0</td>\n",
       "      <td>0</td>\n",
       "    </tr>\n",
       "    <tr>\n",
       "      <th>6</th>\n",
       "      <td>scaramuciobongo khalabubakar bashirahmaad guy ...</td>\n",
       "      <td>[scaramuciobongo, khalabubakar, bashirahmaad, ...</td>\n",
       "      <td>2</td>\n",
       "      <td>0</td>\n",
       "      <td>0</td>\n",
       "      <td>1</td>\n",
       "      <td>2</td>\n",
       "    </tr>\n",
       "    <tr>\n",
       "      <th>7</th>\n",
       "      <td>salmannizami india becoming radical islamic co...</td>\n",
       "      <td>[salmannizami, india, becoming, radical, islam...</td>\n",
       "      <td>2</td>\n",
       "      <td>0</td>\n",
       "      <td>0</td>\n",
       "      <td>1</td>\n",
       "      <td>2</td>\n",
       "    </tr>\n",
       "    <tr>\n",
       "      <th>8</th>\n",
       "      <td>happy muharram 1442ah</td>\n",
       "      <td>[happy, muharram, 1442ah]</td>\n",
       "      <td>1</td>\n",
       "      <td>0</td>\n",
       "      <td>1</td>\n",
       "      <td>0</td>\n",
       "      <td>1</td>\n",
       "    </tr>\n",
       "  </tbody>\n",
       "</table>\n",
       "</div>"
      ],
      "text/plain": [
       "                                          Text_Final  \\\n",
       "0           happy islamic new year 1 muharram 1442 h   \n",
       "1             cnn man labeled terrorist muslim right   \n",
       "2  mohamedbinzayed shame arab money forget muslim...   \n",
       "3             happy islamic new year 1 muharram 1442   \n",
       "4  bjp 81 seat 50 seat 2012 win 84 seat win siva ...   \n",
       "5  training session sri lanka hold sway squad sel...   \n",
       "6  scaramuciobongo khalabubakar bashirahmaad guy ...   \n",
       "7  salmannizami india becoming radical islamic co...   \n",
       "8                              happy muharram 1442ah   \n",
       "\n",
       "                                              tokens Label  0  1  2  \\\n",
       "0  [happy, islamic, new, year, 1, muharram, 1442, h]     1  0  1  0   \n",
       "1      [cnn, man, labeled, terrorist, muslim, right]     2  0  0  1   \n",
       "2  [mohamedbinzayed, shame, arab, money, forget, ...     1  0  1  0   \n",
       "3     [happy, islamic, new, year, 1, muharram, 1442]     1  0  1  0   \n",
       "4  [bjp, 81, seat, 50, seat, 2012, win, 84, seat,...     0  1  0  0   \n",
       "5  [training, session, sri, lanka, hold, sway, sq...     0  1  0  0   \n",
       "6  [scaramuciobongo, khalabubakar, bashirahmaad, ...     2  0  0  1   \n",
       "7  [salmannizami, india, becoming, radical, islam...     2  0  0  1   \n",
       "8                          [happy, muharram, 1442ah]     1  0  1  0   \n",
       "\n",
       "  Category_id  \n",
       "0           1  \n",
       "1           2  \n",
       "2           1  \n",
       "3           1  \n",
       "4           0  \n",
       "5           0  \n",
       "6           2  \n",
       "7           2  \n",
       "8           1  "
      ]
     },
     "execution_count": 24,
     "metadata": {},
     "output_type": "execute_result"
    }
   ],
   "source": [
    "category_id = []\n",
    "for l in data.Label:\n",
    "    \n",
    "    if l == '0':\n",
    "        category_id.append('0')\n",
    "    elif l == '1':\n",
    "        category_id.append('1')\n",
    "    elif l == '2':\n",
    "        category_id.append('2')\n",
    "        \n",
    "data['Category_id'] = category_id\n",
    "\n",
    "data = data[['Text_Final', 'tokens', 'Label', '0', '1', '2', 'Category_id' ]]\n",
    "data.head(9)"
   ]
  },
  {
   "cell_type": "code",
   "execution_count": 25,
   "metadata": {},
   "outputs": [],
   "source": [
    "data = data[data.tokens != '']"
   ]
  },
  {
   "cell_type": "code",
   "execution_count": 26,
   "metadata": {},
   "outputs": [],
   "source": [
    "from io import StringIO\n",
    "category_id_df = data[['Label', 'Category_id']].drop_duplicates().sort_values('Category_id')\n",
    "category_to_label_dict = dict(category_id_df.values)\n",
    "label_to_category_dict = dict(category_id_df[['Category_id', 'Label']].values)"
   ]
  },
  {
   "cell_type": "markdown",
   "metadata": {},
   "source": [
    "#### Split Data into test and train\n",
    "We will use 90 % data for training and 10 % for testing. We use random state so every time we get the same training and testing data."
   ]
  },
  {
   "cell_type": "code",
   "execution_count": 27,
   "metadata": {},
   "outputs": [
    {
     "data": {
      "text/plain": [
       "(10663, 7)"
      ]
     },
     "execution_count": 27,
     "metadata": {},
     "output_type": "execute_result"
    }
   ],
   "source": [
    "data.shape"
   ]
  },
  {
   "cell_type": "code",
   "execution_count": 28,
   "metadata": {},
   "outputs": [],
   "source": [
    "data_train, data_test = train_test_split(data, test_size=0.10, shuffle = True)\n"
   ]
  },
  {
   "cell_type": "code",
   "execution_count": 29,
   "metadata": {},
   "outputs": [],
   "source": [
    "# # total training words\n",
    "totalTrainingWords = [word for tokens in data_train[\"tokens\"] for word in tokens]\n",
    "\n",
    "# # Storing Length of the training sentence\n",
    "lengthTrainingSentences = [len(tokens) for tokens in data_train[\"tokens\"]]\n",
    "\n",
    "# # training Vocabulary size\n",
    "trainingVocabSize = sorted(list(set(totalTrainingWords)))\n",
    "\n",
    "## Total number of lines\n",
    "linesCount = len(data_train[\"tokens\"])"
   ]
  },
  {
   "cell_type": "markdown",
   "metadata": {},
   "source": [
    "### Load Google Word2vec model"
   ]
  },
  {
   "cell_type": "code",
   "execution_count": 30,
   "metadata": {},
   "outputs": [],
   "source": [
    "word2vec_path = 'GoogleNews-vectors-negative300.bin'"
   ]
  },
  {
   "cell_type": "code",
   "execution_count": 31,
   "metadata": {},
   "outputs": [],
   "source": [
    "from gensim import models\n",
    "word2vec = models.KeyedVectors.load_word2vec_format(word2vec_path, binary=True)\n"
   ]
  },
  {
   "cell_type": "code",
   "execution_count": 32,
   "metadata": {},
   "outputs": [
    {
     "data": {
      "text/plain": [
       "<gensim.models.keyedvectors.KeyedVectors at 0x7faaf434d490>"
      ]
     },
     "execution_count": 32,
     "metadata": {},
     "output_type": "execute_result"
    }
   ],
   "source": [
    "word2vec"
   ]
  },
  {
   "cell_type": "code",
   "execution_count": 33,
   "metadata": {},
   "outputs": [],
   "source": [
    "MAX_SEQUENCE_LENGTH = 150\n",
    "EMBEDDING_DIM = 300"
   ]
  },
  {
   "cell_type": "markdown",
   "metadata": {},
   "source": [
    "\n",
    "### Tokenize and Pad sequences"
   ]
  },
  {
   "cell_type": "code",
   "execution_count": 34,
   "metadata": {},
   "outputs": [
    {
     "name": "stdout",
     "output_type": "stream",
     "text": [
      "Found 15482 unique tokens.\n"
     ]
    }
   ],
   "source": [
    "tokenizer = Tokenizer(num_words=len(trainingVocabSize), lower=True, char_level=False)\n",
    "tokenizer.fit_on_texts(data_train[\"Text_Final\"].tolist())\n",
    "training_sequences = tokenizer.texts_to_sequences(data_train[\"Text_Final\"].tolist())\n",
    "\n",
    "train_word_index = tokenizer.word_index\n",
    "print('Found %s unique tokens.' % len(train_word_index))"
   ]
  },
  {
   "cell_type": "code",
   "execution_count": 35,
   "metadata": {},
   "outputs": [],
   "source": [
    "cnnTrainData = pad_sequences(training_sequences, maxlen=MAX_SEQUENCE_LENGTH)"
   ]
  },
  {
   "cell_type": "code",
   "execution_count": 36,
   "metadata": {},
   "outputs": [
    {
     "name": "stdout",
     "output_type": "stream",
     "text": [
      "(15483, 300)\n"
     ]
    }
   ],
   "source": [
    "train_embedding_weights = np.zeros((len(train_word_index)+1, EMBEDDING_DIM))\n",
    "for word,index in train_word_index.items():\n",
    "    train_embedding_weights[index,:] = word2vec[word] if word in word2vec else np.random.rand(EMBEDDING_DIM)\n",
    "print(train_embedding_weights.shape)"
   ]
  },
  {
   "cell_type": "code",
   "execution_count": 37,
   "metadata": {},
   "outputs": [],
   "source": [
    "test_sequences = tokenizer.texts_to_sequences(data_test[\"Text_Final\"].tolist())\n",
    "cnnTestData = pad_sequences(test_sequences, maxlen= MAX_SEQUENCE_LENGTH)"
   ]
  },
  {
   "cell_type": "markdown",
   "metadata": {},
   "source": [
    "### Define CNN"
   ]
  },
  {
   "cell_type": "markdown",
   "metadata": {},
   "source": [
    "The model is from the paper 'Convolutional Neural Networks for Sentence Classification' we have updated the network according to our requirement [1]"
   ]
  },
  {
   "cell_type": "code",
   "execution_count": 38,
   "metadata": {},
   "outputs": [],
   "source": [
    "label_names = ['0', '1', '2']"
   ]
  },
  {
   "cell_type": "code",
   "execution_count": 39,
   "metadata": {},
   "outputs": [],
   "source": [
    "from tensorflow.keras import optimizers\n",
    "def ConvolutionalNeuralNet(embeddings, max_sequence_length, num_words, embedding_dim, labels_index):\n",
    "    \n",
    "    # Embedding layer\n",
    "    embedding_layer = Embedding(num_words,\n",
    "                            embedding_dim,\n",
    "                            weights=[embeddings],\n",
    "                            input_length=max_sequence_length,\n",
    "                            trainable=False)\n",
    "    \n",
    "    sequence_input = Input(shape=(max_sequence_length,), dtype='int32')\n",
    "    embedded_sequences = embedding_layer(sequence_input)\n",
    "\n",
    "    convs = []\n",
    "    \n",
    "    #Kernal (window) size\n",
    "    filter_sizes = [2,3,4,5]\n",
    "\n",
    "    # Convolution Layer and max-pooling\n",
    "    for filter_size in filter_sizes:\n",
    "        l_conv = Conv1D(filters=512, kernel_size=filter_size, activation='relu')(embedded_sequences)\n",
    "        l_pool = GlobalMaxPooling1D()(l_conv)\n",
    "        convs.append(l_pool)\n",
    "        \n",
    "    l_merge = concatenate(convs, axis=1)\n",
    "    \n",
    "    # softmax layer for multiclass identification \n",
    "    x = Dropout(0.1)(l_merge)  \n",
    "    x = Dense(512, activation='relu')(x)\n",
    "    x = Dropout(0.2)(x)\n",
    "    preds = Dense(labels_index, activation='softmax')(x)\n",
    "\n",
    "    model = Model(sequence_input, preds)\n",
    "    model.compile(loss= 'categorical_crossentropy',\n",
    "                 optimizer = optimizers.RMSprop(learning_rate=1e-3),\n",
    "#                    optimizer='adam',\n",
    "                  metrics=['accuracy'])\n",
    "    return model"
   ]
  },
  {
   "cell_type": "code",
   "execution_count": 40,
   "metadata": {},
   "outputs": [],
   "source": [
    "# Splitting train data into X_train and y_train\n",
    "y_train = data_train[label_names].values\n",
    "x_train = cnnTrainData\n",
    "y_tr = y_train"
   ]
  },
  {
   "cell_type": "code",
   "execution_count": 41,
   "metadata": {},
   "outputs": [],
   "source": [
    "# Splitting train data into X_test and y_test\n",
    "y_test = data_test[label_names].values\n",
    "x_test = cnnTestData\n",
    "y_tst = y_test"
   ]
  },
  {
   "cell_type": "code",
   "execution_count": 42,
   "metadata": {},
   "outputs": [],
   "source": [
    "model = ConvolutionalNeuralNet(train_embedding_weights, MAX_SEQUENCE_LENGTH, len(train_word_index)+1, EMBEDDING_DIM, len(list(label_names)))"
   ]
  },
  {
   "cell_type": "code",
   "execution_count": 43,
   "metadata": {},
   "outputs": [
    {
     "name": "stdout",
     "output_type": "stream",
     "text": [
      "Model: \"model\"\n",
      "__________________________________________________________________________________________________\n",
      " Layer (type)                   Output Shape         Param #     Connected to                     \n",
      "==================================================================================================\n",
      " input_1 (InputLayer)           [(None, 150)]        0           []                               \n",
      "                                                                                                  \n",
      " embedding (Embedding)          (None, 150, 300)     4644900     ['input_1[0][0]']                \n",
      "                                                                                                  \n",
      " conv1d (Conv1D)                (None, 149, 512)     307712      ['embedding[0][0]']              \n",
      "                                                                                                  \n",
      " conv1d_1 (Conv1D)              (None, 148, 512)     461312      ['embedding[0][0]']              \n",
      "                                                                                                  \n",
      " conv1d_2 (Conv1D)              (None, 147, 512)     614912      ['embedding[0][0]']              \n",
      "                                                                                                  \n",
      " conv1d_3 (Conv1D)              (None, 146, 512)     768512      ['embedding[0][0]']              \n",
      "                                                                                                  \n",
      " global_max_pooling1d (GlobalMa  (None, 512)         0           ['conv1d[0][0]']                 \n",
      " xPooling1D)                                                                                      \n",
      "                                                                                                  \n",
      " global_max_pooling1d_1 (Global  (None, 512)         0           ['conv1d_1[0][0]']               \n",
      " MaxPooling1D)                                                                                    \n",
      "                                                                                                  \n",
      " global_max_pooling1d_2 (Global  (None, 512)         0           ['conv1d_2[0][0]']               \n",
      " MaxPooling1D)                                                                                    \n",
      "                                                                                                  \n",
      " global_max_pooling1d_3 (Global  (None, 512)         0           ['conv1d_3[0][0]']               \n",
      " MaxPooling1D)                                                                                    \n",
      "                                                                                                  \n",
      " concatenate (Concatenate)      (None, 2048)         0           ['global_max_pooling1d[0][0]',   \n",
      "                                                                  'global_max_pooling1d_1[0][0]', \n",
      "                                                                  'global_max_pooling1d_2[0][0]', \n",
      "                                                                  'global_max_pooling1d_3[0][0]'] \n",
      "                                                                                                  \n",
      " dropout (Dropout)              (None, 2048)         0           ['concatenate[0][0]']            \n",
      "                                                                                                  \n",
      " dense (Dense)                  (None, 512)          1049088     ['dropout[0][0]']                \n",
      "                                                                                                  \n",
      " dropout_1 (Dropout)            (None, 512)          0           ['dense[0][0]']                  \n",
      "                                                                                                  \n",
      " dense_1 (Dense)                (None, 3)            1539        ['dropout_1[0][0]']              \n",
      "                                                                                                  \n",
      "==================================================================================================\n",
      "Total params: 7,847,975\n",
      "Trainable params: 3,203,075\n",
      "Non-trainable params: 4,644,900\n",
      "__________________________________________________________________________________________________\n"
     ]
    }
   ],
   "source": [
    "model.summary()"
   ]
  },
  {
   "cell_type": "markdown",
   "metadata": {},
   "source": [
    "### Train CNN"
   ]
  },
  {
   "cell_type": "code",
   "execution_count": 44,
   "metadata": {},
   "outputs": [],
   "source": [
    "num_epochs = 10\n",
    "batch_size = 32"
   ]
  },
  {
   "cell_type": "code",
   "execution_count": 45,
   "metadata": {},
   "outputs": [
    {
     "name": "stdout",
     "output_type": "stream",
     "text": [
      "Epoch 1/10\n",
      "270/270 [==============================] - 169s 620ms/step - loss: 0.4309 - accuracy: 0.8886 - val_loss: 0.1314 - val_accuracy: 0.9531\n",
      "Epoch 2/10\n",
      "270/270 [==============================] - 151s 558ms/step - loss: 0.1390 - accuracy: 0.9601 - val_loss: 0.1459 - val_accuracy: 0.9635\n",
      "Epoch 3/10\n",
      "270/270 [==============================] - 138s 513ms/step - loss: 0.0883 - accuracy: 0.9764 - val_loss: 0.2072 - val_accuracy: 0.9490\n",
      "Epoch 4/10\n",
      "270/270 [==============================] - 190s 703ms/step - loss: 0.0760 - accuracy: 0.9817 - val_loss: 0.2654 - val_accuracy: 0.9531\n",
      "Epoch 5/10\n",
      "270/270 [==============================] - 128s 473ms/step - loss: 0.0537 - accuracy: 0.9871 - val_loss: 0.2053 - val_accuracy: 0.9688\n",
      "Epoch 6/10\n",
      "270/270 [==============================] - 126s 466ms/step - loss: 0.0419 - accuracy: 0.9900 - val_loss: 0.2983 - val_accuracy: 0.9677\n",
      "Epoch 7/10\n",
      "270/270 [==============================] - 137s 508ms/step - loss: 0.0399 - accuracy: 0.9925 - val_loss: 0.2917 - val_accuracy: 0.9750\n",
      "Epoch 8/10\n",
      "270/270 [==============================] - 129s 477ms/step - loss: 0.0456 - accuracy: 0.9922 - val_loss: 0.2910 - val_accuracy: 0.9719\n",
      "Epoch 9/10\n",
      "270/270 [==============================] - 186s 690ms/step - loss: 0.0302 - accuracy: 0.9956 - val_loss: 0.4917 - val_accuracy: 0.9677\n",
      "Epoch 10/10\n",
      "270/270 [==============================] - 217s 804ms/step - loss: 0.0500 - accuracy: 0.9929 - val_loss: 0.4199 - val_accuracy: 0.9698\n"
     ]
    }
   ],
   "source": [
    "history = model.fit(x_train, y_tr, epochs=num_epochs, validation_split=0.1, shuffle=True, batch_size=batch_size)"
   ]
  },
  {
   "cell_type": "code",
   "execution_count": 46,
   "metadata": {},
   "outputs": [
    {
     "name": "stdout",
     "output_type": "stream",
     "text": [
      "300/300 [==============================] - 107s 355ms/step - loss: 0.0562 - accuracy: 0.9948\n"
     ]
    }
   ],
   "source": [
    "# evaluate on train data\n",
    "results = model.evaluate(x_train, y_tr)"
   ]
  },
  {
   "cell_type": "code",
   "execution_count": 47,
   "metadata": {},
   "outputs": [
    {
     "name": "stdout",
     "output_type": "stream",
     "text": [
      "34/34 [==============================] - 11s 319ms/step - loss: 0.6274 - accuracy: 0.9681\n"
     ]
    }
   ],
   "source": [
    "# evaluate on test data\n",
    "results = model.evaluate(x_test, y_tst)"
   ]
  },
  {
   "cell_type": "code",
   "execution_count": 48,
   "metadata": {},
   "outputs": [
    {
     "name": "stdout",
     "output_type": "stream",
     "text": [
      "2/2 [==============================] - 11s 470ms/step\n"
     ]
    }
   ],
   "source": [
    "# predict model\n",
    "predictions = model.predict(cnnTestData, batch_size=1024, verbose=1)"
   ]
  },
  {
   "cell_type": "markdown",
   "metadata": {},
   "source": [
    "### Testing few sentences using our model"
   ]
  },
  {
   "cell_type": "code",
   "execution_count": 49,
   "metadata": {},
   "outputs": [],
   "source": [
    "\n",
    "labels = ['0', '1', '2']\n",
    "\n",
    "def makeprediction(texts):\n",
    "    tk = Tokenizer()\n",
    "    tk.fit_on_texts(texts)\n",
    "    index_list = tk.texts_to_sequences(texts)\n",
    "    x_train = pad_sequences(index_list, maxlen=150)\n",
    "    pred = model.predict(x_train)\n",
    "    result = labels[np.argmax(pred)]\n",
    "    return result"
   ]
  },
  {
   "cell_type": "code",
   "execution_count": 50,
   "metadata": {},
   "outputs": [],
   "source": [
    "prediction_labels=[]\n",
    "for p in predictions:\n",
    "    prediction_labels.append(labels[np.argmax(p)])"
   ]
  },
  {
   "cell_type": "code",
   "execution_count": 51,
   "metadata": {},
   "outputs": [
    {
     "data": {
      "text/plain": [
       "0.9681349578256795"
      ]
     },
     "execution_count": 51,
     "metadata": {},
     "output_type": "execute_result"
    }
   ],
   "source": [
    "sum(data_test.Label==prediction_labels)/len(prediction_labels)"
   ]
  },
  {
   "cell_type": "code",
   "execution_count": 52,
   "metadata": {},
   "outputs": [
    {
     "data": {
      "text/plain": [
       "2    372\n",
       "1    350\n",
       "0    345\n",
       "Name: Label, dtype: int64"
      ]
     },
     "execution_count": 52,
     "metadata": {},
     "output_type": "execute_result"
    }
   ],
   "source": [
    "data_test.Label.value_counts()"
   ]
  },
  {
   "cell_type": "code",
   "execution_count": 53,
   "metadata": {},
   "outputs": [
    {
     "data": {
      "image/png": "[encoded data removed]",
      "text/plain": [
       "<Figure size 432x288 with 2 Axes>"
      ]
     },
     "metadata": {
      "needs_background": "light"
     },
     "output_type": "display_data"
    }
   ],
   "source": [
    "plt.figure(1)\n",
    "# summarize history for accuracy\n",
    "plt.subplot(211)\n",
    "plt.plot(history.history['accuracy'])\n",
    "plt.plot(history.history['val_accuracy'])\n",
    "plt.title('model accuracy')\n",
    "plt.ylabel('accuracy')\n",
    "plt.xlabel('epoch')\n",
    "plt.legend(['train', 'val'], loc='upper left')\n",
    "# summarize history for loss\n",
    "plt.subplot(212)\n",
    "plt.plot(history.history['loss'])\n",
    "plt.plot(history.history['val_loss'])\n",
    "plt.title('model loss')\n",
    "plt.ylabel('loss')\n",
    "plt.xlabel('epoch')\n",
    "plt.legend(['train', 'val'], loc='upper left')\n",
    "plt.tight_layout()\n",
    "plt.show()"
   ]
  },
  {
   "cell_type": "code",
   "execution_count": 54,
   "metadata": {},
   "outputs": [
    {
     "name": "stdout",
     "output_type": "stream",
     "text": [
      "Confusion Matrix :\n",
      "[[331   3  11]\n",
      " [  1 342   7]\n",
      " [  5   7 360]]\n",
      "Accuracy Score : 0.9681349578256795\n",
      "Report : \n",
      "              precision    recall  f1-score   support\n",
      "\n",
      "           0       0.98      0.96      0.97       345\n",
      "           1       0.97      0.98      0.97       350\n",
      "           2       0.95      0.97      0.96       372\n",
      "\n",
      "    accuracy                           0.97      1067\n",
      "   macro avg       0.97      0.97      0.97      1067\n",
      "weighted avg       0.97      0.97      0.97      1067\n",
      "\n"
     ]
    }
   ],
   "source": [
    "results = confusion_matrix(data_test.Label, prediction_labels)\n",
    "print ('Confusion Matrix :')\n",
    "print(results) \n",
    "print ('Accuracy Score :',accuracy_score(data_test.Label, prediction_labels))\n",
    "print ('Report : ')\n",
    "print (classification_report(data_test.Label, prediction_labels))"
   ]
  },
  {
   "cell_type": "code",
   "execution_count": 55,
   "metadata": {},
   "outputs": [
    {
     "name": "stdout",
     "output_type": "stream",
     "text": [
      "                        Convolution Neural Network\n"
     ]
    },
    {
     "data": {
      "image/png": "[encoded data removed]",
      "text/plain": [
       "<Figure size 360x360 with 2 Axes>"
      ]
     },
     "metadata": {
      "needs_background": "light"
     },
     "output_type": "display_data"
    }
   ],
   "source": [
    "from sklearn.metrics import confusion_matrix\n",
    "print(\"                        Convolution Neural Network\")\n",
    "conf_mat = confusion_matrix(data_test.Label, prediction_labels)\n",
    "fig, ax = plt.subplots(figsize=(5,5))\n",
    "sns.heatmap(conf_mat, annot=True, fmt='d', cmap ='YlGnBu',\n",
    "            xticklabels=category_id_df.Label.values, yticklabels=category_id_df.Label.values)\n",
    "plt.ylabel('Actual')\n",
    "plt.xlabel('Predicted')\n",
    "plt.show()"
   ]
  },
  {
   "cell_type": "markdown",
   "metadata": {},
   "source": [
    "### Testing CNN using KFold cross validation"
   ]
  },
  {
   "cell_type": "code",
   "execution_count": 56,
   "metadata": {},
   "outputs": [
    {
     "name": "stdout",
     "output_type": "stream",
     "text": [
      "Fold:  1\n",
      "Epoch 1/5\n",
      "270/270 [==============================] - 275s 1s/step - loss: 0.4077 - accuracy: 0.8874 - val_loss: 0.1679 - val_accuracy: 0.9406\n",
      "Epoch 2/5\n",
      "270/270 [==============================] - 337s 1s/step - loss: 0.1278 - accuracy: 0.9594 - val_loss: 0.1591 - val_accuracy: 0.9615\n",
      "Epoch 3/5\n",
      "270/270 [==============================] - 315s 1s/step - loss: 0.0868 - accuracy: 0.9763 - val_loss: 0.1678 - val_accuracy: 0.9729\n",
      "Epoch 4/5\n",
      "270/270 [==============================] - 385s 1s/step - loss: 0.0609 - accuracy: 0.9841 - val_loss: 0.2805 - val_accuracy: 0.9667\n",
      "Epoch 5/5\n",
      "270/270 [==============================] - 221s 818ms/step - loss: 0.0602 - accuracy: 0.9854 - val_loss: 0.3259 - val_accuracy: 0.9646\n",
      "Evaluating on train data:\n",
      "75/75 [==============================] - 45s 600ms/step - loss: 0.0488 - accuracy: 0.9916\n",
      "Evaluating on test data:\n",
      "9/9 [==============================] - 5s 591ms/step - loss: 0.2170 - accuracy: 0.9653\n",
      "Fold:  2\n",
      "Epoch 1/5\n",
      "270/270 [==============================] - 135s 498ms/step - loss: 0.4142 - accuracy: 0.8928 - val_loss: 0.1356 - val_accuracy: 0.9510\n",
      "Epoch 2/5\n",
      "270/270 [==============================] - 154s 570ms/step - loss: 0.1390 - accuracy: 0.9592 - val_loss: 0.1552 - val_accuracy: 0.9542\n",
      "Epoch 3/5\n",
      "270/270 [==============================] - 202s 747ms/step - loss: 0.0823 - accuracy: 0.9743 - val_loss: 0.1567 - val_accuracy: 0.9500\n",
      "Epoch 4/5\n",
      "270/270 [==============================] - 197s 729ms/step - loss: 0.0622 - accuracy: 0.9844 - val_loss: 0.2030 - val_accuracy: 0.9708\n",
      "Epoch 5/5\n",
      "270/270 [==============================] - 214s 791ms/step - loss: 0.0548 - accuracy: 0.9874 - val_loss: 0.2741 - val_accuracy: 0.9563\n",
      "Evaluating on train data:\n",
      "75/75 [==============================] - 94s 1s/step - loss: 0.0689 - accuracy: 0.9846\n",
      "Evaluating on test data:\n",
      "9/9 [==============================] - 12s 1s/step - loss: 0.1969 - accuracy: 0.9625\n",
      "Fold:  3\n",
      "Epoch 1/5\n",
      "270/270 [==============================] - 225s 825ms/step - loss: 0.4089 - accuracy: 0.8895 - val_loss: 0.1179 - val_accuracy: 0.9635\n",
      "Epoch 2/5\n",
      "270/270 [==============================] - 266s 987ms/step - loss: 0.1345 - accuracy: 0.9568 - val_loss: 0.1302 - val_accuracy: 0.9583\n",
      "Epoch 3/5\n",
      "270/270 [==============================] - 288s 1s/step - loss: 0.0878 - accuracy: 0.9751 - val_loss: 0.1627 - val_accuracy: 0.9688\n",
      "Epoch 4/5\n",
      "270/270 [==============================] - 340s 1s/step - loss: 0.0552 - accuracy: 0.9860 - val_loss: 0.4227 - val_accuracy: 0.9448\n",
      "Epoch 5/5\n",
      "270/270 [==============================] - 295s 1s/step - loss: 0.0522 - accuracy: 0.9889 - val_loss: 0.2791 - val_accuracy: 0.9698\n",
      "Evaluating on train data:\n",
      "75/75 [==============================] - 66s 868ms/step - loss: 0.0387 - accuracy: 0.9947\n",
      "Evaluating on test data:\n",
      "9/9 [==============================] - 7s 726ms/step - loss: 0.2312 - accuracy: 0.9747\n",
      "Fold:  4\n",
      "Epoch 1/5\n",
      "270/270 [==============================] - 143s 525ms/step - loss: 0.3998 - accuracy: 0.8943 - val_loss: 0.1721 - val_accuracy: 0.9406\n",
      "Epoch 2/5\n",
      "270/270 [==============================] - 139s 515ms/step - loss: 0.1299 - accuracy: 0.9579 - val_loss: 0.1654 - val_accuracy: 0.9448\n",
      "Epoch 3/5\n",
      "270/270 [==============================] - 145s 537ms/step - loss: 0.0759 - accuracy: 0.9774 - val_loss: 0.1623 - val_accuracy: 0.9677\n",
      "Epoch 4/5\n",
      "270/270 [==============================] - 141s 521ms/step - loss: 0.0536 - accuracy: 0.9845 - val_loss: 0.2518 - val_accuracy: 0.9656\n",
      "Epoch 5/5\n",
      "270/270 [==============================] - 145s 539ms/step - loss: 0.0525 - accuracy: 0.9870 - val_loss: 0.1105 - val_accuracy: 0.9802\n",
      "Evaluating on train data:\n",
      "75/75 [==============================] - 56s 745ms/step - loss: 0.0176 - accuracy: 0.9965\n",
      "Evaluating on test data:\n",
      "9/9 [==============================] - 8s 938ms/step - loss: 0.1597 - accuracy: 0.9747\n",
      "Fold:  5\n",
      "Epoch 1/5\n",
      "270/270 [==============================] - 141s 516ms/step - loss: 0.3945 - accuracy: 0.8892 - val_loss: 0.2027 - val_accuracy: 0.9417\n",
      "Epoch 2/5\n",
      "270/270 [==============================] - 142s 528ms/step - loss: 0.1289 - accuracy: 0.9610 - val_loss: 0.1816 - val_accuracy: 0.9677\n",
      "Epoch 3/5\n",
      "270/270 [==============================] - 143s 529ms/step - loss: 0.0838 - accuracy: 0.9771 - val_loss: 0.3206 - val_accuracy: 0.9521\n",
      "Epoch 4/5\n",
      "270/270 [==============================] - 142s 526ms/step - loss: 0.0704 - accuracy: 0.9849 - val_loss: 0.6655 - val_accuracy: 0.8615\n",
      "Epoch 5/5\n",
      "270/270 [==============================] - 137s 507ms/step - loss: 0.0520 - accuracy: 0.9875 - val_loss: 0.4650 - val_accuracy: 0.9323\n",
      "Evaluating on train data:\n",
      "75/75 [==============================] - 60s 796ms/step - loss: 0.1479 - accuracy: 0.9664\n",
      "Evaluating on test data:\n",
      "9/9 [==============================] - 7s 727ms/step - loss: 0.3672 - accuracy: 0.9513\n",
      "Fold:  6\n",
      "Epoch 1/5\n",
      "270/270 [==============================] - 142s 521ms/step - loss: 0.4255 - accuracy: 0.8891 - val_loss: 0.1835 - val_accuracy: 0.9427\n",
      "Epoch 2/5\n",
      "270/270 [==============================] - 135s 500ms/step - loss: 0.1299 - accuracy: 0.9612 - val_loss: 0.1669 - val_accuracy: 0.9542\n",
      "Epoch 3/5\n",
      "270/270 [==============================] - 146s 541ms/step - loss: 0.0863 - accuracy: 0.9752 - val_loss: 0.1768 - val_accuracy: 0.9677\n",
      "Epoch 4/5\n",
      "270/270 [==============================] - 134s 497ms/step - loss: 0.0655 - accuracy: 0.9848 - val_loss: 0.2176 - val_accuracy: 0.9719\n",
      "Epoch 5/5\n",
      "270/270 [==============================] - 139s 515ms/step - loss: 0.0469 - accuracy: 0.9893 - val_loss: 0.2328 - val_accuracy: 0.9625\n",
      "Evaluating on train data:\n",
      "75/75 [==============================] - 53s 709ms/step - loss: 0.0366 - accuracy: 0.9914\n",
      "Evaluating on test data:\n",
      "9/9 [==============================] - 6s 652ms/step - loss: 0.2822 - accuracy: 0.9672\n",
      "Fold:  7\n",
      "Epoch 1/5\n",
      "270/270 [==============================] - 134s 491ms/step - loss: 0.4196 - accuracy: 0.8876 - val_loss: 0.1257 - val_accuracy: 0.9542\n",
      "Epoch 2/5\n",
      "270/270 [==============================] - 135s 499ms/step - loss: 0.1372 - accuracy: 0.9595 - val_loss: 0.0901 - val_accuracy: 0.9729\n",
      "Epoch 3/5\n",
      "270/270 [==============================] - 136s 505ms/step - loss: 0.0925 - accuracy: 0.9745 - val_loss: 0.1469 - val_accuracy: 0.9604\n",
      "Epoch 4/5\n",
      "270/270 [==============================] - 139s 513ms/step - loss: 0.0630 - accuracy: 0.9843 - val_loss: 0.1259 - val_accuracy: 0.9760\n",
      "Epoch 5/5\n",
      "270/270 [==============================] - 137s 507ms/step - loss: 0.0620 - accuracy: 0.9865 - val_loss: 0.1775 - val_accuracy: 0.9667\n",
      "Evaluating on train data:\n",
      "75/75 [==============================] - 52s 684ms/step - loss: 0.0556 - accuracy: 0.9857\n",
      "Evaluating on test data:\n",
      "9/9 [==============================] - 6s 645ms/step - loss: 0.2515 - accuracy: 0.9672\n",
      "Fold:  8\n",
      "Epoch 1/5\n",
      "270/270 [==============================] - 141s 519ms/step - loss: 0.3647 - accuracy: 0.8921 - val_loss: 0.1751 - val_accuracy: 0.9427\n",
      "Epoch 2/5\n",
      "270/270 [==============================] - 136s 505ms/step - loss: 0.1321 - accuracy: 0.9601 - val_loss: 0.4350 - val_accuracy: 0.9031\n",
      "Epoch 3/5\n",
      "270/270 [==============================] - 142s 526ms/step - loss: 0.0818 - accuracy: 0.9774 - val_loss: 0.4334 - val_accuracy: 0.9250\n",
      "Epoch 4/5\n",
      "270/270 [==============================] - 141s 522ms/step - loss: 0.0561 - accuracy: 0.9855 - val_loss: 0.2499 - val_accuracy: 0.9615\n",
      "Epoch 5/5\n",
      "270/270 [==============================] - 145s 539ms/step - loss: 0.0608 - accuracy: 0.9878 - val_loss: 0.2592 - val_accuracy: 0.9667\n",
      "Evaluating on train data:\n",
      "75/75 [==============================] - 59s 784ms/step - loss: 0.0356 - accuracy: 0.9936\n",
      "Evaluating on test data:\n",
      "9/9 [==============================] - 6s 643ms/step - loss: 0.2850 - accuracy: 0.9644\n",
      "Fold:  9\n",
      "Epoch 1/5\n",
      "270/270 [==============================] - 142s 523ms/step - loss: 0.4329 - accuracy: 0.8888 - val_loss: 0.1961 - val_accuracy: 0.9417\n",
      "Epoch 2/5\n",
      "270/270 [==============================] - 144s 534ms/step - loss: 0.1313 - accuracy: 0.9577 - val_loss: 0.2497 - val_accuracy: 0.9187\n",
      "Epoch 3/5\n",
      "270/270 [==============================] - 136s 504ms/step - loss: 0.0907 - accuracy: 0.9760 - val_loss: 0.1559 - val_accuracy: 0.9646\n",
      "Epoch 4/5\n",
      "270/270 [==============================] - 133s 493ms/step - loss: 0.0725 - accuracy: 0.9825 - val_loss: 0.1799 - val_accuracy: 0.9656\n",
      "Epoch 5/5\n",
      "270/270 [==============================] - 131s 485ms/step - loss: 0.0437 - accuracy: 0.9891 - val_loss: 0.4304 - val_accuracy: 0.9500\n",
      "Evaluating on train data:\n",
      "75/75 [==============================] - 52s 690ms/step - loss: 0.0614 - accuracy: 0.9909\n",
      "Evaluating on test data:\n",
      "9/9 [==============================] - 6s 621ms/step - loss: 0.3119 - accuracy: 0.9616\n",
      "Fold:  10\n",
      "Epoch 1/5\n",
      "270/270 [==============================] - 131s 480ms/step - loss: 0.4107 - accuracy: 0.8903 - val_loss: 0.1649 - val_accuracy: 0.9417\n",
      "Epoch 2/5\n",
      "270/270 [==============================] - 125s 462ms/step - loss: 0.1298 - accuracy: 0.9592 - val_loss: 0.1198 - val_accuracy: 0.9646\n",
      "Epoch 3/5\n",
      "270/270 [==============================] - 115s 426ms/step - loss: 0.0816 - accuracy: 0.9766 - val_loss: 0.1231 - val_accuracy: 0.9729\n",
      "Epoch 4/5\n",
      "270/270 [==============================] - 113s 417ms/step - loss: 0.0660 - accuracy: 0.9838 - val_loss: 0.1624 - val_accuracy: 0.9750\n",
      "Epoch 5/5\n",
      "270/270 [==============================] - 150s 556ms/step - loss: 0.0537 - accuracy: 0.9896 - val_loss: 0.2119 - val_accuracy: 0.9573\n",
      "Evaluating on train data:\n",
      "75/75 [==============================] - 55s 727ms/step - loss: 0.0535 - accuracy: 0.9857\n",
      "Evaluating on test data:\n",
      "9/9 [==============================] - 8s 913ms/step - loss: 0.2363 - accuracy: 0.9541\n"
     ]
    }
   ],
   "source": [
    "from sklearn.model_selection import StratifiedKFold\n",
    "from scipy.stats import zscore\n",
    "from sklearn import metrics\n",
    "import tensorflow as tf\n",
    "import random\n",
    "\n",
    "fold = 10\n",
    "label_names = ['0', '1', '2']\n",
    "num_epochs = 5\n",
    "batch_size = 32\n",
    "\n",
    "results = []\n",
    "\n",
    "train_res = []\n",
    "for i in range(fold):\n",
    "    print(\"Fold: \", i+1)\n",
    "    data_train, data_test = train_test_split(data, test_size=0.10, shuffle = True)\n",
    "\n",
    "    # # total training words\n",
    "    totalTrainingWords = [word for tokens in data_train[\"tokens\"] for word in tokens]\n",
    "\n",
    "    # # Storing Length of the training sentence\n",
    "    lengthTrainingSentences = [len(tokens) for tokens in data_train[\"tokens\"]]\n",
    "\n",
    "    # # training Vocabulary size\n",
    "    trainingVocabSize = sorted(list(set(totalTrainingWords)))\n",
    "\n",
    "    ## Total number of lines\n",
    "    linesCount = len(data_train[\"tokens\"])\n",
    "    \n",
    "    tokenizer = Tokenizer(num_words=len(trainingVocabSize), lower=True, char_level=False)\n",
    "    tokenizer.fit_on_texts(data_train[\"Text_Final\"].tolist())\n",
    "    training_sequences = tokenizer.texts_to_sequences(data_train[\"Text_Final\"].tolist())\n",
    "\n",
    "    train_word_index = tokenizer.word_index\n",
    "    cnnTrainData = pad_sequences(training_sequences, maxlen=MAX_SEQUENCE_LENGTH)\n",
    "    \n",
    "    train_embedding_weights = np.zeros((len(train_word_index)+1, EMBEDDING_DIM))\n",
    "    \n",
    "    for word,index in train_word_index.items():\n",
    "        train_embedding_weights[index,:] = word2vec[word] if word in word2vec else np.random.rand(EMBEDDING_DIM)\n",
    "        \n",
    "    test_sequences = tokenizer.texts_to_sequences(data_test[\"Text_Final\"].tolist())\n",
    "    cnnTestData = pad_sequences(test_sequences, maxlen= MAX_SEQUENCE_LENGTH)\n",
    "    \n",
    "    # Splitting train data into X_train and y_train\n",
    "    y_train = data_train[label_names].values\n",
    "    x_train = cnnTrainData\n",
    "    y_tr = y_train\n",
    "    \n",
    "    # Splitting train data into X_test and y_test\n",
    "    y_test = data_test[label_names].values\n",
    "    x_test = cnnTestData\n",
    "    y_tst = y_test\n",
    "    \n",
    "    # create model\n",
    "    model = ConvolutionalNeuralNet(train_embedding_weights, MAX_SEQUENCE_LENGTH, len(train_word_index)+1, EMBEDDING_DIM, len(list(label_names)))\n",
    "    \n",
    "    #Train Model\n",
    "    history = model.fit(x_train, y_tr, epochs=num_epochs, validation_split=0.1, shuffle=True, batch_size=batch_size)\n",
    "      \n",
    "    # model evaluatation    \n",
    "    print(\"Evaluating on train data:\")\n",
    "    train_res.append(model.evaluate(x_train, y_tr, batch_size=128))\n",
    "    print(\"Evaluating on test data:\")\n",
    "    results.append(model.evaluate(x_test, y_tst, batch_size=128))\n",
    "\n",
    "model.save('model_CNN.h5')    "
   ]
  },
  {
   "cell_type": "code",
   "execution_count": 57,
   "metadata": {},
   "outputs": [
    {
     "name": "stdout",
     "output_type": "stream",
     "text": [
      "Kfold Mean:  0.9642924010753632\n"
     ]
    }
   ],
   "source": [
    "import statistics \n",
    "# for i in range(len(results)):\n",
    "#     print(\"Fold: \", i+1)\n",
    "#     print(\"test loss, test acc:\", results[i])\n",
    "\n",
    "score = []\n",
    "for i in results:\n",
    "    score.append(i[1])\n",
    "x = statistics.mean(score)\n",
    "    \n",
    "print(\"Kfold Mean: \", x)"
   ]
  },
  {
   "cell_type": "code",
   "execution_count": 58,
   "metadata": {},
   "outputs": [],
   "source": [
    "translator = Translator()"
   ]
  },
  {
   "cell_type": "code",
   "execution_count": 59,
   "metadata": {},
   "outputs": [
    {
     "name": "stdout",
     "output_type": "stream",
     "text": [
      "Hindi:  इसलाम सुंदर है\n",
      "Translated: Islam is beautiful\n",
      "Predicted Label:  1\n"
     ]
    }
   ],
   "source": [
    "# 1\n",
    "hin_text =  \"इसलाम सुंदर है\"\n",
    "print(\"Hindi: \", hin_text)\n",
    "\n",
    "trans = translator.translate(hin_text, dest='en')\n",
    "print('Translated:', trans.text)\n",
    "texts = [trans.text]\n",
    "print('Predicted Label: ',makeprediction(texts))"
   ]
  },
  {
   "cell_type": "code",
   "execution_count": 60,
   "metadata": {},
   "outputs": [
    {
     "name": "stdout",
     "output_type": "stream",
     "text": [
      "Hindi:   समाज वादी  पार्टी जिंदाबाद \n",
      "Translated: Society Wadi Party Zindabad\n",
      "Predicted Label:  1\n"
     ]
    }
   ],
   "source": [
    "# 0\n",
    "hin_text =  \" समाज वादी  पार्टी जिंदाबाद \"\n",
    "print(\"Hindi: \", hin_text)\n",
    "\n",
    "trans = translator.translate(hin_text, dest='en')\n",
    "print('Translated:', trans.text)\n",
    "texts = [trans.text]\n",
    "print('Predicted Label: ',makeprediction(texts))"
   ]
  },
  {
   "cell_type": "code",
   "execution_count": 61,
   "metadata": {},
   "outputs": [
    {
     "name": "stdout",
     "output_type": "stream",
     "text": [
      "1\n"
     ]
    }
   ],
   "source": [
    "# 2\n",
    "texts = [\"@_ROB_29 If this was a Muslim girl in Afghanistan you'd call her a terrorist\"]\n",
    "print(makeprediction(texts))"
   ]
  },
  {
   "cell_type": "code",
   "execution_count": 62,
   "metadata": {},
   "outputs": [
    {
     "name": "stdout",
     "output_type": "stream",
     "text": [
      "Hindi:  'गाजा में दीवाली   की ढेरो बधाई मित्रो 😊💐  #IsraeliBombing 😂😂\n",
      "Translated: 'Happy greetings of Diwali in Gaza 😊💐 #Israelibombing 😂😂\n",
      "Predicted Label:  1\n",
      "1\n"
     ]
    }
   ],
   "source": [
    "# 2\n",
    "hin_text =  \"'गाजा में दीवाली   की ढेरो बधाई मित्रो 😊💐  #IsraeliBombing 😂😂\"\n",
    "print(\"Hindi: \", hin_text)\n",
    "\n",
    "trans = translator.translate(hin_text, dest='en')\n",
    "print('Translated:', trans.text)\n",
    "texts = [trans.text]\n",
    "print('Predicted Label: ',makeprediction(texts))# 0\n",
    "texts = [\"''In what hopscotch? Cricket?\"]\n",
    "print(makeprediction(texts))"
   ]
  },
  {
   "cell_type": "code",
   "execution_count": 63,
   "metadata": {},
   "outputs": [
    {
     "name": "stdout",
     "output_type": "stream",
     "text": [
      "1\n"
     ]
    }
   ],
   "source": [
    "# 1\n",
    "texts = [\"My tl is filled with Shia-Sunni controversy. I should've deactivated before Moharram started.\"]\n",
    "print(makeprediction(texts))"
   ]
  },
  {
   "cell_type": "code",
   "execution_count": 64,
   "metadata": {},
   "outputs": [
    {
     "data": {
      "image/png": "[encoded data removed]",
      "text/plain": [
       "<Figure size 432x288 with 1 Axes>"
      ]
     },
     "metadata": {},
     "output_type": "display_data"
    }
   ],
   "source": [
    "# for Word2Vec\n",
    "import pandas as pd\n",
    "import seaborn as sns\n",
    "results=pd.DataFrame()\n",
    "dictionary=dict()\n",
    "dictionary['Evaluation Measures']=[\"K Fold\", \"Precision\", \"Recall\", \"F1 Score\"]\n",
    "dictionary['CNN - Word2Vec']=[96.4, 97, 97, 97]\n",
    "results=pd.DataFrame(dictionary)\n",
    "sns.set_style(style=\"whitegrid\")\n",
    "ax = sns.barplot(x='Evaluation Measures', y= 'CNN - Word2Vec',data=results)"
   ]
  },
  {
   "cell_type": "markdown",
   "metadata": {},
   "source": [
    "### Reference\n",
    "[1] \"Convolutional Neural Networks for Sentence Classification\" by Yoon Kim\n"
   ]
  }
 ],
 "metadata": {
  "kernelspec": {
   "display_name": "Python 3",
   "language": "python",
   "name": "python3"
  },
  "language_info": {
   "codemirror_mode": {
    "name": "ipython",
    "version": 3
   },
   "file_extension": ".py",
   "mimetype": "text/x-python",
   "name": "python",
   "nbconvert_exporter": "python",
   "pygments_lexer": "ipython3",
   "version": "3.8.8"
  }
 },
 "nbformat": 4,
 "nbformat_minor": 4
}
