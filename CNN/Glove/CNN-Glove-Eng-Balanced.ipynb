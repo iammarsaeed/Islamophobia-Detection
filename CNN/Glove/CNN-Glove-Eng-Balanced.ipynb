{
 "cells": [
  {
   "cell_type": "markdown",
   "metadata": {},
   "source": [
    "\n",
    "# Convolutional Neural Network CNN\n",
    "1. Using Glove implementing CNN model\n",
    "2. Dispaly Confusion Matrix, precision, recall and F1-score\n",
    "3. Display few prediction using predict module. \n",
    "4. Get 10-fold Average of the CNN model."
   ]
  },
  {
   "cell_type": "code",
   "execution_count": 1,
   "metadata": {},
   "outputs": [],
   "source": [
    "from __future__ import division, print_function\n",
    "\n",
    "# dataframe\n",
    "import pandas as pd\n",
    "\n",
    "# numpy array\n",
    "import numpy as np\n",
    "\n",
    "# figures visualization\n",
    "import matplotlib.pyplot as plt\n",
    "from sklearn.metrics import confusion_matrix \n",
    "import seaborn as sns\n",
    "\n",
    "# calc accuracy\n",
    "from sklearn.metrics import accuracy_score \n",
    "from sklearn.metrics import classification_report \n",
    "\n",
    "# word2vec\n",
    "import gensim \n",
    "from gensim import models\n",
    "from gensim.models import Word2Vec \n",
    "from gensim.models import KeyedVectors\n",
    "\n",
    "# CNN model and keras preprocessing\n",
    "import keras\n",
    "from keras.callbacks import ModelCheckpoint\n",
    "from keras.layers import Dense, Dropout, Reshape, Flatten, concatenate, Input, Conv1D, GlobalMaxPooling1D, Embedding, Conv2D, GlobalMaxPooling2D\n",
    "from keras.models import Sequential\n",
    "from keras.models import Model\n",
    "from keras.preprocessing.text import Tokenizer\n",
    "from keras.preprocessing.sequence import pad_sequences\n",
    "\n",
    "# nltk data preprocessing\n",
    "import nltk\n",
    "from nltk import word_tokenize\n",
    "from nltk.tokenize import sent_tokenize \n",
    "from nltk.stem import WordNetLemmatizer\n",
    "\n",
    "# stopword - remove buzz word\n",
    "from nltk.corpus import stopwords\n",
    "\n",
    "# splitting data\n",
    "from sklearn.model_selection import train_test_split\n",
    "\n",
    "# punctuation - data imbalance\n",
    "import collections\n",
    "import re\n",
    "import string\n",
    "\n",
    "# File path\n",
    "import os\n",
    "import os.path\n",
    "from os import path\n",
    "\n",
    "# Translator\n",
    "import googletrans\n",
    "from googletrans import Translator"
   ]
  },
  {
   "cell_type": "code",
   "execution_count": 4,
   "metadata": {},
   "outputs": [],
   "source": [
    "# original english file\n",
    "filename  = '../../Eng-Hin-data/english-anot-shuffled'\n",
    "orig_df = pd.read_csv(filename + '.csv',  \n",
    "               delimiter=',')\n",
    "orig_df.columns = ['Text', 'Label']"
   ]
  },
  {
   "cell_type": "code",
   "execution_count": 5,
   "metadata": {},
   "outputs": [],
   "source": [
    "# Run only for English data \n",
    "orig_df[\"Text\"] = orig_df[\"Text\"].astype(str)\n",
    "orig_df[\"Label\"] = orig_df[\"Label\"].astype(str)\n",
    "df = orig_df"
   ]
  },
  {
   "cell_type": "code",
   "execution_count": 6,
   "metadata": {},
   "outputs": [
    {
     "data": {
      "text/plain": [
       "<bound method NDFrame.head of                                                    Text Label\n",
       "0     '@Cricket_Mann And they will see more of it no...     0\n",
       "1     \"Juma'at Kareem to all my Muslim brother aroun...     1\n",
       "2     'Thorpe becomes England head coach for Pakista...     0\n",
       "3     '@ParZevil Plymouth Cricket. THREE transmissions.     0\n",
       "4     'jungkook didnâ€™t get caught eating food duri...     1\n",
       "...                                                 ...   ...\n",
       "8433  '@xmufcalisha Looking like a cricket scoreline...     0\n",
       "8434  'QAnon is a terrorist organisation. Trump is n...     2\n",
       "8435  'No franchise cricket tournament has a better ...     0\n",
       "8436  'we are not against every muslim but for that ...     2\n",
       "8437  'Happy First Muharram ðŸ¥³ðŸŽŠðŸŽ‰  May Allah ...     1\n",
       "\n",
       "[8438 rows x 2 columns]>"
      ]
     },
     "execution_count": 6,
     "metadata": {},
     "output_type": "execute_result"
    }
   ],
   "source": [
    "df.head"
   ]
  },
  {
   "cell_type": "code",
   "execution_count": 7,
   "metadata": {},
   "outputs": [
    {
     "data": {
      "text/plain": [
       "\"'@SakibulHoque8 @ImranKhanPTI Terrorist is a Muslim.ðŸ˜€\""
      ]
     },
     "execution_count": 7,
     "metadata": {},
     "output_type": "execute_result"
    }
   ],
   "source": [
    "df.Text[6]"
   ]
  },
  {
   "cell_type": "markdown",
   "metadata": {},
   "source": [
    "### Class count"
   ]
  },
  {
   "cell_type": "code",
   "execution_count": 8,
   "metadata": {},
   "outputs": [
    {
     "data": {
      "image/png": "[encoded data removed]",
      "text/plain": [
       "<Figure size 432x288 with 1 Axes>"
      ]
     },
     "metadata": {
      "needs_background": "light"
     },
     "output_type": "display_data"
    }
   ],
   "source": [
    "import matplotlib.pyplot as plt\n",
    "fig = plt.figure(figsize=(6,4))\n",
    "df.groupby('Label').Text.count().plot.bar(ylim=0)\n",
    "plt.show()"
   ]
  },
  {
   "cell_type": "code",
   "execution_count": 9,
   "metadata": {},
   "outputs": [
    {
     "data": {
      "text/plain": [
       "0    3555\n",
       "2    2485\n",
       "1    2398\n",
       "Name: Label, dtype: int64"
      ]
     },
     "execution_count": 9,
     "metadata": {},
     "output_type": "execute_result"
    }
   ],
   "source": [
    "# For entire dataset sentences for each labels \n",
    "df.Label.value_counts()"
   ]
  },
  {
   "cell_type": "markdown",
   "metadata": {},
   "source": [
    "### Balanced Data"
   ]
  },
  {
   "cell_type": "code",
   "execution_count": 10,
   "metadata": {},
   "outputs": [],
   "source": [
    "#balancing data \n",
    "from collections import Counter\n",
    "import numpy as np\n",
    "def balanceClasses(xs, ys):\n",
    "    item = {}\n",
    "    new_ys = []\n",
    "    new_xs = []\n",
    "    #\"\"\"Undersample xs, ys to balance classes.\"\"\"\n",
    "    freqs = Counter(ys)\n",
    "    # the most common class  is the maximum number we want for all classes\n",
    "    max_allowable = (freqs.most_common()[0][1])\n",
    "    \n",
    "    for val in freqs.most_common(): # List\n",
    "        nums = np.random.randint(1000)\n",
    "        i = 1\n",
    "        item[val[0]] = max_allowable - val[1]\n",
    "        \n",
    "        if item[val[0]] > 0:            \n",
    "            while(item[val[0]] - i != 0): \n",
    "                nums = nums + 1\n",
    "                if ys[nums] == val[0]:\n",
    "                    i += 1\n",
    "                    new_ys.append(ys[nums])\n",
    "                    new_xs.append(xs[nums])\n",
    "    return new_xs, new_ys"
   ]
  },
  {
   "cell_type": "code",
   "execution_count": 11,
   "metadata": {},
   "outputs": [],
   "source": [
    "new_text, new_label = balanceClasses(df['Text'], df['Label'])"
   ]
  },
  {
   "cell_type": "code",
   "execution_count": 12,
   "metadata": {},
   "outputs": [],
   "source": [
    "data = pd.DataFrame(new_text)\n",
    "data.columns = ['Text']\n",
    "data['Label'] = new_label\n",
    "data = pd.concat([df, data])"
   ]
  },
  {
   "cell_type": "code",
   "execution_count": 13,
   "metadata": {},
   "outputs": [
    {
     "data": {
      "image/png": "[encoded data removed]",
      "text/plain": [
       "<Figure size 432x288 with 1 Axes>"
      ]
     },
     "metadata": {
      "needs_background": "light"
     },
     "output_type": "display_data"
    }
   ],
   "source": [
    "fig1 = plt.figure(figsize=(6,4))\n",
    "data.groupby('Label').Text.count().plot.bar(ylim=0)\n",
    "plt.show()"
   ]
  },
  {
   "cell_type": "code",
   "execution_count": 14,
   "metadata": {},
   "outputs": [
    {
     "data": {
      "text/plain": [
       "0    3555\n",
       "2    3554\n",
       "1    3554\n",
       "Name: Label, dtype: int64"
      ]
     },
     "execution_count": 14,
     "metadata": {},
     "output_type": "execute_result"
    }
   ],
   "source": [
    "# For entire dataset sentences for each labels \n",
    "data.Label.value_counts()"
   ]
  },
  {
   "cell_type": "code",
   "execution_count": 15,
   "metadata": {},
   "outputs": [
    {
     "data": {
      "text/html": [
       "<div>\n",
       "<style scoped>\n",
       "    .dataframe tbody tr th:only-of-type {\n",
       "        vertical-align: middle;\n",
       "    }\n",
       "\n",
       "    .dataframe tbody tr th {\n",
       "        vertical-align: top;\n",
       "    }\n",
       "\n",
       "    .dataframe thead th {\n",
       "        text-align: right;\n",
       "    }\n",
       "</style>\n",
       "<table border=\"1\" class=\"dataframe\">\n",
       "  <thead>\n",
       "    <tr style=\"text-align: right;\">\n",
       "      <th></th>\n",
       "      <th>Text</th>\n",
       "      <th>Label</th>\n",
       "    </tr>\n",
       "  </thead>\n",
       "  <tbody>\n",
       "    <tr>\n",
       "      <th>0</th>\n",
       "      <td>USA rescued this Mu$lim woman from Somalia and...</td>\n",
       "      <td>2</td>\n",
       "    </tr>\n",
       "    <tr>\n",
       "      <th>1</th>\n",
       "      <td>'Jamaica Tallawahs have ended with a score of ...</td>\n",
       "      <td>0</td>\n",
       "    </tr>\n",
       "    <tr>\n",
       "      <th>2</th>\n",
       "      <td>\"@arunpudur don't blame Muslims it's KORAN it'...</td>\n",
       "      <td>2</td>\n",
       "    </tr>\n",
       "    <tr>\n",
       "      <th>3</th>\n",
       "      <td>'My Cricket God #Yuvraj â¤ï¸â¤ï¸â¤ï¸â¤ï...</td>\n",
       "      <td>0</td>\n",
       "    </tr>\n",
       "    <tr>\n",
       "      <th>4</th>\n",
       "      <td>'@CiliBling Happy Muharram to you too  ðŸ˜Š</td>\n",
       "      <td>1</td>\n",
       "    </tr>\n",
       "    <tr>\n",
       "      <th>...</th>\n",
       "      <td>...</td>\n",
       "      <td>...</td>\n",
       "    </tr>\n",
       "    <tr>\n",
       "      <th>10658</th>\n",
       "      <td>\"@Amermalik12 3 nil ðŸ˜‚  even GOD didn't like...</td>\n",
       "      <td>0</td>\n",
       "    </tr>\n",
       "    <tr>\n",
       "      <th>10659</th>\n",
       "      <td>'@buschenfeld My dogs name is Cricket but I ca...</td>\n",
       "      <td>0</td>\n",
       "    </tr>\n",
       "    <tr>\n",
       "      <th>10660</th>\n",
       "      <td>'@mohamedfiraq Wish you a very happy Muharram ...</td>\n",
       "      <td>1</td>\n",
       "    </tr>\n",
       "    <tr>\n",
       "      <th>10661</th>\n",
       "      <td>'How the fuck is rugby and cricket a sport?</td>\n",
       "      <td>0</td>\n",
       "    </tr>\n",
       "    <tr>\n",
       "      <th>10662</th>\n",
       "      <td>'Correction  NO 1 JEHADI UNIVERSITY IN INDIA J...</td>\n",
       "      <td>2</td>\n",
       "    </tr>\n",
       "  </tbody>\n",
       "</table>\n",
       "<p>10663 rows × 2 columns</p>\n",
       "</div>"
      ],
      "text/plain": [
       "                                                    Text Label\n",
       "0      USA rescued this Mu$lim woman from Somalia and...     2\n",
       "1      'Jamaica Tallawahs have ended with a score of ...     0\n",
       "2      \"@arunpudur don't blame Muslims it's KORAN it'...     2\n",
       "3      'My Cricket God #Yuvraj â¤ï¸â¤ï¸â¤ï¸â¤ï...     0\n",
       "4            '@CiliBling Happy Muharram to you too  ðŸ˜Š     1\n",
       "...                                                  ...   ...\n",
       "10658  \"@Amermalik12 3 nil ðŸ˜‚  even GOD didn't like...     0\n",
       "10659  '@buschenfeld My dogs name is Cricket but I ca...     0\n",
       "10660  '@mohamedfiraq Wish you a very happy Muharram ...     1\n",
       "10661        'How the fuck is rugby and cricket a sport?     0\n",
       "10662  'Correction  NO 1 JEHADI UNIVERSITY IN INDIA J...     2\n",
       "\n",
       "[10663 rows x 2 columns]"
      ]
     },
     "execution_count": 15,
     "metadata": {},
     "output_type": "execute_result"
    }
   ],
   "source": [
    "\n",
    "data=data.sample(frac=1).reset_index(drop=True)\n",
    "data"
   ]
  },
  {
   "cell_type": "markdown",
   "metadata": {},
   "source": [
    "### Data Preprocessing"
   ]
  },
  {
   "cell_type": "code",
   "execution_count": 16,
   "metadata": {},
   "outputs": [],
   "source": [
    "# People usually join sentences using more than one colon \n",
    "\n",
    "def ReplaceDoubleColon(inputString):\n",
    "    return inputString.replace(\"..\", \" \") \n",
    "\n",
    "data['Text'] = data['Text'].apply(lambda x: ReplaceDoubleColon(x))\n",
    "\n",
    "def ReplaceTripleColon(inputString):\n",
    "    return inputString.replace(\"...\", \" \") \n",
    "\n",
    "data['Text'] = data['Text'].apply(lambda x: ReplaceTripleColon(x))\n",
    "\n",
    "def ReplaceFourColon(inputString):\n",
    "    return inputString.replace(\"....\", \" \") \n",
    "\n",
    "data['Text'] = data['Text'].apply(lambda x: ReplaceFourColon(x))"
   ]
  },
  {
   "cell_type": "code",
   "execution_count": 17,
   "metadata": {},
   "outputs": [],
   "source": [
    "def textPattern(text):\n",
    "\n",
    "    # Clean the text\n",
    "    text = re.sub(r\"[^A-Za-z0-9^,!.\\/'+-=]\", \" \", text)\n",
    "    text = re.sub(r\" \\n \", \" \", text)\n",
    "    text = re.sub(r\"what's\", \"what is\", text)\n",
    "    text = re.sub(r\"\\'s\", \" \", text)\n",
    "    text = re.sub(r\"\\'ve\", \"have\", text)\n",
    "    text = re.sub(r\"can't\", \"can not\", text)\n",
    "    text = re.sub(r\"aren't\", \"are not\", text)\n",
    "    text = re.sub(r\"couldn't\", \"could not\", text)\n",
    "    text = re.sub(r\"didn't\", \"did not\", text)\n",
    "    text = re.sub(r\"doesn't\", \"does not\", text)\n",
    "    text = re.sub(r\"don't\", \"do not\", text)\n",
    "    text = re.sub(r\"hadn't\", \"had not\", text)\n",
    "    text = re.sub(r\"hasn't\", \"has not\", text)\n",
    "    text = re.sub(r\"haven't\", \"have not\", text)\n",
    "    text = re.sub(r\"isn't\", \"is not\", text)\n",
    "    text = re.sub(r\"shouldn't\", \"should not\", text)\n",
    "    text = re.sub(r\"wasn't\", \"was not\", text)\n",
    "    text = re.sub(r\"weren't\", \"were not\", text)\n",
    "    text = re.sub(r\"won't\", \"will not\", text)\n",
    "    text = re.sub(r\"wouldn't\", \"would not\", text)\n",
    "    text = re.sub(r\"mustn't\", \"must not\", text)\n",
    "    text = re.sub(r\"i'm\", \"i am\", text)\n",
    "    text = re.sub(r\"\\'re\", \"are\", text)\n",
    "    text = re.sub(r\",\", \" \", text)\n",
    "    text = re.sub(r\"\\.\", \" \", text)\n",
    "    text = re.sub(r\"!\", \" \", text)\n",
    "    text = re.sub(r\"\\/\", \" \", text)\n",
    "    text = re.sub(r\"\\^\", \" ^ \", text)\n",
    "    text = re.sub(r\"\\+\", \" \", text)\n",
    "    text = re.sub(r\"\\-\", \" - \", text)\n",
    "    text = re.sub(r\"\\= =\", \" \", text)\n",
    "    text = re.sub(r\"\\==\", \" \", text)\n",
    "    text = re.sub(r\"'\", \" \", text)\n",
    "    text = re.sub(r\"(\\d+)(k)\", r\"\\g<1>000\", text)\n",
    "    text = re.sub(r\":\", \" : \", text)\n",
    "    text = re.sub(r\"\\0s\", \"0\", text)\n",
    "    text = re.sub(r\" 9 11 \", \"911\", text)\n",
    "    text = re.sub(r\"\\s{2,}\", \" \", text)\n",
    "    return text\n",
    "\n",
    "data['Text'] = data['Text'].apply(lambda x: textPattern(x))"
   ]
  },
  {
   "cell_type": "code",
   "execution_count": 18,
   "metadata": {},
   "outputs": [
    {
     "data": {
      "text/plain": [
       "(10663, 2)"
      ]
     },
     "execution_count": 18,
     "metadata": {},
     "output_type": "execute_result"
    }
   ],
   "source": [
    "data.shape"
   ]
  },
  {
   "cell_type": "code",
   "execution_count": 19,
   "metadata": {},
   "outputs": [],
   "source": [
    "# Word Tokenization\n",
    "tokens = [word_tokenize(sen) for sen in data.Text]"
   ]
  },
  {
   "cell_type": "code",
   "execution_count": 20,
   "metadata": {},
   "outputs": [],
   "source": [
    "# Lower Case\n",
    "def lower_token(tokens): \n",
    "    return [w.lower() for w in tokens]    \n",
    "    \n",
    "lower_tokens = [lower_token(token) for token in tokens]"
   ]
  },
  {
   "cell_type": "code",
   "execution_count": 21,
   "metadata": {},
   "outputs": [],
   "source": [
    "# Remove Link\n",
    "\n",
    "def removeLink(token):\n",
    "    word = []\n",
    "    for w in token:\n",
    "        if not w.startswith('http'):\n",
    "            word.append(w)\n",
    "    return word \n",
    "    \n",
    "removedLink_tokens = [removeLink(token) for token in lower_tokens]"
   ]
  },
  {
   "cell_type": "code",
   "execution_count": 22,
   "metadata": {},
   "outputs": [],
   "source": [
    "# Word Lemmatization\n",
    "def lemmatization(token):\n",
    "    return [lemmatizer.lemmatize(w) for w in token] \n",
    "\n",
    "lemmatizer = WordNetLemmatizer()\n",
    "\n",
    "lemmatized_tokens = [lemmatization(token) for token in removedLink_tokens]"
   ]
  },
  {
   "cell_type": "code",
   "execution_count": 23,
   "metadata": {},
   "outputs": [],
   "source": [
    "# Removing Stopwords\n",
    "stoplist = stopwords.words('english')"
   ]
  },
  {
   "cell_type": "code",
   "execution_count": 24,
   "metadata": {},
   "outputs": [],
   "source": [
    "def removeStopWords(tokens): \n",
    "    return [word for word in tokens if word not in stoplist]\n",
    "\n",
    "filtered_words = [removeStopWords(sen) for sen in lemmatized_tokens]\n",
    "data['Text_Final'] = [' '.join(sen) for sen in filtered_words]\n",
    "data['tokens'] = filtered_words"
   ]
  },
  {
   "cell_type": "code",
   "execution_count": 25,
   "metadata": {},
   "outputs": [],
   "source": [
    "zero  = []\n",
    "one = []\n",
    "two = []\n",
    "for l in data.Label:\n",
    "    \n",
    "    if l == '0':\n",
    "        zero.append(1)\n",
    "        one.append(0)\n",
    "        two.append(0)\n",
    "    elif l == '1':\n",
    "        zero.append(0)\n",
    "        one.append(1)\n",
    "        two.append(0)\n",
    "    elif l == '2':\n",
    "        zero.append(0)\n",
    "        one.append(0)\n",
    "        two.append(1)\n",
    "        \n",
    "data['0']= zero\n",
    "data['1']= one\n",
    "data['2']= two\n",
    "\n",
    "data = data[['Text_Final', 'tokens', 'Label', '0', '1', '2']]"
   ]
  },
  {
   "cell_type": "code",
   "execution_count": 26,
   "metadata": {},
   "outputs": [
    {
     "data": {
      "text/html": [
       "<div>\n",
       "<style scoped>\n",
       "    .dataframe tbody tr th:only-of-type {\n",
       "        vertical-align: middle;\n",
       "    }\n",
       "\n",
       "    .dataframe tbody tr th {\n",
       "        vertical-align: top;\n",
       "    }\n",
       "\n",
       "    .dataframe thead th {\n",
       "        text-align: right;\n",
       "    }\n",
       "</style>\n",
       "<table border=\"1\" class=\"dataframe\">\n",
       "  <thead>\n",
       "    <tr style=\"text-align: right;\">\n",
       "      <th></th>\n",
       "      <th>Text_Final</th>\n",
       "      <th>tokens</th>\n",
       "      <th>Label</th>\n",
       "      <th>0</th>\n",
       "      <th>1</th>\n",
       "      <th>2</th>\n",
       "      <th>Category_id</th>\n",
       "    </tr>\n",
       "  </thead>\n",
       "  <tbody>\n",
       "    <tr>\n",
       "      <th>0</th>\n",
       "      <td>usa rescued mu lim woman somalia provided new ...</td>\n",
       "      <td>[usa, rescued, mu, lim, woman, somalia, provid...</td>\n",
       "      <td>2</td>\n",
       "      <td>0</td>\n",
       "      <td>0</td>\n",
       "      <td>1</td>\n",
       "      <td>2</td>\n",
       "    </tr>\n",
       "    <tr>\n",
       "      <th>1</th>\n",
       "      <td>jamaica tallawahs ended score 135 8 : cpl2020</td>\n",
       "      <td>[jamaica, tallawahs, ended, score, 135, 8, :, ...</td>\n",
       "      <td>0</td>\n",
       "      <td>1</td>\n",
       "      <td>0</td>\n",
       "      <td>0</td>\n",
       "      <td>0</td>\n",
       "    </tr>\n",
       "    <tr>\n",
       "      <th>2</th>\n",
       "      <td>arunpudur blame muslim koran islam banned jeha...</td>\n",
       "      <td>[arunpudur, blame, muslim, koran, islam, banne...</td>\n",
       "      <td>2</td>\n",
       "      <td>0</td>\n",
       "      <td>0</td>\n",
       "      <td>1</td>\n",
       "      <td>2</td>\n",
       "    </tr>\n",
       "    <tr>\n",
       "      <th>3</th>\n",
       "      <td>cricket god yuvraj</td>\n",
       "      <td>[cricket, god, yuvraj]</td>\n",
       "      <td>0</td>\n",
       "      <td>1</td>\n",
       "      <td>0</td>\n",
       "      <td>0</td>\n",
       "      <td>0</td>\n",
       "    </tr>\n",
       "    <tr>\n",
       "      <th>4</th>\n",
       "      <td>cilibling happy muharram</td>\n",
       "      <td>[cilibling, happy, muharram]</td>\n",
       "      <td>1</td>\n",
       "      <td>0</td>\n",
       "      <td>1</td>\n",
       "      <td>0</td>\n",
       "      <td>1</td>\n",
       "    </tr>\n",
       "    <tr>\n",
       "      <th>5</th>\n",
       "      <td>radical islamic terrorism</td>\n",
       "      <td>[radical, islamic, terrorism]</td>\n",
       "      <td>2</td>\n",
       "      <td>0</td>\n",
       "      <td>0</td>\n",
       "      <td>1</td>\n",
       "      <td>2</td>\n",
       "    </tr>\n",
       "    <tr>\n",
       "      <th>6</th>\n",
       "      <td>lai mohammed sound warning beating drum war : ...</td>\n",
       "      <td>[lai, mohammed, sound, warning, beating, drum,...</td>\n",
       "      <td>0</td>\n",
       "      <td>1</td>\n",
       "      <td>0</td>\n",
       "      <td>0</td>\n",
       "      <td>0</td>\n",
       "    </tr>\n",
       "    <tr>\n",
       "      <th>7</th>\n",
       "      <td>ibnaordur kingofzizara el akari quran wa sent ...</td>\n",
       "      <td>[ibnaordur, kingofzizara, el, akari, quran, wa...</td>\n",
       "      <td>1</td>\n",
       "      <td>0</td>\n",
       "      <td>1</td>\n",
       "      <td>0</td>\n",
       "      <td>1</td>\n",
       "    </tr>\n",
       "    <tr>\n",
       "      <th>8</th>\n",
       "      <td>eduardohagn brother saying sha allah muslim</td>\n",
       "      <td>[eduardohagn, brother, saying, sha, allah, mus...</td>\n",
       "      <td>1</td>\n",
       "      <td>0</td>\n",
       "      <td>1</td>\n",
       "      <td>0</td>\n",
       "      <td>1</td>\n",
       "    </tr>\n",
       "  </tbody>\n",
       "</table>\n",
       "</div>"
      ],
      "text/plain": [
       "                                          Text_Final  \\\n",
       "0  usa rescued mu lim woman somalia provided new ...   \n",
       "1      jamaica tallawahs ended score 135 8 : cpl2020   \n",
       "2  arunpudur blame muslim koran islam banned jeha...   \n",
       "3                                 cricket god yuvraj   \n",
       "4                           cilibling happy muharram   \n",
       "5                          radical islamic terrorism   \n",
       "6  lai mohammed sound warning beating drum war : ...   \n",
       "7  ibnaordur kingofzizara el akari quran wa sent ...   \n",
       "8        eduardohagn brother saying sha allah muslim   \n",
       "\n",
       "                                              tokens Label  0  1  2  \\\n",
       "0  [usa, rescued, mu, lim, woman, somalia, provid...     2  0  0  1   \n",
       "1  [jamaica, tallawahs, ended, score, 135, 8, :, ...     0  1  0  0   \n",
       "2  [arunpudur, blame, muslim, koran, islam, banne...     2  0  0  1   \n",
       "3                             [cricket, god, yuvraj]     0  1  0  0   \n",
       "4                       [cilibling, happy, muharram]     1  0  1  0   \n",
       "5                      [radical, islamic, terrorism]     2  0  0  1   \n",
       "6  [lai, mohammed, sound, warning, beating, drum,...     0  1  0  0   \n",
       "7  [ibnaordur, kingofzizara, el, akari, quran, wa...     1  0  1  0   \n",
       "8  [eduardohagn, brother, saying, sha, allah, mus...     1  0  1  0   \n",
       "\n",
       "  Category_id  \n",
       "0           2  \n",
       "1           0  \n",
       "2           2  \n",
       "3           0  \n",
       "4           1  \n",
       "5           2  \n",
       "6           0  \n",
       "7           1  \n",
       "8           1  "
      ]
     },
     "execution_count": 26,
     "metadata": {},
     "output_type": "execute_result"
    }
   ],
   "source": [
    "category_id = []\n",
    "for l in data.Label:\n",
    "    \n",
    "    if l == '0':\n",
    "        category_id.append('0')\n",
    "    elif l == '1':\n",
    "        category_id.append('1')\n",
    "    elif l == '2':\n",
    "        category_id.append('2')\n",
    "        \n",
    "data['Category_id'] = category_id\n",
    "\n",
    "data = data[['Text_Final', 'tokens', 'Label', '0', '1', '2', 'Category_id' ]]\n",
    "data.head(9)"
   ]
  },
  {
   "cell_type": "code",
   "execution_count": 27,
   "metadata": {},
   "outputs": [],
   "source": [
    "from io import StringIO\n",
    "category_id_df = data[['Label', 'Category_id']].drop_duplicates().sort_values('Category_id')\n",
    "category_to_label_dict = dict(category_id_df.values)\n",
    "label_to_category_dict = dict(category_id_df[['Category_id', 'Label']].values)"
   ]
  },
  {
   "cell_type": "markdown",
   "metadata": {},
   "source": [
    "#### Split Data into test and train\n",
    "We will use 90 % data for training and 20 % for testing. We use random state so every time we get the same training and testing data."
   ]
  },
  {
   "cell_type": "code",
   "execution_count": 28,
   "metadata": {},
   "outputs": [
    {
     "data": {
      "text/plain": [
       "(10663, 7)"
      ]
     },
     "execution_count": 28,
     "metadata": {},
     "output_type": "execute_result"
    }
   ],
   "source": [
    "data.shape"
   ]
  },
  {
   "cell_type": "code",
   "execution_count": 29,
   "metadata": {},
   "outputs": [],
   "source": [
    "data_train, data_test = train_test_split(data, test_size=0.10, random_state=42)\n"
   ]
  },
  {
   "cell_type": "code",
   "execution_count": 30,
   "metadata": {},
   "outputs": [],
   "source": [
    "# # total training words\n",
    "totalTrainingWords = [word for tokens in data_train[\"tokens\"] for word in tokens]\n",
    "\n",
    "# # Storing Length of the training sentence\n",
    "lengthTrainingSentences = [len(tokens) for tokens in data_train[\"tokens\"]]\n",
    "\n",
    "# # training Vocabulary size\n",
    "trainingVocabSize = sorted(list(set(totalTrainingWords)))\n",
    "\n",
    "## Total number of lines\n",
    "linesCount = len(data_train[\"tokens\"])"
   ]
  },
  {
   "cell_type": "markdown",
   "metadata": {},
   "source": [
    "### Load Google News Glove model"
   ]
  },
  {
   "cell_type": "code",
   "execution_count": 31,
   "metadata": {},
   "outputs": [],
   "source": [
    "# word2vec_path = 'GoogleNews-vectors-negative300.bin'\n",
    "# #word2vec_path = 'glove.6B.50d.word2vec'"
   ]
  },
  {
   "cell_type": "code",
   "execution_count": 32,
   "metadata": {},
   "outputs": [],
   "source": [
    "# from gensim import models\n",
    "# word2vec = models.KeyedVectors.load_word2vec_format(word2vec_path, binary=True)\n"
   ]
  },
  {
   "cell_type": "code",
   "execution_count": 34,
   "metadata": {},
   "outputs": [
    {
     "name": "stderr",
     "output_type": "stream",
     "text": [
      "<ipython-input-34-94d1a7902d0c>:5: DeprecationWarning: Call to deprecated `glove2word2vec` (KeyedVectors.load_word2vec_format(.., binary=False, no_header=True) loads GLoVE text vectors.).\n",
      "  glove2word2vec(glove_input_file, word2vec_output_file)\n"
     ]
    },
    {
     "data": {
      "text/plain": [
       "(400000, 300)"
      ]
     },
     "execution_count": 34,
     "metadata": {},
     "output_type": "execute_result"
    }
   ],
   "source": [
    "# Convert Glove file to word2vec format (examples: uses 50 dimensions since it's faster)\n",
    "from gensim.scripts.glove2word2vec import glove2word2vec\n",
    "glove_input_file = 'glove.6B.300d.txt'  # I unzipped in glove.6B subdirectory \n",
    "word2vec_output_file = 'glove.6B.300d.word2vec'\n",
    "glove2word2vec(glove_input_file, word2vec_output_file)"
   ]
  },
  {
   "cell_type": "code",
   "execution_count": 35,
   "metadata": {},
   "outputs": [],
   "source": [
    "# Use the converted Glove file\n",
    "\n",
    "\n",
    "filename = 'glove.6B.300d.word2vec'\n",
    "word2vec = KeyedVectors.load_word2vec_format(filename, binary=False)\n"
   ]
  },
  {
   "cell_type": "code",
   "execution_count": 36,
   "metadata": {},
   "outputs": [
    {
     "data": {
      "text/plain": [
       "<gensim.models.keyedvectors.KeyedVectors at 0x7fd1cdd60790>"
      ]
     },
     "execution_count": 36,
     "metadata": {},
     "output_type": "execute_result"
    }
   ],
   "source": [
    "word2vec"
   ]
  },
  {
   "cell_type": "code",
   "execution_count": 37,
   "metadata": {},
   "outputs": [],
   "source": [
    "MAX_SEQUENCE_LENGTH = 150\n",
    "EMBEDDING_DIM = 300"
   ]
  },
  {
   "cell_type": "markdown",
   "metadata": {},
   "source": [
    "\n",
    "### Tokenize and Pad sequences"
   ]
  },
  {
   "cell_type": "code",
   "execution_count": 38,
   "metadata": {},
   "outputs": [
    {
     "name": "stdout",
     "output_type": "stream",
     "text": [
      "Found 15473 unique tokens.\n"
     ]
    }
   ],
   "source": [
    "tokenizer = Tokenizer(num_words=len(trainingVocabSize), lower=True, char_level=False)\n",
    "tokenizer.fit_on_texts(data_train[\"Text_Final\"].tolist())\n",
    "training_sequences = tokenizer.texts_to_sequences(data_train[\"Text_Final\"].tolist())\n",
    "\n",
    "train_word_index = tokenizer.word_index\n",
    "print('Found %s unique tokens.' % len(train_word_index))"
   ]
  },
  {
   "cell_type": "code",
   "execution_count": 39,
   "metadata": {},
   "outputs": [],
   "source": [
    "cnnTrainData = pad_sequences(training_sequences, maxlen=MAX_SEQUENCE_LENGTH)"
   ]
  },
  {
   "cell_type": "code",
   "execution_count": 40,
   "metadata": {},
   "outputs": [
    {
     "name": "stdout",
     "output_type": "stream",
     "text": [
      "(15474, 300)\n"
     ]
    }
   ],
   "source": [
    "train_embedding_weights = np.zeros((len(train_word_index)+1, EMBEDDING_DIM))\n",
    "for word,index in train_word_index.items():\n",
    "    train_embedding_weights[index,:] = word2vec[word] if word in word2vec else np.random.rand(EMBEDDING_DIM)\n",
    "print(train_embedding_weights.shape)"
   ]
  },
  {
   "cell_type": "code",
   "execution_count": 41,
   "metadata": {},
   "outputs": [],
   "source": [
    "test_sequences = tokenizer.texts_to_sequences(data_test[\"Text_Final\"].tolist())\n",
    "cnnTestData = pad_sequences(test_sequences, maxlen= MAX_SEQUENCE_LENGTH)"
   ]
  },
  {
   "cell_type": "markdown",
   "metadata": {},
   "source": [
    "### Define CNN"
   ]
  },
  {
   "cell_type": "markdown",
   "metadata": {},
   "source": [
    "The model is from the paper 'Convolutional Neural Networks for Sentence Classification' we have updated the network according to our requirement [1]"
   ]
  },
  {
   "cell_type": "code",
   "execution_count": 42,
   "metadata": {},
   "outputs": [],
   "source": [
    "label_names = ['0', '1', '2']"
   ]
  },
  {
   "cell_type": "code",
   "execution_count": 47,
   "metadata": {},
   "outputs": [],
   "source": [
    "from tensorflow.keras import optimizers\n",
    "def ConvolutionalNeuralNet(embeddings, max_sequence_length, num_words, embedding_dim, labels_index):\n",
    "    \n",
    "    # Embedding layer\n",
    "    embedding_layer = Embedding(num_words,\n",
    "                            embedding_dim,\n",
    "                            weights=[embeddings],\n",
    "                            input_length=max_sequence_length,\n",
    "                            trainable=False)\n",
    "    \n",
    "    sequence_input = Input(shape=(max_sequence_length,), dtype='int32')\n",
    "    embedded_sequences = embedding_layer(sequence_input)\n",
    "\n",
    "    convs = []\n",
    "    \n",
    "    #Kernal (window) size\n",
    "    filter_sizes = [2,3,4,5]\n",
    "\n",
    "    # Convolution Layer and max-pooling\n",
    "    for filter_size in filter_sizes:\n",
    "        l_conv = Conv1D(filters=512, kernel_size=filter_size, activation='relu')(embedded_sequences)\n",
    "        l_pool = GlobalMaxPooling1D()(l_conv)\n",
    "        convs.append(l_pool)\n",
    "        \n",
    "    l_merge = concatenate(convs, axis=1)\n",
    "    \n",
    "    # softmax layer for multiclass identification \n",
    "    x = Dropout(0.1)(l_merge)  \n",
    "    x = Dense(512, activation='relu')(x)\n",
    "    x = Dropout(0.2)(x)\n",
    "    preds = Dense(labels_index, activation='softmax')(x)\n",
    "\n",
    "    model = Model(sequence_input, preds)\n",
    "    model.compile(loss= 'categorical_crossentropy',\n",
    "                 optimizer = optimizers.RMSprop(learning_rate=1e-3),\n",
    "#                    optimizer='adam',\n",
    "                  metrics=['accuracy'])\n",
    "    return model"
   ]
  },
  {
   "cell_type": "code",
   "execution_count": 48,
   "metadata": {},
   "outputs": [],
   "source": [
    "# Splitting train data into X_train and y_train\n",
    "y_train = data_train[label_names].values\n",
    "x_train = cnnTrainData\n",
    "y_tr = y_train"
   ]
  },
  {
   "cell_type": "code",
   "execution_count": 49,
   "metadata": {},
   "outputs": [],
   "source": [
    "# Splitting train data into X_test and y_test\n",
    "y_test = data_test[label_names].values\n",
    "x_test = cnnTestData\n",
    "y_tst = y_test"
   ]
  },
  {
   "cell_type": "code",
   "execution_count": 50,
   "metadata": {},
   "outputs": [],
   "source": [
    "model = ConvolutionalNeuralNet(train_embedding_weights, MAX_SEQUENCE_LENGTH, len(train_word_index)+1, EMBEDDING_DIM, len(list(label_names)))"
   ]
  },
  {
   "cell_type": "code",
   "execution_count": 51,
   "metadata": {},
   "outputs": [
    {
     "name": "stdout",
     "output_type": "stream",
     "text": [
      "Model: \"model_1\"\n",
      "__________________________________________________________________________________________________\n",
      " Layer (type)                   Output Shape         Param #     Connected to                     \n",
      "==================================================================================================\n",
      " input_2 (InputLayer)           [(None, 150)]        0           []                               \n",
      "                                                                                                  \n",
      " embedding_1 (Embedding)        (None, 150, 300)     4642200     ['input_2[0][0]']                \n",
      "                                                                                                  \n",
      " conv1d_4 (Conv1D)              (None, 149, 512)     307712      ['embedding_1[0][0]']            \n",
      "                                                                                                  \n",
      " conv1d_5 (Conv1D)              (None, 148, 512)     461312      ['embedding_1[0][0]']            \n",
      "                                                                                                  \n",
      " conv1d_6 (Conv1D)              (None, 147, 512)     614912      ['embedding_1[0][0]']            \n",
      "                                                                                                  \n",
      " conv1d_7 (Conv1D)              (None, 146, 512)     768512      ['embedding_1[0][0]']            \n",
      "                                                                                                  \n",
      " global_max_pooling1d_4 (Global  (None, 512)         0           ['conv1d_4[0][0]']               \n",
      " MaxPooling1D)                                                                                    \n",
      "                                                                                                  \n",
      " global_max_pooling1d_5 (Global  (None, 512)         0           ['conv1d_5[0][0]']               \n",
      " MaxPooling1D)                                                                                    \n",
      "                                                                                                  \n",
      " global_max_pooling1d_6 (Global  (None, 512)         0           ['conv1d_6[0][0]']               \n",
      " MaxPooling1D)                                                                                    \n",
      "                                                                                                  \n",
      " global_max_pooling1d_7 (Global  (None, 512)         0           ['conv1d_7[0][0]']               \n",
      " MaxPooling1D)                                                                                    \n",
      "                                                                                                  \n",
      " concatenate_1 (Concatenate)    (None, 2048)         0           ['global_max_pooling1d_4[0][0]', \n",
      "                                                                  'global_max_pooling1d_5[0][0]', \n",
      "                                                                  'global_max_pooling1d_6[0][0]', \n",
      "                                                                  'global_max_pooling1d_7[0][0]'] \n",
      "                                                                                                  \n",
      " dropout_2 (Dropout)            (None, 2048)         0           ['concatenate_1[0][0]']          \n",
      "                                                                                                  \n",
      " dense_2 (Dense)                (None, 512)          1049088     ['dropout_2[0][0]']              \n",
      "                                                                                                  \n",
      " dropout_3 (Dropout)            (None, 512)          0           ['dense_2[0][0]']                \n",
      "                                                                                                  \n",
      " dense_3 (Dense)                (None, 3)            1539        ['dropout_3[0][0]']              \n",
      "                                                                                                  \n",
      "==================================================================================================\n",
      "Total params: 7,845,275\n",
      "Trainable params: 3,203,075\n",
      "Non-trainable params: 4,642,200\n",
      "__________________________________________________________________________________________________\n"
     ]
    }
   ],
   "source": [
    "model.summary()"
   ]
  },
  {
   "cell_type": "markdown",
   "metadata": {},
   "source": [
    "### Train CNN"
   ]
  },
  {
   "cell_type": "code",
   "execution_count": 52,
   "metadata": {},
   "outputs": [],
   "source": [
    "num_epochs = 100\n",
    "batch_size = 32"
   ]
  },
  {
   "cell_type": "code",
   "execution_count": 53,
   "metadata": {},
   "outputs": [
    {
     "name": "stdout",
     "output_type": "stream",
     "text": [
      "Epoch 1/100\n",
      "270/270 [==============================] - 131s 481ms/step - loss: 0.4026 - accuracy: 0.9033 - val_loss: 0.1534 - val_accuracy: 0.9521\n",
      "Epoch 2/100\n",
      "270/270 [==============================] - 128s 474ms/step - loss: 0.1364 - accuracy: 0.9638 - val_loss: 0.1607 - val_accuracy: 0.9625\n",
      "Epoch 3/100\n",
      "270/270 [==============================] - 126s 465ms/step - loss: 0.0985 - accuracy: 0.9766 - val_loss: 0.1899 - val_accuracy: 0.9594\n",
      "Epoch 4/100\n",
      "270/270 [==============================] - 129s 476ms/step - loss: 0.0652 - accuracy: 0.9855 - val_loss: 0.3000 - val_accuracy: 0.9677\n",
      "Epoch 5/100\n",
      "270/270 [==============================] - 122s 453ms/step - loss: 0.0564 - accuracy: 0.9893 - val_loss: 0.3981 - val_accuracy: 0.9615\n",
      "Epoch 6/100\n",
      "270/270 [==============================] - 131s 485ms/step - loss: 0.0564 - accuracy: 0.9911 - val_loss: 0.4326 - val_accuracy: 0.9688\n",
      "Epoch 7/100\n",
      "270/270 [==============================] - 156s 577ms/step - loss: 0.0327 - accuracy: 0.9940 - val_loss: 0.5794 - val_accuracy: 0.9604\n",
      "Epoch 8/100\n",
      "270/270 [==============================] - 123s 456ms/step - loss: 0.0248 - accuracy: 0.9959 - val_loss: 0.6910 - val_accuracy: 0.9625\n",
      "Epoch 9/100\n",
      "270/270 [==============================] - 122s 453ms/step - loss: 0.0337 - accuracy: 0.9943 - val_loss: 0.6218 - val_accuracy: 0.9646\n",
      "Epoch 10/100\n",
      "270/270 [==============================] - 121s 449ms/step - loss: 0.0454 - accuracy: 0.9949 - val_loss: 0.5999 - val_accuracy: 0.9635\n",
      "Epoch 11/100\n",
      "270/270 [==============================] - 122s 453ms/step - loss: 0.0241 - accuracy: 0.9949 - val_loss: 0.7651 - val_accuracy: 0.9688\n",
      "Epoch 12/100\n",
      "270/270 [==============================] - 121s 448ms/step - loss: 0.0317 - accuracy: 0.9966 - val_loss: 0.7147 - val_accuracy: 0.9667\n",
      "Epoch 13/100\n",
      "270/270 [==============================] - 122s 453ms/step - loss: 0.0295 - accuracy: 0.9966 - val_loss: 0.8516 - val_accuracy: 0.9656\n",
      "Epoch 14/100\n",
      "270/270 [==============================] - 118s 439ms/step - loss: 0.0438 - accuracy: 0.9961 - val_loss: 0.7236 - val_accuracy: 0.9698\n",
      "Epoch 15/100\n",
      "270/270 [==============================] - 120s 445ms/step - loss: 0.0378 - accuracy: 0.9950 - val_loss: 0.7485 - val_accuracy: 0.9667\n",
      "Epoch 16/100\n",
      "270/270 [==============================] - 126s 467ms/step - loss: 0.0280 - accuracy: 0.9973 - val_loss: 0.9513 - val_accuracy: 0.9583\n",
      "Epoch 17/100\n",
      "270/270 [==============================] - 120s 446ms/step - loss: 0.0381 - accuracy: 0.9963 - val_loss: 1.0455 - val_accuracy: 0.9656\n",
      "Epoch 18/100\n",
      "270/270 [==============================] - 120s 443ms/step - loss: 0.0173 - accuracy: 0.9978 - val_loss: 0.9920 - val_accuracy: 0.9688\n",
      "Epoch 19/100\n",
      "270/270 [==============================] - 148s 548ms/step - loss: 0.0450 - accuracy: 0.9964 - val_loss: 1.5074 - val_accuracy: 0.9594\n",
      "Epoch 20/100\n",
      "270/270 [==============================] - 132s 488ms/step - loss: 0.0170 - accuracy: 0.9978 - val_loss: 1.1472 - val_accuracy: 0.9646\n",
      "Epoch 21/100\n",
      "270/270 [==============================] - 173s 641ms/step - loss: 0.0184 - accuracy: 0.9977 - val_loss: 1.0904 - val_accuracy: 0.9656\n",
      "Epoch 22/100\n",
      "270/270 [==============================] - 151s 558ms/step - loss: 0.0077 - accuracy: 0.9991 - val_loss: 1.2053 - val_accuracy: 0.9656\n",
      "Epoch 23/100\n",
      "270/270 [==============================] - 148s 547ms/step - loss: 0.0135 - accuracy: 0.9985 - val_loss: 1.4697 - val_accuracy: 0.9542\n",
      "Epoch 24/100\n",
      "270/270 [==============================] - 144s 532ms/step - loss: 0.0112 - accuracy: 0.9991 - val_loss: 1.5133 - val_accuracy: 0.9615\n",
      "Epoch 25/100\n",
      "270/270 [==============================] - 144s 535ms/step - loss: 0.0092 - accuracy: 0.9993 - val_loss: 2.4617 - val_accuracy: 0.9573\n",
      "Epoch 26/100\n",
      "270/270 [==============================] - 148s 547ms/step - loss: 0.0157 - accuracy: 0.9990 - val_loss: 1.5883 - val_accuracy: 0.9646\n",
      "Epoch 27/100\n",
      "270/270 [==============================] - 125s 463ms/step - loss: 0.0189 - accuracy: 0.9977 - val_loss: 1.7404 - val_accuracy: 0.9656\n",
      "Epoch 28/100\n",
      "270/270 [==============================] - 127s 469ms/step - loss: 0.0125 - accuracy: 0.9981 - val_loss: 1.6742 - val_accuracy: 0.9625\n",
      "Epoch 29/100\n",
      "270/270 [==============================] - 132s 489ms/step - loss: 0.0095 - accuracy: 0.9994 - val_loss: 1.7033 - val_accuracy: 0.9688\n",
      "Epoch 30/100\n",
      "270/270 [==============================] - 127s 471ms/step - loss: 0.0229 - accuracy: 0.9977 - val_loss: 1.8804 - val_accuracy: 0.9646\n",
      "Epoch 31/100\n",
      "270/270 [==============================] - 127s 469ms/step - loss: 0.0163 - accuracy: 0.9992 - val_loss: 1.9167 - val_accuracy: 0.9635\n",
      "Epoch 32/100\n",
      "270/270 [==============================] - 125s 463ms/step - loss: 0.0179 - accuracy: 0.9991 - val_loss: 1.9583 - val_accuracy: 0.9677\n",
      "Epoch 33/100\n",
      "270/270 [==============================] - 124s 460ms/step - loss: 0.0102 - accuracy: 0.9984 - val_loss: 3.0109 - val_accuracy: 0.9490\n",
      "Epoch 34/100\n",
      "270/270 [==============================] - 125s 465ms/step - loss: 0.0140 - accuracy: 0.9992 - val_loss: 1.6254 - val_accuracy: 0.9667\n",
      "Epoch 35/100\n",
      "270/270 [==============================] - 126s 467ms/step - loss: 0.0054 - accuracy: 0.9995 - val_loss: 2.0427 - val_accuracy: 0.9469\n",
      "Epoch 36/100\n",
      "270/270 [==============================] - 161s 595ms/step - loss: 0.0124 - accuracy: 0.9990 - val_loss: 1.7297 - val_accuracy: 0.9604\n",
      "Epoch 37/100\n",
      "270/270 [==============================] - 127s 470ms/step - loss: 0.0102 - accuracy: 0.9992 - val_loss: 1.7325 - val_accuracy: 0.9604\n",
      "Epoch 38/100\n",
      "270/270 [==============================] - 128s 472ms/step - loss: 0.0315 - accuracy: 0.9984 - val_loss: 1.8054 - val_accuracy: 0.9667\n",
      "Epoch 39/100\n",
      "270/270 [==============================] - 133s 491ms/step - loss: 0.0092 - accuracy: 0.9992 - val_loss: 2.5754 - val_accuracy: 0.9677\n",
      "Epoch 40/100\n",
      "270/270 [==============================] - 157s 581ms/step - loss: 0.0346 - accuracy: 0.9985 - val_loss: 2.2036 - val_accuracy: 0.9688\n",
      "Epoch 41/100\n",
      "270/270 [==============================] - 152s 563ms/step - loss: 0.0054 - accuracy: 0.9991 - val_loss: 2.4611 - val_accuracy: 0.9635\n",
      "Epoch 42/100\n",
      "270/270 [==============================] - 176s 652ms/step - loss: 0.0162 - accuracy: 0.9990 - val_loss: 2.5113 - val_accuracy: 0.9500\n",
      "Epoch 43/100\n",
      "270/270 [==============================] - 138s 511ms/step - loss: 0.0072 - accuracy: 0.9988 - val_loss: 1.8748 - val_accuracy: 0.9646\n",
      "Epoch 44/100\n",
      "270/270 [==============================] - 129s 477ms/step - loss: 0.0043 - accuracy: 0.9997 - val_loss: 1.9120 - val_accuracy: 0.9677\n",
      "Epoch 45/100\n",
      "270/270 [==============================] - 165s 612ms/step - loss: 0.0024 - accuracy: 0.9998 - val_loss: 1.9775 - val_accuracy: 0.9646\n",
      "Epoch 46/100\n",
      "270/270 [==============================] - 142s 524ms/step - loss: 0.0016 - accuracy: 0.9997 - val_loss: 2.0685 - val_accuracy: 0.9667\n",
      "Epoch 47/100\n",
      "270/270 [==============================] - 148s 548ms/step - loss: 0.0055 - accuracy: 0.9995 - val_loss: 1.8710 - val_accuracy: 0.9667\n",
      "Epoch 48/100\n",
      "270/270 [==============================] - 133s 493ms/step - loss: 0.0365 - accuracy: 0.9987 - val_loss: 2.2393 - val_accuracy: 0.9625\n",
      "Epoch 49/100\n",
      "270/270 [==============================] - 122s 452ms/step - loss: 0.0151 - accuracy: 0.9990 - val_loss: 2.1516 - val_accuracy: 0.9594\n",
      "Epoch 50/100\n",
      "270/270 [==============================] - 120s 444ms/step - loss: 0.0061 - accuracy: 0.9992 - val_loss: 2.3807 - val_accuracy: 0.9615\n",
      "Epoch 51/100\n",
      "270/270 [==============================] - 144s 532ms/step - loss: 0.0025 - accuracy: 0.9994 - val_loss: 1.9708 - val_accuracy: 0.9688\n",
      "Epoch 52/100\n",
      "270/270 [==============================] - 122s 453ms/step - loss: 0.0101 - accuracy: 0.9991 - val_loss: 2.1906 - val_accuracy: 0.9635\n",
      "Epoch 53/100\n",
      "270/270 [==============================] - 120s 445ms/step - loss: 0.0104 - accuracy: 0.9990 - val_loss: 1.9420 - val_accuracy: 0.9667\n",
      "Epoch 54/100\n",
      "270/270 [==============================] - 122s 453ms/step - loss: 0.0234 - accuracy: 0.9992 - val_loss: 2.0098 - val_accuracy: 0.9677\n",
      "Epoch 55/100\n",
      "270/270 [==============================] - 139s 514ms/step - loss: 3.7169e-04 - accuracy: 0.9998 - val_loss: 2.1370 - val_accuracy: 0.9646\n",
      "Epoch 56/100\n",
      "270/270 [==============================] - 132s 490ms/step - loss: 0.0067 - accuracy: 0.9993 - val_loss: 2.3430 - val_accuracy: 0.9604\n",
      "Epoch 57/100\n",
      "270/270 [==============================] - 150s 553ms/step - loss: 0.0056 - accuracy: 0.9992 - val_loss: 2.0001 - val_accuracy: 0.9688\n",
      "Epoch 58/100\n",
      "270/270 [==============================] - 143s 530ms/step - loss: 0.0045 - accuracy: 0.9994 - val_loss: 2.1232 - val_accuracy: 0.9688\n",
      "Epoch 59/100\n",
      "270/270 [==============================] - 126s 461ms/step - loss: 0.0154 - accuracy: 0.9993 - val_loss: 2.2089 - val_accuracy: 0.9635\n",
      "Epoch 60/100\n",
      "270/270 [==============================] - 144s 532ms/step - loss: 0.0094 - accuracy: 0.9993 - val_loss: 2.3599 - val_accuracy: 0.9635\n",
      "Epoch 61/100\n",
      "270/270 [==============================] - 119s 442ms/step - loss: 0.0043 - accuracy: 0.9994 - val_loss: 2.2459 - val_accuracy: 0.9688\n",
      "Epoch 62/100\n",
      "270/270 [==============================] - 119s 441ms/step - loss: 2.5435e-04 - accuracy: 0.9999 - val_loss: 2.2273 - val_accuracy: 0.9688\n",
      "Epoch 63/100\n",
      "270/270 [==============================] - 134s 496ms/step - loss: 0.0065 - accuracy: 0.9997 - val_loss: 2.0903 - val_accuracy: 0.9698\n",
      "Epoch 64/100\n",
      "270/270 [==============================] - 159s 588ms/step - loss: 7.6926e-04 - accuracy: 0.9998 - val_loss: 2.0826 - val_accuracy: 0.9688\n",
      "Epoch 65/100\n",
      "270/270 [==============================] - 136s 505ms/step - loss: 2.4347e-04 - accuracy: 0.9999 - val_loss: 2.0579 - val_accuracy: 0.9698\n",
      "Epoch 66/100\n",
      "270/270 [==============================] - 150s 557ms/step - loss: 2.2550e-04 - accuracy: 0.9999 - val_loss: 2.0562 - val_accuracy: 0.9698\n",
      "Epoch 67/100\n",
      "270/270 [==============================] - 194s 721ms/step - loss: 2.5367e-04 - accuracy: 0.9999 - val_loss: 2.0932 - val_accuracy: 0.9677\n",
      "Epoch 68/100\n",
      "270/270 [==============================] - 161s 598ms/step - loss: 0.0120 - accuracy: 0.9988 - val_loss: 2.9836 - val_accuracy: 0.9604\n",
      "Epoch 69/100\n",
      "270/270 [==============================] - 183s 679ms/step - loss: 0.0023 - accuracy: 0.9995 - val_loss: 2.3657 - val_accuracy: 0.9625\n",
      "Epoch 70/100\n",
      "270/270 [==============================] - 153s 567ms/step - loss: 0.0027 - accuracy: 0.9997 - val_loss: 2.0557 - val_accuracy: 0.9635\n",
      "Epoch 71/100\n",
      "270/270 [==============================] - 198s 736ms/step - loss: 2.6232e-04 - accuracy: 0.9999 - val_loss: 2.0593 - val_accuracy: 0.9635\n",
      "Epoch 72/100\n",
      "270/270 [==============================] - 185s 686ms/step - loss: 2.4361e-04 - accuracy: 0.9999 - val_loss: 2.0718 - val_accuracy: 0.9635\n",
      "Epoch 73/100\n",
      "270/270 [==============================] - 207s 769ms/step - loss: 2.3332e-04 - accuracy: 0.9999 - val_loss: 2.0768 - val_accuracy: 0.9635\n",
      "Epoch 74/100\n",
      "270/270 [==============================] - 191s 706ms/step - loss: 2.2658e-04 - accuracy: 0.9999 - val_loss: 2.0770 - val_accuracy: 0.9646\n",
      "Epoch 75/100\n",
      "270/270 [==============================] - 191s 708ms/step - loss: 2.7270e-04 - accuracy: 0.9999 - val_loss: 2.1402 - val_accuracy: 0.9667\n",
      "Epoch 76/100\n",
      "270/270 [==============================] - 175s 649ms/step - loss: 0.0097 - accuracy: 0.9994 - val_loss: 2.4043 - val_accuracy: 0.9667\n",
      "Epoch 77/100\n",
      "270/270 [==============================] - 180s 667ms/step - loss: 0.0041 - accuracy: 0.9994 - val_loss: 2.6562 - val_accuracy: 0.9646\n",
      "Epoch 78/100\n",
      "270/270 [==============================] - 172s 635ms/step - loss: 0.0038 - accuracy: 0.9995 - val_loss: 2.3511 - val_accuracy: 0.9646\n",
      "Epoch 79/100\n",
      "270/270 [==============================] - 186s 690ms/step - loss: 2.1651e-04 - accuracy: 0.9999 - val_loss: 2.3636 - val_accuracy: 0.9646\n",
      "Epoch 80/100\n",
      "270/270 [==============================] - 131s 486ms/step - loss: 0.0125 - accuracy: 0.9993 - val_loss: 2.6021 - val_accuracy: 0.9625\n",
      "Epoch 81/100\n",
      "270/270 [==============================] - 129s 478ms/step - loss: 0.0035 - accuracy: 0.9997 - val_loss: 2.6697 - val_accuracy: 0.9656\n",
      "Epoch 82/100\n",
      "270/270 [==============================] - 128s 472ms/step - loss: 2.3918e-04 - accuracy: 0.9999 - val_loss: 2.7042 - val_accuracy: 0.9667\n",
      "Epoch 83/100\n",
      "270/270 [==============================] - 157s 582ms/step - loss: 0.0040 - accuracy: 0.9997 - val_loss: 3.0348 - val_accuracy: 0.9646\n",
      "Epoch 84/100\n",
      "270/270 [==============================] - 153s 567ms/step - loss: 0.0125 - accuracy: 0.9994 - val_loss: 2.8857 - val_accuracy: 0.9677\n",
      "Epoch 85/100\n",
      "270/270 [==============================] - 190s 704ms/step - loss: 2.4546e-04 - accuracy: 0.9999 - val_loss: 2.8049 - val_accuracy: 0.9646\n",
      "Epoch 86/100\n",
      "270/270 [==============================] - 190s 705ms/step - loss: 0.0045 - accuracy: 0.9998 - val_loss: 2.8443 - val_accuracy: 0.9656\n",
      "Epoch 87/100\n",
      "270/270 [==============================] - 168s 620ms/step - loss: 2.3622e-04 - accuracy: 0.9999 - val_loss: 2.8383 - val_accuracy: 0.9677\n",
      "Epoch 88/100\n",
      "270/270 [==============================] - 168s 623ms/step - loss: 2.4163e-04 - accuracy: 0.9999 - val_loss: 2.8890 - val_accuracy: 0.9677\n",
      "Epoch 89/100\n",
      "270/270 [==============================] - 184s 684ms/step - loss: 8.1508e-04 - accuracy: 0.9998 - val_loss: 3.5000 - val_accuracy: 0.9521\n",
      "Epoch 90/100\n",
      "270/270 [==============================] - 143s 528ms/step - loss: 8.3487e-04 - accuracy: 0.9998 - val_loss: 2.8753 - val_accuracy: 0.9656\n",
      "Epoch 91/100\n",
      "270/270 [==============================] - 186s 689ms/step - loss: 5.2350e-04 - accuracy: 0.9998 - val_loss: 3.7692 - val_accuracy: 0.9573\n",
      "Epoch 92/100\n",
      "270/270 [==============================] - 291s 1s/step - loss: 2.3124e-04 - accuracy: 0.9999 - val_loss: 2.8666 - val_accuracy: 0.9688\n",
      "Epoch 93/100\n",
      "270/270 [==============================] - 191s 706ms/step - loss: 2.0229e-04 - accuracy: 0.9999 - val_loss: 2.8832 - val_accuracy: 0.9688\n",
      "Epoch 94/100\n",
      "270/270 [==============================] - 156s 576ms/step - loss: 6.4746e-04 - accuracy: 0.9997 - val_loss: 3.3969 - val_accuracy: 0.9688\n",
      "Epoch 95/100\n",
      "270/270 [==============================] - 148s 546ms/step - loss: 2.1774e-04 - accuracy: 0.9999 - val_loss: 2.9912 - val_accuracy: 0.9667\n",
      "Epoch 96/100\n",
      "270/270 [==============================] - 161s 597ms/step - loss: 2.2186e-04 - accuracy: 0.9999 - val_loss: 3.0088 - val_accuracy: 0.9646\n",
      "Epoch 97/100\n",
      "270/270 [==============================] - 189s 702ms/step - loss: 0.0031 - accuracy: 0.9998 - val_loss: 3.0874 - val_accuracy: 0.9677\n",
      "Epoch 98/100\n",
      "270/270 [==============================] - 145s 535ms/step - loss: 0.0015 - accuracy: 0.9998 - val_loss: 2.9397 - val_accuracy: 0.9646\n",
      "Epoch 99/100\n",
      "270/270 [==============================] - 182s 675ms/step - loss: 2.2030e-04 - accuracy: 0.9999 - val_loss: 2.9569 - val_accuracy: 0.9635\n",
      "Epoch 100/100\n",
      "270/270 [==============================] - 159s 588ms/step - loss: 9.9241e-04 - accuracy: 0.9998 - val_loss: 3.0275 - val_accuracy: 0.9646\n"
     ]
    }
   ],
   "source": [
    "history = model.fit(x_train, y_tr, epochs=num_epochs, validation_split=0.1, shuffle=True, batch_size=batch_size)"
   ]
  },
  {
   "cell_type": "code",
   "execution_count": 54,
   "metadata": {},
   "outputs": [
    {
     "name": "stdout",
     "output_type": "stream",
     "text": [
      "34/34 [==============================] - 8s 204ms/step - loss: 3.8280 - accuracy: 0.9616\n"
     ]
    }
   ],
   "source": [
    "# evaluate on test data\n",
    "results = model.evaluate(x_test, y_tst)"
   ]
  },
  {
   "cell_type": "code",
   "execution_count": 55,
   "metadata": {},
   "outputs": [
    {
     "name": "stdout",
     "output_type": "stream",
     "text": [
      "2/2 [==============================] - 20s 720ms/step\n"
     ]
    }
   ],
   "source": [
    "# predict model\n",
    "predictions = model.predict(cnnTestData, batch_size=1024, verbose=1)"
   ]
  },
  {
   "cell_type": "markdown",
   "metadata": {},
   "source": [
    "### Testing few sentences using our model"
   ]
  },
  {
   "cell_type": "code",
   "execution_count": 56,
   "metadata": {},
   "outputs": [],
   "source": [
    "\n",
    "labels = ['0', '1', '2']\n",
    "\n",
    "def makeprediction(texts):\n",
    "    tk = Tokenizer()\n",
    "    tk.fit_on_texts(texts)\n",
    "    index_list = tk.texts_to_sequences(texts)\n",
    "    x_train = pad_sequences(index_list, maxlen=150)\n",
    "    pred = model.predict(x_train)\n",
    "    result = labels[np.argmax(pred)]\n",
    "    return result"
   ]
  },
  {
   "cell_type": "code",
   "execution_count": 57,
   "metadata": {},
   "outputs": [],
   "source": [
    "prediction_labels=[]\n",
    "for p in predictions:\n",
    "    prediction_labels.append(labels[np.argmax(p)])"
   ]
  },
  {
   "cell_type": "code",
   "execution_count": 58,
   "metadata": {},
   "outputs": [
    {
     "data": {
      "text/plain": [
       "0.9615745079662605"
      ]
     },
     "execution_count": 58,
     "metadata": {},
     "output_type": "execute_result"
    }
   ],
   "source": [
    "sum(data_test.Label==prediction_labels)/len(prediction_labels)"
   ]
  },
  {
   "cell_type": "code",
   "execution_count": 59,
   "metadata": {},
   "outputs": [
    {
     "data": {
      "text/plain": [
       "1    373\n",
       "2    355\n",
       "0    339\n",
       "Name: Label, dtype: int64"
      ]
     },
     "execution_count": 59,
     "metadata": {},
     "output_type": "execute_result"
    }
   ],
   "source": [
    "data_test.Label.value_counts()"
   ]
  },
  {
   "cell_type": "code",
   "execution_count": 60,
   "metadata": {},
   "outputs": [
    {
     "data": {
      "image/png": "[encoded data removed]",
      "text/plain": [
       "<Figure size 432x288 with 2 Axes>"
      ]
     },
     "metadata": {
      "needs_background": "light"
     },
     "output_type": "display_data"
    }
   ],
   "source": [
    "plt.figure(1)\n",
    "# summarize history for accuracy\n",
    "plt.subplot(211)\n",
    "plt.plot(history.history['accuracy'])\n",
    "plt.plot(history.history['val_accuracy'])\n",
    "plt.title('model accuracy')\n",
    "plt.ylabel('accuracy')\n",
    "plt.xlabel('epoch')\n",
    "plt.legend(['train', 'val'], loc='upper left')\n",
    "# summarize history for loss\n",
    "plt.subplot(212)\n",
    "plt.plot(history.history['loss'])\n",
    "plt.plot(history.history['val_loss'])\n",
    "plt.title('model loss')\n",
    "plt.ylabel('loss')\n",
    "plt.xlabel('epoch')\n",
    "plt.legend(['train', 'val'], loc='upper left')\n",
    "plt.tight_layout()\n",
    "plt.show()"
   ]
  },
  {
   "cell_type": "code",
   "execution_count": 61,
   "metadata": {},
   "outputs": [
    {
     "name": "stdout",
     "output_type": "stream",
     "text": [
      "Confusion Matrix :\n",
      "[[331   3   5]\n",
      " [  2 359  12]\n",
      " [ 14   5 336]]\n",
      "Accuracy Score : 0.9615745079662605\n",
      "Report : \n",
      "              precision    recall  f1-score   support\n",
      "\n",
      "           0       0.95      0.98      0.97       339\n",
      "           1       0.98      0.96      0.97       373\n",
      "           2       0.95      0.95      0.95       355\n",
      "\n",
      "    accuracy                           0.96      1067\n",
      "   macro avg       0.96      0.96      0.96      1067\n",
      "weighted avg       0.96      0.96      0.96      1067\n",
      "\n"
     ]
    }
   ],
   "source": [
    "results = confusion_matrix(data_test.Label, prediction_labels)\n",
    "print ('Confusion Matrix :')\n",
    "print(results) \n",
    "print ('Accuracy Score :',accuracy_score(data_test.Label, prediction_labels))\n",
    "print ('Report : ')\n",
    "print (classification_report(data_test.Label, prediction_labels))"
   ]
  },
  {
   "cell_type": "code",
   "execution_count": 62,
   "metadata": {},
   "outputs": [
    {
     "name": "stdout",
     "output_type": "stream",
     "text": [
      "                        Convolution Neural Network\n"
     ]
    },
    {
     "data": {
      "image/png": "[encoded data removed]",
      "text/plain": [
       "<Figure size 360x360 with 2 Axes>"
      ]
     },
     "metadata": {
      "needs_background": "light"
     },
     "output_type": "display_data"
    }
   ],
   "source": [
    "from sklearn.metrics import confusion_matrix\n",
    "print(\"                        Convolution Neural Network\")\n",
    "conf_mat = confusion_matrix(data_test.Label, prediction_labels)\n",
    "fig, ax = plt.subplots(figsize=(5,5))\n",
    "sns.heatmap(conf_mat, annot=True, fmt='d', cmap ='YlGnBu',\n",
    "            xticklabels=category_id_df.Label.values, yticklabels=category_id_df.Label.values)\n",
    "plt.ylabel('Actual')\n",
    "plt.xlabel('Predicted')\n",
    "plt.show()"
   ]
  },
  {
   "cell_type": "markdown",
   "metadata": {},
   "source": [
    "### Testing CNN using KFold cross validation"
   ]
  },
  {
   "cell_type": "code",
   "execution_count": 63,
   "metadata": {},
   "outputs": [
    {
     "name": "stdout",
     "output_type": "stream",
     "text": [
      "Fold:  1\n",
      "Epoch 1/5\n",
      "270/270 [==============================] - 201s 712ms/step - loss: 0.4309 - accuracy: 0.9028 - val_loss: 0.1674 - val_accuracy: 0.9333\n",
      "Epoch 2/5\n",
      "270/270 [==============================] - 237s 878ms/step - loss: 0.1448 - accuracy: 0.9594 - val_loss: 0.2548 - val_accuracy: 0.9417\n",
      "Epoch 3/5\n",
      "270/270 [==============================] - 224s 829ms/step - loss: 0.0909 - accuracy: 0.9790 - val_loss: 0.3073 - val_accuracy: 0.9563\n",
      "Epoch 4/5\n",
      "270/270 [==============================] - 236s 869ms/step - loss: 0.0718 - accuracy: 0.9862 - val_loss: 0.4133 - val_accuracy: 0.9417\n",
      "Epoch 5/5\n",
      "270/270 [==============================] - 214s 795ms/step - loss: 0.0556 - accuracy: 0.9878 - val_loss: 0.4378 - val_accuracy: 0.9521\n",
      "Results for current fold:\n",
      "9/9 [==============================] - 10s 674ms/step - loss: 0.3297 - accuracy: 0.9616\n",
      "Fold:  2\n",
      "Epoch 1/5\n",
      "270/270 [==============================] - 142s 522ms/step - loss: 0.4013 - accuracy: 0.8951 - val_loss: 0.2687 - val_accuracy: 0.9323\n",
      "Epoch 2/5\n",
      "270/270 [==============================] - 247s 910ms/step - loss: 0.1456 - accuracy: 0.9570 - val_loss: 0.3466 - val_accuracy: 0.9229\n",
      "Epoch 3/5\n",
      "270/270 [==============================] - 219s 811ms/step - loss: 0.1026 - accuracy: 0.9752 - val_loss: 0.2022 - val_accuracy: 0.9615\n",
      "Epoch 4/5\n",
      "270/270 [==============================] - 160s 590ms/step - loss: 0.0735 - accuracy: 0.9840 - val_loss: 0.7539 - val_accuracy: 0.9240\n",
      "Epoch 5/5\n",
      "270/270 [==============================] - 131s 486ms/step - loss: 0.0709 - accuracy: 0.9876 - val_loss: 0.5589 - val_accuracy: 0.9500\n",
      "Results for current fold:\n",
      "9/9 [==============================] - 6s 669ms/step - loss: 0.1860 - accuracy: 0.9766\n",
      "Fold:  3\n",
      "Epoch 1/5\n",
      "270/270 [==============================] - 167s 614ms/step - loss: 0.4120 - accuracy: 0.9015 - val_loss: 0.1932 - val_accuracy: 0.9542\n",
      "Epoch 2/5\n",
      "270/270 [==============================] - 5024s 19s/step - loss: 0.1466 - accuracy: 0.9594 - val_loss: 0.1798 - val_accuracy: 0.9594\n",
      "Epoch 3/5\n",
      "270/270 [==============================] - 220s 817ms/step - loss: 0.0871 - accuracy: 0.9779 - val_loss: 0.5668 - val_accuracy: 0.9292\n",
      "Epoch 4/5\n",
      "270/270 [==============================] - 162s 601ms/step - loss: 0.0774 - accuracy: 0.9846 - val_loss: 0.3858 - val_accuracy: 0.9625\n",
      "Epoch 5/5\n",
      "270/270 [==============================] - 133s 491ms/step - loss: 0.0615 - accuracy: 0.9898 - val_loss: 0.5400 - val_accuracy: 0.9323\n",
      "Results for current fold:\n",
      "9/9 [==============================] - 7s 744ms/step - loss: 0.4326 - accuracy: 0.9391\n",
      "Fold:  4\n",
      "Epoch 1/5\n",
      "270/270 [==============================] - 123s 451ms/step - loss: 0.4172 - accuracy: 0.8974 - val_loss: 0.1574 - val_accuracy: 0.9521\n",
      "Epoch 2/5\n",
      "270/270 [==============================] - 136s 505ms/step - loss: 0.1425 - accuracy: 0.9594 - val_loss: 0.1148 - val_accuracy: 0.9708\n",
      "Epoch 3/5\n",
      "270/270 [==============================] - 132s 490ms/step - loss: 0.1116 - accuracy: 0.9755 - val_loss: 0.1529 - val_accuracy: 0.9677\n",
      "Epoch 4/5\n",
      "270/270 [==============================] - 124s 458ms/step - loss: 0.0734 - accuracy: 0.9849 - val_loss: 0.2824 - val_accuracy: 0.9375\n",
      "Epoch 5/5\n",
      "270/270 [==============================] - 123s 456ms/step - loss: 0.0617 - accuracy: 0.9888 - val_loss: 0.3585 - val_accuracy: 0.9375\n",
      "Results for current fold:\n",
      "9/9 [==============================] - 23s 725ms/step - loss: 0.4483 - accuracy: 0.9447\n",
      "Fold:  5\n",
      "Epoch 1/5\n",
      "270/270 [==============================] - 130s 477ms/step - loss: 0.3936 - accuracy: 0.9010 - val_loss: 0.2224 - val_accuracy: 0.9312\n",
      "Epoch 2/5\n",
      "270/270 [==============================] - 124s 459ms/step - loss: 0.1371 - accuracy: 0.9619 - val_loss: 0.3019 - val_accuracy: 0.9354\n",
      "Epoch 3/5\n",
      "270/270 [==============================] - 127s 472ms/step - loss: 0.0840 - accuracy: 0.9814 - val_loss: 0.3976 - val_accuracy: 0.9531\n",
      "Epoch 4/5\n",
      "270/270 [==============================] - 127s 470ms/step - loss: 0.0746 - accuracy: 0.9847 - val_loss: 0.3668 - val_accuracy: 0.9604\n",
      "Epoch 5/5\n",
      "270/270 [==============================] - 129s 476ms/step - loss: 0.0589 - accuracy: 0.9877 - val_loss: 0.4873 - val_accuracy: 0.9604\n",
      "Results for current fold:\n",
      "9/9 [==============================] - 6s 608ms/step - loss: 0.3849 - accuracy: 0.9700\n",
      "Fold:  6\n",
      "Epoch 1/5\n",
      "270/270 [==============================] - 123s 450ms/step - loss: 0.4149 - accuracy: 0.9013 - val_loss: 0.3025 - val_accuracy: 0.9000\n",
      "Epoch 2/5\n",
      "270/270 [==============================] - 211s 783ms/step - loss: 0.1545 - accuracy: 0.9559 - val_loss: 0.1774 - val_accuracy: 0.9521\n",
      "Epoch 3/5\n",
      "270/270 [==============================] - 166s 611ms/step - loss: 0.0914 - accuracy: 0.9795 - val_loss: 0.2068 - val_accuracy: 0.9594\n",
      "Epoch 4/5\n",
      "270/270 [==============================] - 215s 795ms/step - loss: 0.0767 - accuracy: 0.9859 - val_loss: 0.2889 - val_accuracy: 0.9542\n",
      "Epoch 5/5\n",
      "270/270 [==============================] - 210s 781ms/step - loss: 0.0667 - accuracy: 0.9861 - val_loss: 0.3865 - val_accuracy: 0.9573\n",
      "Results for current fold:\n",
      "9/9 [==============================] - 22s 2s/step - loss: 0.2370 - accuracy: 0.9747\n",
      "Fold:  7\n",
      "Epoch 1/5\n",
      "270/270 [==============================] - 216s 772ms/step - loss: 0.4313 - accuracy: 0.8989 - val_loss: 0.2300 - val_accuracy: 0.9469\n",
      "Epoch 2/5\n",
      "270/270 [==============================] - 212s 785ms/step - loss: 0.1522 - accuracy: 0.9601 - val_loss: 0.3105 - val_accuracy: 0.9292\n",
      "Epoch 3/5\n",
      "270/270 [==============================] - 129s 479ms/step - loss: 0.1017 - accuracy: 0.9773 - val_loss: 0.3435 - val_accuracy: 0.9469\n",
      "Epoch 4/5\n",
      "270/270 [==============================] - 125s 462ms/step - loss: 0.0779 - accuracy: 0.9848 - val_loss: 0.5393 - val_accuracy: 0.9427\n",
      "Epoch 5/5\n",
      "270/270 [==============================] - 142s 525ms/step - loss: 0.0661 - accuracy: 0.9889 - val_loss: 0.2969 - val_accuracy: 0.9573\n",
      "Results for current fold:\n",
      "9/9 [==============================] - 6s 621ms/step - loss: 0.3862 - accuracy: 0.9541\n",
      "Fold:  8\n",
      "Epoch 1/5\n",
      "270/270 [==============================] - 143s 523ms/step - loss: 0.3810 - accuracy: 0.9084 - val_loss: 0.1626 - val_accuracy: 0.9469\n",
      "Epoch 2/5\n",
      "270/270 [==============================] - 164s 610ms/step - loss: 0.1440 - accuracy: 0.9607 - val_loss: 0.1881 - val_accuracy: 0.9552\n",
      "Epoch 3/5\n",
      "270/270 [==============================] - 266s 981ms/step - loss: 0.0964 - accuracy: 0.9785 - val_loss: 0.5745 - val_accuracy: 0.9302\n",
      "Epoch 4/5\n",
      "270/270 [==============================] - 141s 523ms/step - loss: 0.0777 - accuracy: 0.9856 - val_loss: 0.7931 - val_accuracy: 0.9135\n",
      "Epoch 5/5\n",
      "270/270 [==============================] - 180s 668ms/step - loss: 0.0726 - accuracy: 0.9875 - val_loss: 0.3686 - val_accuracy: 0.9646\n",
      "Results for current fold:\n",
      "9/9 [==============================] - 15s 1s/step - loss: 0.3945 - accuracy: 0.9625\n",
      "Fold:  9\n",
      "Epoch 1/5\n",
      "270/270 [==============================] - 257s 931ms/step - loss: 0.4486 - accuracy: 0.8971 - val_loss: 0.2328 - val_accuracy: 0.9323\n",
      "Epoch 2/5\n",
      "270/270 [==============================] - 184s 682ms/step - loss: 0.1488 - accuracy: 0.9624 - val_loss: 0.1474 - val_accuracy: 0.9615\n",
      "Epoch 3/5\n",
      "270/270 [==============================] - 142s 526ms/step - loss: 0.0891 - accuracy: 0.9805 - val_loss: 0.2362 - val_accuracy: 0.9583\n",
      "Epoch 4/5\n",
      "270/270 [==============================] - 131s 484ms/step - loss: 0.0725 - accuracy: 0.9855 - val_loss: 0.3440 - val_accuracy: 0.9625\n",
      "Epoch 5/5\n",
      "270/270 [==============================] - 196s 726ms/step - loss: 0.0695 - accuracy: 0.9898 - val_loss: 0.3040 - val_accuracy: 0.9615\n",
      "Results for current fold:\n",
      "9/9 [==============================] - 25s 1s/step - loss: 0.2382 - accuracy: 0.9588\n",
      "Fold:  10\n",
      "Epoch 1/5\n",
      "270/270 [==============================] - 259s 814ms/step - loss: 0.3743 - accuracy: 0.9045 - val_loss: 0.1655 - val_accuracy: 0.9500\n",
      "Epoch 2/5\n",
      "270/270 [==============================] - 126s 468ms/step - loss: 0.1446 - accuracy: 0.9597 - val_loss: 0.1726 - val_accuracy: 0.9656\n",
      "Epoch 3/5\n",
      "270/270 [==============================] - 130s 481ms/step - loss: 0.0889 - accuracy: 0.9795 - val_loss: 0.4752 - val_accuracy: 0.9083\n",
      "Epoch 4/5\n",
      "270/270 [==============================] - 128s 475ms/step - loss: 0.0805 - accuracy: 0.9832 - val_loss: 0.5781 - val_accuracy: 0.9344\n"
     ]
    },
    {
     "name": "stdout",
     "output_type": "stream",
     "text": [
      "Epoch 5/5\n",
      "270/270 [==============================] - 142s 526ms/step - loss: 0.0591 - accuracy: 0.9881 - val_loss: 0.3168 - val_accuracy: 0.9729\n",
      "Results for current fold:\n",
      "9/9 [==============================] - 8s 734ms/step - loss: 0.3158 - accuracy: 0.9644\n"
     ]
    }
   ],
   "source": [
    "from sklearn.model_selection import StratifiedKFold\n",
    "from scipy.stats import zscore\n",
    "from sklearn import metrics\n",
    "import tensorflow as tf\n",
    "import random\n",
    "\n",
    "f_score=[]\n",
    "fold = 10\n",
    "label_names = ['0', '1', '2']\n",
    "num_epochs = 5\n",
    "batch_size = 32\n",
    "#oos_y = []\n",
    "#oos_pred = []\n",
    "results = []\n",
    "#for train, test in kf.split(data[\"tokens\"], data['Label']):\n",
    "\n",
    "for i in range(fold):\n",
    "    print(\"Fold: \", i+1)\n",
    "    random_num = np.random.randint(1,7000, 1)[0]\n",
    "    data_train, data_test = train_test_split(data, test_size=0.10, shuffle = True, random_state = random_num)\n",
    "\n",
    "    # # total training words\n",
    "    totalTrainingWords = [word for tokens in data_train[\"tokens\"] for word in tokens]\n",
    "\n",
    "    # # Storing Length of the training sentence\n",
    "    lengthTrainingSentences = [len(tokens) for tokens in data_train[\"tokens\"]]\n",
    "\n",
    "    # # training Vocabulary size\n",
    "    trainingVocabSize = sorted(list(set(totalTrainingWords)))\n",
    "\n",
    "    ## Total number of lines\n",
    "    linesCount = len(data_train[\"tokens\"])\n",
    "    \n",
    "    tokenizer = Tokenizer(num_words=len(trainingVocabSize), lower=True, char_level=False)\n",
    "    tokenizer.fit_on_texts(data_train[\"Text_Final\"].tolist())\n",
    "    training_sequences = tokenizer.texts_to_sequences(data_train[\"Text_Final\"].tolist())\n",
    "\n",
    "    train_word_index = tokenizer.word_index\n",
    "    cnnTrainData = pad_sequences(training_sequences, maxlen=MAX_SEQUENCE_LENGTH)\n",
    "    \n",
    "    train_embedding_weights = np.zeros((len(train_word_index)+1, EMBEDDING_DIM))\n",
    "    \n",
    "    for word,index in train_word_index.items():\n",
    "        train_embedding_weights[index,:] = word2vec[word] if word in word2vec else np.random.rand(EMBEDDING_DIM)\n",
    "        \n",
    "    test_sequences = tokenizer.texts_to_sequences(data_test[\"Text_Final\"].tolist())\n",
    "    cnnTestData = pad_sequences(test_sequences, maxlen= MAX_SEQUENCE_LENGTH)\n",
    "    \n",
    "    # Splitting train data into X_train and y_train\n",
    "    y_train = data_train[label_names].values\n",
    "    x_train = cnnTrainData\n",
    "    y_tr = y_train\n",
    "    \n",
    "    # Splitting train data into X_test and y_test\n",
    "    y_test = data_test[label_names].values\n",
    "    x_test = cnnTestData\n",
    "    y_tst = y_test\n",
    "    \n",
    "    # create model\n",
    "    model = ConvolutionalNeuralNet(train_embedding_weights, MAX_SEQUENCE_LENGTH, len(train_word_index)+1, EMBEDDING_DIM, len(list(label_names)))\n",
    "    \n",
    "    #Train Model\n",
    "    history = model.fit(x_train, y_tr, epochs=num_epochs, validation_split=0.1, shuffle=True, batch_size=batch_size)\n",
    "      \n",
    "    # model evaluate\n",
    "    \n",
    "    print(\"Results for current fold:\")\n",
    "    results.append(model.evaluate(x_test, y_tst, batch_size=128))\n",
    "\n",
    "#     predictions = model.predict(cnnTestData, batch_size=1024, verbose=0)\n",
    "#     oos_y.append(y_test)\n",
    "#     oos_pred.append(predictions)\n",
    "    \n",
    "    #score = np.sqrt(metrics.mean_squared_error(predictions, y_test))\n",
    "#    f_score.append(count)\n",
    "\n",
    "model.save('model_CNN.h5')    "
   ]
  },
  {
   "cell_type": "code",
   "execution_count": 64,
   "metadata": {},
   "outputs": [
    {
     "name": "stdout",
     "output_type": "stream",
     "text": [
      "Kfold Mean:  0.9606372952461243\n"
     ]
    }
   ],
   "source": [
    "import statistics \n",
    "# for i in range(len(results)):\n",
    "#     print(\"Fold: \", i+1)\n",
    "#     print(\"test loss, test acc:\", results[i])\n",
    "\n",
    "score = []\n",
    "for i in results:\n",
    "    score.append(i[1])\n",
    "x = statistics.mean(score)\n",
    "    \n",
    "print(\"Kfold Mean: \", x)"
   ]
  },
  {
   "cell_type": "code",
   "execution_count": 65,
   "metadata": {},
   "outputs": [],
   "source": [
    "translator = Translator()"
   ]
  },
  {
   "cell_type": "code",
   "execution_count": 66,
   "metadata": {},
   "outputs": [
    {
     "name": "stdout",
     "output_type": "stream",
     "text": [
      "Hindi:  इसलाम सुंदर है\n",
      "Translated: Islam is beautiful\n",
      "Predicted Label:  0\n"
     ]
    }
   ],
   "source": [
    "# 1\n",
    "hin_text =  \"इसलाम सुंदर है\"\n",
    "print(\"Hindi: \", hin_text)\n",
    "\n",
    "trans = translator.translate(hin_text, dest='en')\n",
    "print('Translated:', trans.text)\n",
    "texts = [trans.text]\n",
    "print('Predicted Label: ',makeprediction(texts))"
   ]
  },
  {
   "cell_type": "code",
   "execution_count": 67,
   "metadata": {},
   "outputs": [
    {
     "name": "stdout",
     "output_type": "stream",
     "text": [
      "Hindi:   समाज वादी  पार्टी जिंदाबाद \n",
      "Translated: Society Wadi Party Zindabad\n",
      "Predicted Label:  0\n"
     ]
    }
   ],
   "source": [
    "# 0\n",
    "hin_text =  \" समाज वादी  पार्टी जिंदाबाद \"\n",
    "print(\"Hindi: \", hin_text)\n",
    "\n",
    "trans = translator.translate(hin_text, dest='en')\n",
    "print('Translated:', trans.text)\n",
    "texts = [trans.text]\n",
    "print('Predicted Label: ',makeprediction(texts))"
   ]
  },
  {
   "cell_type": "code",
   "execution_count": 68,
   "metadata": {},
   "outputs": [
    {
     "name": "stdout",
     "output_type": "stream",
     "text": [
      "Hindi:  'गाजा में दीवाली की ढेरो बधाई मित्रो 😊💐  #IsraeliBombing 😂😂\n",
      "Translated: 'Happy greetings of Diwali in Gaza 😊💐 #Israelibombing 😂😂\n",
      "Predicted Label:  1\n"
     ]
    }
   ],
   "source": [
    "# 2\n",
    "hin_text =  \"'गाजा में दीवाली की ढेरो बधाई मित्रो 😊💐  #IsraeliBombing 😂😂\"\n",
    "print(\"Hindi: \", hin_text)\n",
    "\n",
    "trans = translator.translate(hin_text, dest='en')\n",
    "print('Translated:', trans.text)\n",
    "texts = [trans.text]\n",
    "print('Predicted Label: ',makeprediction(texts))"
   ]
  },
  {
   "cell_type": "code",
   "execution_count": 69,
   "metadata": {},
   "outputs": [
    {
     "name": "stdout",
     "output_type": "stream",
     "text": [
      "1\n"
     ]
    }
   ],
   "source": [
    "# 0\n",
    "texts = [\"@'England look to clinch Pakistan test series before step into unknown\"]\n",
    "print(makeprediction(texts))"
   ]
  },
  {
   "cell_type": "code",
   "execution_count": 70,
   "metadata": {},
   "outputs": [
    {
     "name": "stdout",
     "output_type": "stream",
     "text": [
      "0\n"
     ]
    }
   ],
   "source": [
    "# 0\n",
    "texts = [\"''In what hopscotch? Cricket?\"]\n",
    "print(makeprediction(texts))"
   ]
  },
  {
   "cell_type": "code",
   "execution_count": 71,
   "metadata": {},
   "outputs": [
    {
     "name": "stdout",
     "output_type": "stream",
     "text": [
      "2\n"
     ]
    }
   ],
   "source": [
    "# 1\n",
    "texts = [\"My tl is filled with Shia-Sunni controversy. I should've deactivated before Moharram started.\"]\n",
    "print(makeprediction(texts))"
   ]
  },
  {
   "cell_type": "code",
   "execution_count": 1,
   "metadata": {},
   "outputs": [
    {
     "data": {
      "image/png": "[encoded data removed]",
      "text/plain": [
       "<Figure size 432x288 with 1 Axes>"
      ]
     },
     "metadata": {},
     "output_type": "display_data"
    }
   ],
   "source": [
    "# for Glove\n",
    "import pandas as pd\n",
    "import seaborn as sns\n",
    "results=pd.DataFrame()\n",
    "dictionary=dict()\n",
    "dictionary['Evaluation Measures']=[\"K Fold\", \"Precision\", \"Recall\", \"F1 Score\"]\n",
    "dictionary['CNN - Glove']=[96, 96, 96, 96]\n",
    "results=pd.DataFrame(dictionary)\n",
    "sns.set_style(style=\"whitegrid\")\n",
    "ax = sns.barplot(x='Evaluation Measures', y= 'CNN - Glove',data=results)"
   ]
  },
  {
   "cell_type": "markdown",
   "metadata": {},
   "source": [
    "### Reference\n",
    "[1] \"Convolutional Neural Networks for Sentence Classification\" by Yoon Kim\n"
   ]
  }
 ],
 "metadata": {
  "kernelspec": {
   "display_name": "Python 3 (ipykernel)",
   "language": "python",
   "name": "python3"
  },
  "language_info": {
   "codemirror_mode": {
    "name": "ipython",
    "version": 3
   },
   "file_extension": ".py",
   "mimetype": "text/x-python",
   "name": "python",
   "nbconvert_exporter": "python",
   "pygments_lexer": "ipython3",
   "version": "3.8.8"
  }
 },
 "nbformat": 4,
 "nbformat_minor": 4
}
